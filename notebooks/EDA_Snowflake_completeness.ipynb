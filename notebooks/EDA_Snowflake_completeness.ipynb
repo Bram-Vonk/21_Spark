{
 "cells": [
  {
   "cell_type": "code",
   "execution_count": null,
   "id": "b4e2fa07",
   "metadata": {},
   "outputs": [],
   "source": [
    "import os\n",
    "import sys\n",
    "sys.path.append(\"../\")\n",
    "\n",
    "import pandas as pd\n",
    "import numpy as np\n",
    "import datetime as dt\n",
    "import re\n",
    "import altair as alt\n",
    "\n",
    "from src.utils.parser import parse_config\n",
    "from src.utils.vault import get_secrets\n",
    "from src.utils.processing import downcast\n",
    "import snowflake.connector\n",
    "\n",
    "config = parse_config(os.path.abspath(os.path.join(os.getcwd(), \"../src/settings.yml\")))"
   ]
  },
  {
   "cell_type": "code",
   "execution_count": null,
   "id": "99d7110c",
   "metadata": {},
   "outputs": [],
   "source": [
    "data_config = get_secrets(\"snowflake\")\n",
    "data_config.update(config[\"snowflake\"][\"data\"])\n",
    "meta_config = config[\"snowflake\"][\"meta_box\"]\n",
    "snowflake_ctx = snowflake.connector.connect(**data_config)"
   ]
  },
  {
   "cell_type": "code",
   "execution_count": null,
   "id": "08a0f939",
   "metadata": {},
   "outputs": [],
   "source": [
    "%%time\n",
    "vestiging = \"Breda\"\n",
    "\n",
    "query = f\"\"\"\n",
    "SELECT t1.BOXID AS boxid\n",
    "FROM {meta_config[\"database\"]}.{meta_config[\"schema\"]}.{meta_config[\"table\"]} t1\n",
    "WHERE t1.VESTIGING LIKE '{vestiging}'\n",
    "\"\"\"\n",
    "\n",
    "df_box = pd.read_sql(sql=query, con=snowflake_ctx)"
   ]
  },
  {
   "cell_type": "code",
   "execution_count": null,
   "id": "37da4d08",
   "metadata": {},
   "outputs": [],
   "source": [
    "%%time\n",
    "ids_breda = df_box.squeeze().to_list()\n",
    "\n",
    "query = f\"\"\"\n",
    "SELECT\n",
    "    t0.BOXID AS boxid,\n",
    "--    t0.CHANNELID AS channelid,\n",
    "    YEAROFWEEKISO(t0.DATUMTIJD) AS year,\n",
    "    WEEKISO(t0.DATUMTIJD) AS week,\n",
    "    COUNT(DISTINCT t0.DATUMTIJD)/(4*24*7) AS COMPLETENESS\n",
    "FROM {data_config[\"database\"]}.{data_config[\"schema\"]}.{data_config[\"table\"]} t0\n",
    "WHERE t0.CHANNELID LIKE 'register://electricity/0/activepower/sumli?avg=15'\n",
    "  AND t0.DATUMTIJD < DATEADD(DAY, -DAYOFWEEKISO(CURRENT_DATE), CURRENT_DATE)\n",
    "  AND t0.BOXID IN ({\",\".join([f\"'{id}'\" for id in ids_breda])})\n",
    "GROUP BY t0.BOXID, t0.CHANNELID, YEAROFWEEKISO(t0.DATUMTIJD), WEEKISO(t0.DATUMTIJD)\n",
    "\"\"\"\n",
    "\n",
    "df_query = (\n",
    "    pd.read_sql(sql=query, con=snowflake_ctx)\n",
    "    .apply(downcast, try_numeric=True, category=True)\n",
    "#     .sort_values([\"YEAR\", \"WEEK\"])\n",
    ")\n",
    "df_query"
   ]
  },
  {
   "cell_type": "code",
   "execution_count": null,
   "id": "567bd50a",
   "metadata": {
    "scrolled": true
   },
   "outputs": [],
   "source": [
    "df = df_query.copy()\n",
    "df[\"DATE\"] =  df.apply(lambda d: dt.datetime.fromisocalendar(d[\"YEAR\"], d[\"WEEK\"], 1), axis=1)\n",
    "df[\"ISO\"] = df.apply(lambda d: f'{d[\"YEAR\"]} - {d[\"WEEK\"]:02}', axis=1)\n",
    "df = df.sort_values([\"DATE\", \"COMPLETENESS\"], ascending=True)\n",
    "\n",
    "df_index = df.drop_duplicates(subset=\"BOXID\")[\"BOXID\"].reset_index(drop=True).reset_index()\n",
    "df = pd.merge(df, df_index, on=\"BOXID\")\n",
    "\n",
    "df"
   ]
  },
  {
   "cell_type": "code",
   "execution_count": null,
   "id": "9135ec99",
   "metadata": {},
   "outputs": [],
   "source": [
    "alt.data_transformers.disable_max_rows()\n",
    "(\n",
    "    alt.Chart(df)\n",
    "    .mark_rect()\n",
    "    .encode(\n",
    "        alt.X(\"ISO:O\", title=\"year - week\"),\n",
    "        alt.Y(\"index:O\", sort='descending', title=f\"# DALI boxes\"),\n",
    "        alt.Color(\"COMPLETENESS:Q\", scale=alt.Scale(scheme=\"greenblue\"), title=\"completeness\"),\n",
    "        alt.Tooltip(\"BOXID\")\n",
    "    )\n",
    "    .properties(\n",
    "        width=800,\n",
    "        height=500,\n",
    "    )\n",
    "    .interactive()\n",
    ")"
   ]
  },
  {
   "cell_type": "code",
   "execution_count": null,
   "id": "d3bfe438",
   "metadata": {},
   "outputs": [],
   "source": [
    "# alternative (big and slow)\n",
    "# %%time\n",
    "# data_config = config[\"snowflake\"][\"data\"]\n",
    "\n",
    "# query = f\"\"\"\n",
    "# SELECT \n",
    "#     t1.*\n",
    "# FROM\n",
    "#     (\n",
    "#     SELECT\n",
    "#         t0.BOXID AS boxid,\n",
    "#     --    t0.CHANNELID AS channelid,\n",
    "#         YEAROFWEEKISO(t0.DATUMTIJD) AS year,\n",
    "#         WEEKISO(t0.DATUMTIJD) AS week,\n",
    "#         COUNT(DISTINCT t0.DATUMTIJD)/(4*24*7) AS COMPLETENESS\n",
    "#     FROM {data_config[\"database\"]}.{data_config[\"schema\"]}.{data_config[\"table\"]} t0\n",
    "#     WHERE t0.CHANNELID LIKE 'register://electricity/0/activepower/sumli?avg=15'\n",
    "#       AND t0.DATUMTIJD < DATEADD(DAY, -DAYOFWEEKISO(CURRENT_DATE), CURRENT_DATE)\n",
    "#     GROUP BY t0.BOXID, t0.CHANNELID, YEAROFWEEKISO(t0.DATUMTIJD), WEEKISO(t0.DATUMTIJD)\n",
    "#     ) t1\n",
    "# INNER JOIN\n",
    "# (\n",
    "#     SELECT t2.BOXID AS boxid\n",
    "#     FROM {meta_config[\"database\"]}.{meta_config[\"schema\"]}.{meta_config[\"table\"]} t2\n",
    "#     WHERE t2.VESTIGING LIKE '{vestiging}'\n",
    "# ) t3\n",
    "# ON t1.BOXID = t3.BOXID\n",
    "# \"\"\"\n",
    "\n",
    "# df_query = (\n",
    "#     pd.read_sql(sql=query, con=snowflake_ctx)\n",
    "#     .apply(downcast, try_numeric=True, category=True)\n",
    "#     .sort_values([\"YEAR\", \"WEEK\"])\n",
    "# )\n",
    "# df_query"
   ]
  }
 ],
 "metadata": {
  "hide_input": false,
  "kernelspec": {
   "display_name": "Python [conda env:spark] *",
   "language": "python",
   "name": "conda-env-spark-py"
  },
  "language_info": {
   "codemirror_mode": {
    "name": "ipython",
    "version": 3
   },
   "file_extension": ".py",
   "mimetype": "text/x-python",
   "name": "python",
   "nbconvert_exporter": "python",
   "pygments_lexer": "ipython3",
   "version": "3.8.10"
  }
 },
 "nbformat": 4,
 "nbformat_minor": 5
}
