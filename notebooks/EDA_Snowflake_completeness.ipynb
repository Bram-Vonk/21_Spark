{
 "cells": [
  {
   "cell_type": "code",
   "execution_count": null,
   "id": "b4e2fa07",
   "metadata": {},
   "outputs": [],
   "source": [
    "import os\n",
    "import sys\n",
    "sys.path.append(\"../\")\n",
    "\n",
    "import pandas as pd\n",
    "import numpy as np\n",
    "import datetime as dt\n",
    "import re\n",
    "import altair as alt\n",
    "\n",
    "from src.utils.parser import parse_config\n",
    "from src.utils.vault import get_secrets\n",
    "from src.utils.processing import downcast\n",
    "import snowflake.connector\n",
    "\n",
    "config = parse_config(os.path.abspath(os.path.join(os.getcwd(), \"../src/settings.yml\")))"
   ]
  },
  {
   "cell_type": "code",
   "execution_count": null,
   "id": "99d7110c",
   "metadata": {},
   "outputs": [],
   "source": [
    "data_config = get_secrets(\"snowflake\")\n",
    "data_config.update(config[\"snowflake\"][\"data\"])\n",
    "meta_config = config[\"snowflake\"][\"meta_box\"]\n",
    "snowflake_ctx = snowflake.connector.connect(**data_config)"
   ]
  },
  {
   "cell_type": "code",
   "execution_count": null,
   "id": "5a03ce97",
   "metadata": {},
   "outputs": [],
   "source": [
    "%%time\n",
    "vestiging = \"Breda\"\n",
    "\n",
    "query = f\"\"\"\n",
    "SELECT t1.BOXID AS boxid\n",
    "FROM {meta_config[\"database\"]}.{meta_config[\"schema\"]}.{meta_config[\"table\"]} t1\n",
    "WHERE t1.VESTIGING LIKE '{vestiging}'\n",
    "\"\"\"\n",
    "\n",
    "df_box = pd.read_sql(sql=query, con=snowflake_ctx)"
   ]
  },
  {
   "cell_type": "code",
   "execution_count": null,
   "id": "95528b9f",
   "metadata": {},
   "outputs": [],
   "source": [
    "%%time\n",
    "ids_breda = df_box.squeeze().to_list()[:3]\n",
    "\n",
    "query = f\"\"\"\n",
    "SELECT\n",
    "    t0.BOXID AS boxid,\n",
    "--    t0.CHANNELID AS channelid,\n",
    "    YEAROFWEEKISO(t0.DATUMTIJD) AS year,\n",
    "    WEEKISO(t0.DATUMTIJD) AS week,\n",
    "    COUNT(DISTINCT t0.DATUMTIJD)/(4*24*7) AS COMPLETENESS\n",
    "FROM {data_config[\"database\"]}.{data_config[\"schema\"]}.{data_config[\"table\"]} t0\n",
    "WHERE t0.CHANNELID LIKE 'register://electricity/0/activepower/sumli?avg=15'\n",
    "  AND t0.DATUMTIJD < DATEADD(DAY, -DAYOFWEEKISO(CURRENT_DATE), CURRENT_DATE)\n",
    "  AND t0.BOXID IN ({\",\".join([f\"'{id}'\" for id in ids_breda])})\n",
    "GROUP BY t0.BOXID, t0.CHANNELID, YEAROFWEEKISO(t0.DATUMTIJD), WEEKISO(t0.DATUMTIJD)\n",
    "\"\"\"\n",
    "\n",
    "df_query = (\n",
    "    pd.read_sql(sql=query, con=snowflake_ctx)\n",
    "    .apply(downcast, try_numeric=True, category=True)\n",
    "    .sort_values([\"YEAR\", \"WEEK\"])\n",
    ")\n",
    "df_query"
   ]
  },
  {
   "cell_type": "code",
   "execution_count": null,
   "id": "0b3f8b0b",
   "metadata": {},
   "outputs": [],
   "source": []
  },
  {
   "cell_type": "code",
   "execution_count": null,
   "id": "d156435c",
   "metadata": {},
   "outputs": [],
   "source": []
  },
  {
   "cell_type": "code",
   "execution_count": null,
   "id": "26bb6f08",
   "metadata": {},
   "outputs": [],
   "source": [
    "%%time\n",
    "data_config = config[\"snowflake\"][\"data\"]\n",
    "\n",
    "query = f\"\"\"\n",
    "SELECT \n",
    "    t1.*\n",
    "FROM\n",
    "    (\n",
    "    SELECT\n",
    "        t0.BOXID AS boxid,\n",
    "    --    t0.CHANNELID AS channelid,\n",
    "        YEAROFWEEKISO(t0.DATUMTIJD) AS year,\n",
    "        WEEKISO(t0.DATUMTIJD) AS week,\n",
    "        COUNT(DISTINCT t0.DATUMTIJD)/(4*24*7) AS COMPLETENESS\n",
    "    FROM {data_config[\"database\"]}.{data_config[\"schema\"]}.{data_config[\"table\"]} t0\n",
    "    WHERE t0.CHANNELID LIKE 'register://electricity/0/activepower/sumli?avg=15'\n",
    "      AND t0.DATUMTIJD < DATEADD(DAY, -DAYOFWEEKISO(CURRENT_DATE), CURRENT_DATE)\n",
    "    GROUP BY t0.BOXID, t0.CHANNELID, YEAROFWEEKISO(t0.DATUMTIJD), WEEKISO(t0.DATUMTIJD)\n",
    "    ) t1\n",
    "INNER JOIN\n",
    "(\n",
    "    SELECT t2.BOXID AS boxid\n",
    "    FROM {meta_config[\"database\"]}.{meta_config[\"schema\"]}.{meta_config[\"table\"]} t2\n",
    "    WHERE t2.VESTIGING LIKE '{vestiging}'\n",
    ") t3\n",
    "ON t1.BOXID = t3.BOXID\n",
    "\"\"\"\n",
    "\n",
    "df_query = (\n",
    "    pd.read_sql(sql=query, con=snowflake_ctx)\n",
    "    .apply(downcast, try_numeric=True, category=True)\n",
    "    .sort_values([\"YEAR\", \"WEEK\"])\n",
    ")\n",
    "df_query"
   ]
  },
  {
   "cell_type": "code",
   "execution_count": null,
   "id": "28fe510d",
   "metadata": {},
   "outputs": [],
   "source": []
  },
  {
   "cell_type": "code",
   "execution_count": null,
   "id": "31f7cdd4",
   "metadata": {},
   "outputs": [],
   "source": [
    "df = df_query.copy()\n",
    "df"
   ]
  },
  {
   "cell_type": "code",
   "execution_count": null,
   "id": "3942a618",
   "metadata": {},
   "outputs": [],
   "source": [
    "df[\"DATE\"] =  df.apply(lambda d: dt.datetime.fromisocalendar(d[\"YEAR\"], d[\"WEEK\"], 1), axis=1)\n",
    "df[\"DATE\"] = df.apply(lambda d: f'{d[\"YEAR\"]} - {d[\"WEEK\"]:02}', axis=1)\n",
    "df"
   ]
  },
  {
   "cell_type": "code",
   "execution_count": null,
   "id": "efcf30fa",
   "metadata": {},
   "outputs": [],
   "source": [
    "(\n",
    "    alt.Chart(df)\n",
    "    .mark_rect()\n",
    "    .encode(\n",
    "        alt.X('DATE:O', title='date'),\n",
    "        alt.Y('BOXID:O', title='box-ID'),\n",
    "        alt.Color(\n",
    "            'COMPLETENESS:Q',\n",
    "            scale=alt.Scale(scheme='greenblue')\n",
    "        )\n",
    "    )\n",
    "    .properties(\n",
    "        width=800,\n",
    "        height=100,\n",
    "    )\n",
    ")\n",
    "# , scale=alt.Scale(type='log', reverse=True), title='completeness')\n",
    "# )"
   ]
  },
  {
   "cell_type": "code",
   "execution_count": null,
   "id": "7ae92b63",
   "metadata": {},
   "outputs": [],
   "source": []
  }
 ],
 "metadata": {
  "hide_input": false,
  "kernelspec": {
   "display_name": "Python [conda env:spark] *",
   "language": "python",
   "name": "conda-env-spark-py"
  },
  "language_info": {
   "codemirror_mode": {
    "name": "ipython",
    "version": 3
   },
   "file_extension": ".py",
   "mimetype": "text/x-python",
   "name": "python",
   "nbconvert_exporter": "python",
   "pygments_lexer": "ipython3",
   "version": "3.8.10"
  }
 },
 "nbformat": 4,
 "nbformat_minor": 5
}
