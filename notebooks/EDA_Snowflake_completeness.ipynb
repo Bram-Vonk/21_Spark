{
 "cells": [
  {
   "cell_type": "code",
   "execution_count": null,
   "id": "b4e2fa07",
   "metadata": {},
   "outputs": [],
   "source": [
    "import os\n",
    "import sys\n",
    "sys.path.append(\"../\")\n",
    "\n",
    "import pandas as pd\n",
    "import numpy as np\n",
    "import datetime as dt\n",
    "import re\n",
    "\n",
    "from src.utils.parser import parse_config\n",
    "from src.utils.vault import get_secrets\n",
    "from src.utils.processing import downcast\n",
    "import snowflake.connector\n",
    "\n",
    "config = parse_config(os.path.abspath(os.path.join(os.getcwd(), \"../src/settings.yml\")))"
   ]
  },
  {
   "cell_type": "code",
   "execution_count": null,
   "id": "99d7110c",
   "metadata": {},
   "outputs": [],
   "source": [
    "snowflake_config = config[\"snowflake\"]\n",
    "snowflake_config.update(get_secrets(\"snowflake\"))\n",
    "snowflake_ctx = snowflake.connector.connect(**snowflake_config)"
   ]
  },
  {
   "cell_type": "code",
   "execution_count": null,
   "id": "98bc0045",
   "metadata": {},
   "outputs": [],
   "source": [
    "%%time\n",
    "query = f\"\"\"\n",
    "SELECT\n",
    "    t0.BOXID AS boxid,\n",
    "--    t0.CHANNELID AS channelid,\n",
    "    YEAROFWEEKISO(t0.DATUMTIJD) AS year,\n",
    "    WEEKISO(t0.DATUMTIJD) AS week,\n",
    "    COUNT(DISTINCT t0.DATUMTIJD)/(4*24*7) AS COMPLETENESS\n",
    "FROM {config[\"snowflake\"][\"database\"]}.{config[\"snowflake\"][\"schema\"]}.{config[\"snowflake\"][\"table\"]} t0\n",
    "WHERE t0.CHANNELID LIKE 'register://electricity/0/activepower/sumli?avg=15'\n",
    "  AND t0.DATUMTIJD < DATEADD(DAY, -DAYOFWEEKISO(CURRENT_DATE), CURRENT_DATE)\n",
    "--   AND t0.BOXID IN ('075.547-1', '069.509-1')\n",
    "GROUP BY t0.BOXID, t0.CHANNELID, YEAROFWEEKISO(t0.DATUMTIJD), WEEKISO(t0.DATUMTIJD)\n",
    "\"\"\"\n",
    "\n",
    "df_query = (\n",
    "    pd.read_sql(sql=query, con=snowflake_ctx)\n",
    "    .apply(downcast, try_numeric=True, category=True)\n",
    "    .sort_values([\"YEAR\", \"WEEK\"])\n",
    ")\n",
    "df_query"
   ]
  },
  {
   "cell_type": "code",
   "execution_count": null,
   "id": "6bf198a6",
   "metadata": {},
   "outputs": [],
   "source": [
    "bi = \"\"\"ESD.000019-1\n",
    "ESD.000170-1\n",
    "ESD.000090-1\n",
    "ESD.000354-1\n",
    "ESD.000184-1\n",
    "ESD.000849-2\n",
    "ESD.000688-1\n",
    "ESD.001109-1\n",
    "ESD.000076-1\n",
    "ESD.000072-1\n",
    "ESD.000423-1\n",
    "ESD.000076-1\n",
    "ESD.000335-1\n",
    "ESD.000239-1\n",
    "ESD.000849-1\n",
    "ESD.000219-1\n",
    "ESD.000354-1\n",
    "ESD.000236-1\n",
    "ESD.000411-1\n",
    "ESD.000123-1\n",
    "ESD.000849-2\n",
    "ESD.000327-1\n",
    "ESD.000379-1\n",
    "ESD.000360-1\n",
    "ESD.001091-1\n",
    "ESD.000351-1\n",
    "ESD.000992-1\n",
    "ESD.000085-1\n",
    "ESD.000054-1\n",
    "ESD.000685-1\n",
    "ESD.000406-1\n",
    "ESD.000087-1\n",
    "ESD.000384-1\n",
    "ESD.000388-1\n",
    "ESD.000096-1\n",
    "ESD.000384-1\n",
    "ESD.000393-1\n",
    "ESD.000280-1\n",
    "ESD.000384-1\n",
    "ESD.000266-1\"\"\"\n",
    "bi.split(\"\\n\")"
   ]
  },
  {
   "cell_type": "code",
   "execution_count": null,
   "id": "2ee8d9b2",
   "metadata": {},
   "outputs": [],
   "source": []
  },
  {
   "cell_type": "code",
   "execution_count": null,
   "id": "25a0c0ab",
   "metadata": {},
   "outputs": [],
   "source": []
  }
 ],
 "metadata": {
  "hide_input": false,
  "kernelspec": {
   "display_name": "Python [conda env:spark] *",
   "language": "python",
   "name": "conda-env-spark-py"
  },
  "language_info": {
   "codemirror_mode": {
    "name": "ipython",
    "version": 3
   },
   "file_extension": ".py",
   "mimetype": "text/x-python",
   "name": "python",
   "nbconvert_exporter": "python",
   "pygments_lexer": "ipython3",
   "version": "3.8.10"
  }
 },
 "nbformat": 4,
 "nbformat_minor": 5
}
