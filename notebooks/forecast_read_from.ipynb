{
 "cells": [
  {
   "cell_type": "markdown",
   "id": "140e7fe2",
   "metadata": {},
   "source": [
    "## imports"
   ]
  },
  {
   "cell_type": "code",
   "execution_count": null,
   "id": "a56aac50",
   "metadata": {},
   "outputs": [],
   "source": [
    "import os\n",
    "import sys\n",
    "sys.path.append(\"../\")\n",
    "\n",
    "import math\n",
    "\n",
    "import pandas as pd\n",
    "import numpy as np\n",
    "import datetime as dt\n",
    "import re\n",
    "\n",
    "import pymc3 as pm\n",
    "\n",
    "import altair as alt\n",
    "alt.data_transformers.disable_max_rows()\n",
    "\n",
    "from src.preprocess.preprocess import load_data\n",
    "from src.plot.altair import plot_decompose, plot_all\n",
    "from src.forecast.forecast import forecast"
   ]
  },
  {
   "cell_type": "code",
   "execution_count": null,
   "id": "59b4fbae",
   "metadata": {},
   "outputs": [],
   "source": [
    "boxid = [\n",
    "    \"ESD.000088-1\",\n",
    "    \"063.623-1\",\n",
    "    \"VRY.CHOPS-1\",\n",
    "    \"HVT.111153-1\",\n",
    "    \"TTR.251049-1\",\n",
    "    \"BGL.CROLA-1\",\n",
    "][3]"
   ]
  },
  {
   "cell_type": "markdown",
   "id": "9400cc22",
   "metadata": {},
   "source": [
    "## forecast"
   ]
  },
  {
   "cell_type": "code",
   "execution_count": null,
   "id": "f6c91bab",
   "metadata": {},
   "outputs": [],
   "source": [
    "%%time\n",
    "df_total = forecast(boxid=boxid)"
   ]
  },
  {
   "cell_type": "code",
   "execution_count": null,
   "id": "17b74b45",
   "metadata": {},
   "outputs": [],
   "source": [
    "plot_all(df_total, df_meta=None)"
   ]
  },
  {
   "cell_type": "code",
   "execution_count": null,
   "id": "5108b0a1",
   "metadata": {},
   "outputs": [],
   "source": [
    "len(df_total)"
   ]
  },
  {
   "cell_type": "code",
   "execution_count": null,
   "id": "d2006825",
   "metadata": {},
   "outputs": [],
   "source": [
    "plot_decompose(df_total)"
   ]
  },
  {
   "cell_type": "code",
   "execution_count": null,
   "id": "7cdeae52",
   "metadata": {},
   "outputs": [],
   "source": []
  },
  {
   "cell_type": "markdown",
   "id": "0abebce8",
   "metadata": {},
   "source": [
    "## run all"
   ]
  },
  {
   "cell_type": "code",
   "execution_count": null,
   "id": "01be3296",
   "metadata": {},
   "outputs": [],
   "source": [
    "%%time\n",
    "\n",
    "boxid = [\n",
    "    \"ESD.000088-1\",\n",
    "    \"063.623-1\",\n",
    "    \"VRY.CHOPS-1\",\n",
    "    \"HVT.111153-1\",\n",
    "    \"TTR.251049-1\",\n",
    "    \"BGL.CROLA-1\",\n",
    "]\n",
    "\n",
    "for box in boxid:\n",
    "    df_total = forecast(boxid=box)\n",
    "    \n",
    "    df_total[\"processed_on\"] = dt.datetime.now(tz=pytz.timezone(\"UTC\"))\n",
    "    df_total[\"is_valid\"] = True\n",
    "\n",
    "    con_config = format_connection(\"DALI_forecasts\")\n",
    "\n",
    "    with create_engine(URL(**con_config)).connect() as con:\n",
    "        df_total.to_sql(\n",
    "            name=con_config[\"table\"],\n",
    "            con=con,\n",
    "            schema=con_config[\"schema\"],\n",
    "            if_exists=\"append\",\n",
    "            index=False,\n",
    "        )"
   ]
  },
  {
   "cell_type": "markdown",
   "id": "94a3ab49",
   "metadata": {},
   "source": [
    "## write results"
   ]
  },
  {
   "cell_type": "code",
   "execution_count": null,
   "id": "7f7b3a1f",
   "metadata": {},
   "outputs": [],
   "source": [
    "import pandas as pd\n",
    "import snowflake.connector\n",
    "from snowflake.sqlalchemy import URL\n",
    "from sqlalchemy import create_engine\n",
    "from src.utils.parser import parse_config\n",
    "from src.utils.preprocess import downcast\n",
    "from src.utils.vault import get_secrets\n",
    "from src.utils.snowflake import format_connection"
   ]
  },
  {
   "cell_type": "markdown",
   "id": "287818f2",
   "metadata": {},
   "source": [
    "## write results"
   ]
  },
  {
   "cell_type": "code",
   "execution_count": null,
   "id": "6bef98bf",
   "metadata": {},
   "outputs": [],
   "source": [
    "import pytz"
   ]
  },
  {
   "cell_type": "code",
   "execution_count": null,
   "id": "e63edd81",
   "metadata": {},
   "outputs": [],
   "source": [
    "# create or replace table DB_DATASCIENCE_P.DATASCIENCE_2_PUBLISH.DS_SPARK_DALI_WEEK_FORECASTS\n",
    "# (\n",
    "#     BOXID        VARCHAR(50),\n",
    "#     DATE         TIMESTAMPNTZ,\n",
    "#     L            VARCHAR(5),\n",
    "#     PROCESSED_ON TIMESTAMPNTZ,\n",
    "#     WEEK         NUMBER(2),\n",
    "#     YEAR         NUMBER(4),\n",
    "#     EXTREME      VARCHAR(3),\n",
    "#     VALUE        DOUBLE,\n",
    "#     PERIOD       VARCHAR(10),\n",
    "#     MODEL_VAR    VARCHAR(10),\n",
    "#     BAND         VARCHAR(10),\n",
    "#     BOUNDARY     VARCHAR(10),\n",
    "#     IS_VALID     BOOLEAN\n",
    "# );"
   ]
  },
  {
   "cell_type": "code",
   "execution_count": null,
   "id": "9929256e",
   "metadata": {},
   "outputs": [],
   "source": [
    "df_total[\"processed_on\"] = dt.datetime.now(tz=pytz.timezone(\"UTC\"))\n",
    "df_total[\"is_valid\"] = True\n",
    "\n",
    "con_config = format_connection(\"DALI_forecasts\")\n",
    "\n",
    "with create_engine(URL(**con_config)).connect() as con:\n",
    "    df_total.to_sql(\n",
    "        name=con_config[\"table\"],\n",
    "        con=con,\n",
    "        schema=con_config[\"schema\"],\n",
    "        if_exists=\"append\",\n",
    "        index=False,\n",
    "    )"
   ]
  },
  {
   "cell_type": "code",
   "execution_count": null,
   "id": "b0356c5e",
   "metadata": {},
   "outputs": [],
   "source": [
    "df_total"
   ]
  },
  {
   "cell_type": "code",
   "execution_count": null,
   "id": "54472602",
   "metadata": {},
   "outputs": [],
   "source": []
  }
 ],
 "metadata": {
  "hide_input": false,
  "kernelspec": {
   "display_name": "Python [conda env:spark] *",
   "language": "python",
   "name": "conda-env-spark-py"
  },
  "language_info": {
   "codemirror_mode": {
    "name": "ipython",
    "version": 3
   },
   "file_extension": ".py",
   "mimetype": "text/x-python",
   "name": "python",
   "nbconvert_exporter": "python",
   "pygments_lexer": "ipython3",
   "version": "3.8.10"
  }
 },
 "nbformat": 4,
 "nbformat_minor": 5
}
