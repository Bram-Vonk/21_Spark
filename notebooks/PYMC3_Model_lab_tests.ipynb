{
 "cells": [
  {
   "cell_type": "code",
   "execution_count": null,
   "id": "unknown-holmes",
   "metadata": {},
   "outputs": [],
   "source": [
    "import sys\n",
    "sys.path.append(\"../\")\n",
    "\n",
    "import numpy as np\n",
    "import pandas as pd\n",
    "import altair as alt\n",
    "\n",
    "import datetime as dt\n",
    "from scipy.stats import uniform, norm\n",
    "import pymc3 as pm\n",
    "import theano\n",
    "import theano.tensor as tt\n",
    "import matplotlib.pyplot as plt\n",
    "import graphviz\n",
    "\n",
    "from src.utils.preprocessing import MinMaxScaler\n",
    "from src.model.model import det_dot, drift_model, seasonality_model"
   ]
  },
  {
   "cell_type": "code",
   "execution_count": null,
   "id": "secondary-starter",
   "metadata": {
    "hide_input": false
   },
   "outputs": [],
   "source": [
    "[print(chr(c), end=\" \") for c in range(ord(\"α\"), ord(\"ω\")+1)];"
   ]
  },
  {
   "cell_type": "markdown",
   "id": "dd989cd8",
   "metadata": {},
   "source": [
    "## make dummy data to test on"
   ]
  },
  {
   "cell_type": "code",
   "execution_count": null,
   "id": "c91abfdd",
   "metadata": {},
   "outputs": [],
   "source": [
    "def dummy_data(t):\n",
    "    params = dict(\n",
    "        bias=0.3,\n",
    "        slope=-0.1,\n",
    "        factor=-0.2,\n",
    "        base=3,\n",
    "        t_shift=0.5,\n",
    "        t_scale=4.5,\n",
    "    )\n",
    "    return drift_func(**params)\n",
    "\n",
    "def drift_func(**kwargs):\n",
    "    return (\n",
    "        kwargs[\"bias\"] + t * kwargs[\"slope\"]\n",
    "        + kwargs[\"factor\"] * kwargs[\"base\"] ** (kwargs[\"t_scale\"] * (t - kwargs[\"t_shift\"]))\n",
    "    )"
   ]
  },
  {
   "cell_type": "code",
   "execution_count": null,
   "id": "8e6a1f53",
   "metadata": {},
   "outputs": [],
   "source": [
    "t = np.arange(100) / 100\n",
    "y = dummy_data(t)\n",
    "y += np.random.normal(loc=1, scale=0.1, size=y.shape)\n",
    "scaler = MinMaxScaler()\n",
    "y = scaler.fit_transform(y)\n",
    "df_obs = pd.DataFrame({\"t\": t, \"y\": y})\n",
    "\n",
    "plot_obs = (\n",
    "    alt.Chart(df_obs).mark_circle(size=3).encode(x=\"t\", y=\"y\", color=alt.value(\"blue\"))\n",
    ")\n",
    "plot_obs"
   ]
  },
  {
   "cell_type": "markdown",
   "id": "3903964f",
   "metadata": {},
   "source": [
    "## setup model"
   ]
  },
  {
   "cell_type": "code",
   "execution_count": null,
   "id": "0aa8066a",
   "metadata": {
    "hide_input": true
   },
   "outputs": [],
   "source": [
    "with pm.Model() as m:\n",
    "    \n",
    "    drift = drift_model(t)\n",
    "#     yearly = seasonality_model(t)\n",
    "    yearly=0\n",
    "    \n",
    "    σ_ε = pm.Uniform('σ_ε', lower=0, upper=1)\n",
    "    total = pm.Deterministic(\"total\", drift + yearly)\n",
    "    \n",
    "    y_obs = pm.Normal('y_obs', mu=total, sd=σ_ε, observed=y)\n",
    "    \n",
    "pm.model_to_graphviz(m)"
   ]
  },
  {
   "cell_type": "markdown",
   "id": "53c64d40",
   "metadata": {},
   "source": [
    "## test on dummy data"
   ]
  },
  {
   "cell_type": "code",
   "execution_count": null,
   "id": "b2ebff94",
   "metadata": {},
   "outputs": [],
   "source": [
    "with m:\n",
    "    trace = pm.sample(500, tune=500, init=\"adapt_diag\")"
   ]
  },
  {
   "cell_type": "code",
   "execution_count": null,
   "id": "5e977352",
   "metadata": {},
   "outputs": [],
   "source": [
    "df = pd.DataFrame({\"t\": t, \"y\": trace[\"total\"].mean(axis=0)})\n",
    "plot_hat = alt.Chart(df).mark_circle(size=3).encode(x=\"t\", y=\"y\", color = alt.value(\"red\"))\n",
    "plot_obs + plot_hat"
   ]
  }
 ],
 "metadata": {
  "hide_input": false,
  "kernelspec": {
   "display_name": "Python [conda env:spark] *",
   "language": "python",
   "name": "conda-env-spark-py"
  },
  "language_info": {
   "codemirror_mode": {
    "name": "ipython",
    "version": 3
   },
   "file_extension": ".py",
   "mimetype": "text/x-python",
   "name": "python",
   "nbconvert_exporter": "python",
   "pygments_lexer": "ipython3",
   "version": "3.8.10"
  }
 },
 "nbformat": 4,
 "nbformat_minor": 5
}
