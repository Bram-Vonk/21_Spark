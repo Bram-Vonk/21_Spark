{
 "cells": [
  {
   "cell_type": "code",
   "execution_count": 17,
   "id": "c4b266a8",
   "metadata": {},
   "outputs": [],
   "source": [
    "import pandas as pd\n",
    "import altair as alt"
   ]
  },
  {
   "cell_type": "code",
   "execution_count": 3,
   "id": "871cbfca",
   "metadata": {},
   "outputs": [
    {
     "data": {
      "text/html": [
       "<div>\n",
       "<style scoped>\n",
       "    .dataframe tbody tr th:only-of-type {\n",
       "        vertical-align: middle;\n",
       "    }\n",
       "\n",
       "    .dataframe tbody tr th {\n",
       "        vertical-align: top;\n",
       "    }\n",
       "\n",
       "    .dataframe thead th {\n",
       "        text-align: right;\n",
       "    }\n",
       "</style>\n",
       "<table border=\"1\" class=\"dataframe\">\n",
       "  <thead>\n",
       "    <tr style=\"text-align: right;\">\n",
       "      <th></th>\n",
       "      <th>product</th>\n",
       "      <th>quantity</th>\n",
       "      <th>region</th>\n",
       "      <th>plant</th>\n",
       "      <th>date</th>\n",
       "    </tr>\n",
       "  </thead>\n",
       "  <tbody>\n",
       "    <tr>\n",
       "      <th>44831</th>\n",
       "      <td>prod_185</td>\n",
       "      <td>4592.422686</td>\n",
       "      <td>region_1</td>\n",
       "      <td>plant_2</td>\n",
       "      <td>2019-05-01T00:00:00.000Z</td>\n",
       "    </tr>\n",
       "    <tr>\n",
       "      <th>60103</th>\n",
       "      <td>prod_248</td>\n",
       "      <td>591.164161</td>\n",
       "      <td>region_0</td>\n",
       "      <td>plant_1</td>\n",
       "      <td>2020-03-01T00:00:00.000Z</td>\n",
       "    </tr>\n",
       "    <tr>\n",
       "      <th>64344</th>\n",
       "      <td>prod_266</td>\n",
       "      <td>12.721941</td>\n",
       "      <td>region_0</td>\n",
       "      <td>plant_0</td>\n",
       "      <td>2018-03-01T00:00:00.000Z</td>\n",
       "    </tr>\n",
       "    <tr>\n",
       "      <th>64333</th>\n",
       "      <td>prod_266</td>\n",
       "      <td>501.202866</td>\n",
       "      <td>region_0</td>\n",
       "      <td>plant_1</td>\n",
       "      <td>2020-02-01T00:00:00.000Z</td>\n",
       "    </tr>\n",
       "    <tr>\n",
       "      <th>43631</th>\n",
       "      <td>prod_180</td>\n",
       "      <td>9274.354929</td>\n",
       "      <td>region_1</td>\n",
       "      <td>plant_2</td>\n",
       "      <td>2019-09-01T00:00:00.000Z</td>\n",
       "    </tr>\n",
       "    <tr>\n",
       "      <th>2895</th>\n",
       "      <td>prod_11</td>\n",
       "      <td>4654.496217</td>\n",
       "      <td>region_1</td>\n",
       "      <td>plant_0</td>\n",
       "      <td>2020-01-01T00:00:00.000Z</td>\n",
       "    </tr>\n",
       "    <tr>\n",
       "      <th>17004</th>\n",
       "      <td>prod_74</td>\n",
       "      <td>62.187998</td>\n",
       "      <td>region_0</td>\n",
       "      <td>plant_0</td>\n",
       "      <td>2020-03-01T00:00:00.000Z</td>\n",
       "    </tr>\n",
       "    <tr>\n",
       "      <th>14346</th>\n",
       "      <td>prod_61</td>\n",
       "      <td>89.953528</td>\n",
       "      <td>region_0</td>\n",
       "      <td>plant_0</td>\n",
       "      <td>2019-03-01T00:00:00.000Z</td>\n",
       "    </tr>\n",
       "    <tr>\n",
       "      <th>3569</th>\n",
       "      <td>prod_14</td>\n",
       "      <td>12387.862811</td>\n",
       "      <td>region_1</td>\n",
       "      <td>plant_2</td>\n",
       "      <td>2020-01-01T00:00:00.000Z</td>\n",
       "    </tr>\n",
       "    <tr>\n",
       "      <th>5870</th>\n",
       "      <td>prod_24</td>\n",
       "      <td>37.003707</td>\n",
       "      <td>region_0</td>\n",
       "      <td>plant_2</td>\n",
       "      <td>2020-05-01T00:00:00.000Z</td>\n",
       "    </tr>\n",
       "  </tbody>\n",
       "</table>\n",
       "</div>"
      ],
      "text/plain": [
       "        product      quantity    region    plant                      date\n",
       "44831  prod_185   4592.422686  region_1  plant_2  2019-05-01T00:00:00.000Z\n",
       "60103  prod_248    591.164161  region_0  plant_1  2020-03-01T00:00:00.000Z\n",
       "64344  prod_266     12.721941  region_0  plant_0  2018-03-01T00:00:00.000Z\n",
       "64333  prod_266    501.202866  region_0  plant_1  2020-02-01T00:00:00.000Z\n",
       "43631  prod_180   9274.354929  region_1  plant_2  2019-09-01T00:00:00.000Z\n",
       "2895    prod_11   4654.496217  region_1  plant_0  2020-01-01T00:00:00.000Z\n",
       "17004   prod_74     62.187998  region_0  plant_0  2020-03-01T00:00:00.000Z\n",
       "14346   prod_61     89.953528  region_0  plant_0  2019-03-01T00:00:00.000Z\n",
       "3569    prod_14  12387.862811  region_1  plant_2  2020-01-01T00:00:00.000Z\n",
       "5870    prod_24     37.003707  region_0  plant_2  2020-05-01T00:00:00.000Z"
      ]
     },
     "execution_count": 3,
     "metadata": {},
     "output_type": "execute_result"
    }
   ],
   "source": [
    "df_raw = pd.read_excel('demand demo_2.xls')\n",
    "df_raw.sample(10)"
   ]
  },
  {
   "cell_type": "code",
   "execution_count": 6,
   "id": "1377ebf5",
   "metadata": {},
   "outputs": [
    {
     "data": {
      "text/plain": [
       "'2018-01-01T00:00:00.000Z'"
      ]
     },
     "execution_count": 6,
     "metadata": {},
     "output_type": "execute_result"
    }
   ],
   "source": [
    "df_raw[\"date\"].min()"
   ]
  },
  {
   "cell_type": "code",
   "execution_count": 7,
   "id": "e40611d6",
   "metadata": {},
   "outputs": [
    {
     "data": {
      "text/plain": [
       "'2021-08-01T00:00:00.000Z'"
      ]
     },
     "execution_count": 7,
     "metadata": {},
     "output_type": "execute_result"
    }
   ],
   "source": [
    "df_raw[\"date\"].max()"
   ]
  },
  {
   "cell_type": "code",
   "execution_count": 12,
   "id": "6fbc8c2d",
   "metadata": {},
   "outputs": [
    {
     "data": {
      "text/plain": [
       "product \n",
       "prod_219    264\n",
       "prod_186    264\n",
       "prod_198    264\n",
       "prod_197    264\n",
       "prod_196    264\n",
       "           ... \n",
       "prod_15      42\n",
       "prod_43      42\n",
       "prod_111     30\n",
       "prod_246     24\n",
       "prod_48      12\n",
       "Length: 269, dtype: int64"
      ]
     },
     "execution_count": 12,
     "metadata": {},
     "output_type": "execute_result"
    }
   ],
   "source": [
    "df_raw[[\"product\"]].value_counts()"
   ]
  },
  {
   "cell_type": "code",
   "execution_count": 16,
   "id": "a78aeecb",
   "metadata": {},
   "outputs": [
    {
     "data": {
      "text/html": [
       "<div>\n",
       "<style scoped>\n",
       "    .dataframe tbody tr th:only-of-type {\n",
       "        vertical-align: middle;\n",
       "    }\n",
       "\n",
       "    .dataframe tbody tr th {\n",
       "        vertical-align: top;\n",
       "    }\n",
       "\n",
       "    .dataframe thead th {\n",
       "        text-align: right;\n",
       "    }\n",
       "</style>\n",
       "<table border=\"1\" class=\"dataframe\">\n",
       "  <thead>\n",
       "    <tr style=\"text-align: right;\">\n",
       "      <th></th>\n",
       "      <th>product</th>\n",
       "      <th>quantity</th>\n",
       "      <th>region</th>\n",
       "      <th>plant</th>\n",
       "      <th>date</th>\n",
       "    </tr>\n",
       "  </thead>\n",
       "  <tbody>\n",
       "    <tr>\n",
       "      <th>44748</th>\n",
       "      <td>prod_185</td>\n",
       "      <td>38.545079</td>\n",
       "      <td>region_0</td>\n",
       "      <td>plant_0</td>\n",
       "      <td>2018-01-01T00:00:00.000Z</td>\n",
       "    </tr>\n",
       "    <tr>\n",
       "      <th>44749</th>\n",
       "      <td>prod_185</td>\n",
       "      <td>774.417001</td>\n",
       "      <td>region_0</td>\n",
       "      <td>plant_1</td>\n",
       "      <td>2018-01-01T00:00:00.000Z</td>\n",
       "    </tr>\n",
       "    <tr>\n",
       "      <th>44750</th>\n",
       "      <td>prod_185</td>\n",
       "      <td>198.688326</td>\n",
       "      <td>region_0</td>\n",
       "      <td>plant_2</td>\n",
       "      <td>2018-01-01T00:00:00.000Z</td>\n",
       "    </tr>\n",
       "    <tr>\n",
       "      <th>44751</th>\n",
       "      <td>prod_185</td>\n",
       "      <td>1191.436819</td>\n",
       "      <td>region_1</td>\n",
       "      <td>plant_0</td>\n",
       "      <td>2018-01-01T00:00:00.000Z</td>\n",
       "    </tr>\n",
       "    <tr>\n",
       "      <th>44752</th>\n",
       "      <td>prod_185</td>\n",
       "      <td>24649.154855</td>\n",
       "      <td>region_1</td>\n",
       "      <td>plant_1</td>\n",
       "      <td>2018-01-01T00:00:00.000Z</td>\n",
       "    </tr>\n",
       "    <tr>\n",
       "      <th>...</th>\n",
       "      <td>...</td>\n",
       "      <td>...</td>\n",
       "      <td>...</td>\n",
       "      <td>...</td>\n",
       "      <td>...</td>\n",
       "    </tr>\n",
       "    <tr>\n",
       "      <th>44941</th>\n",
       "      <td>prod_185</td>\n",
       "      <td>781.225137</td>\n",
       "      <td>region_0</td>\n",
       "      <td>plant_1</td>\n",
       "      <td>2019-12-01T00:00:00.000Z</td>\n",
       "    </tr>\n",
       "    <tr>\n",
       "      <th>44942</th>\n",
       "      <td>prod_185</td>\n",
       "      <td>223.791185</td>\n",
       "      <td>region_0</td>\n",
       "      <td>plant_2</td>\n",
       "      <td>2019-12-01T00:00:00.000Z</td>\n",
       "    </tr>\n",
       "    <tr>\n",
       "      <th>44943</th>\n",
       "      <td>prod_185</td>\n",
       "      <td>812.629321</td>\n",
       "      <td>region_1</td>\n",
       "      <td>plant_0</td>\n",
       "      <td>2019-12-01T00:00:00.000Z</td>\n",
       "    </tr>\n",
       "    <tr>\n",
       "      <th>44944</th>\n",
       "      <td>prod_185</td>\n",
       "      <td>19555.535260</td>\n",
       "      <td>region_1</td>\n",
       "      <td>plant_1</td>\n",
       "      <td>2019-12-01T00:00:00.000Z</td>\n",
       "    </tr>\n",
       "    <tr>\n",
       "      <th>44945</th>\n",
       "      <td>prod_185</td>\n",
       "      <td>5760.581123</td>\n",
       "      <td>region_1</td>\n",
       "      <td>plant_2</td>\n",
       "      <td>2019-12-01T00:00:00.000Z</td>\n",
       "    </tr>\n",
       "  </tbody>\n",
       "</table>\n",
       "<p>198 rows × 5 columns</p>\n",
       "</div>"
      ],
      "text/plain": [
       "        product      quantity    region    plant                      date\n",
       "44748  prod_185     38.545079  region_0  plant_0  2018-01-01T00:00:00.000Z\n",
       "44749  prod_185    774.417001  region_0  plant_1  2018-01-01T00:00:00.000Z\n",
       "44750  prod_185    198.688326  region_0  plant_2  2018-01-01T00:00:00.000Z\n",
       "44751  prod_185   1191.436819  region_1  plant_0  2018-01-01T00:00:00.000Z\n",
       "44752  prod_185  24649.154855  region_1  plant_1  2018-01-01T00:00:00.000Z\n",
       "...         ...           ...       ...      ...                       ...\n",
       "44941  prod_185    781.225137  region_0  plant_1  2019-12-01T00:00:00.000Z\n",
       "44942  prod_185    223.791185  region_0  plant_2  2019-12-01T00:00:00.000Z\n",
       "44943  prod_185    812.629321  region_1  plant_0  2019-12-01T00:00:00.000Z\n",
       "44944  prod_185  19555.535260  region_1  plant_1  2019-12-01T00:00:00.000Z\n",
       "44945  prod_185   5760.581123  region_1  plant_2  2019-12-01T00:00:00.000Z\n",
       "\n",
       "[198 rows x 5 columns]"
      ]
     },
     "execution_count": 16,
     "metadata": {},
     "output_type": "execute_result"
    }
   ],
   "source": [
    "df_raw.query(\"product == 'prod_185'\")"
   ]
  },
  {
   "cell_type": "code",
   "execution_count": 51,
   "id": "1facdaad",
   "metadata": {},
   "outputs": [
    {
     "data": {
      "text/html": [
       "\n",
       "<div id=\"altair-viz-79a70f93e88848de834812389053dd27\"></div>\n",
       "<script type=\"text/javascript\">\n",
       "  (function(spec, embedOpt){\n",
       "    let outputDiv = document.currentScript.previousElementSibling;\n",
       "    if (outputDiv.id !== \"altair-viz-79a70f93e88848de834812389053dd27\") {\n",
       "      outputDiv = document.getElementById(\"altair-viz-79a70f93e88848de834812389053dd27\");\n",
       "    }\n",
       "    const paths = {\n",
       "      \"vega\": \"https://cdn.jsdelivr.net/npm//vega@5?noext\",\n",
       "      \"vega-lib\": \"https://cdn.jsdelivr.net/npm//vega-lib?noext\",\n",
       "      \"vega-lite\": \"https://cdn.jsdelivr.net/npm//vega-lite@4.8.1?noext\",\n",
       "      \"vega-embed\": \"https://cdn.jsdelivr.net/npm//vega-embed@6?noext\",\n",
       "    };\n",
       "\n",
       "    function loadScript(lib) {\n",
       "      return new Promise(function(resolve, reject) {\n",
       "        var s = document.createElement('script');\n",
       "        s.src = paths[lib];\n",
       "        s.async = true;\n",
       "        s.onload = () => resolve(paths[lib]);\n",
       "        s.onerror = () => reject(`Error loading script: ${paths[lib]}`);\n",
       "        document.getElementsByTagName(\"head\")[0].appendChild(s);\n",
       "      });\n",
       "    }\n",
       "\n",
       "    function showError(err) {\n",
       "      outputDiv.innerHTML = `<div class=\"error\" style=\"color:red;\">${err}</div>`;\n",
       "      throw err;\n",
       "    }\n",
       "\n",
       "    function displayChart(vegaEmbed) {\n",
       "      vegaEmbed(outputDiv, spec, embedOpt)\n",
       "        .catch(err => showError(`Javascript Error: ${err.message}<br>This usually means there's a typo in your chart specification. See the javascript console for the full traceback.`));\n",
       "    }\n",
       "\n",
       "    if(typeof define === \"function\" && define.amd) {\n",
       "      requirejs.config({paths});\n",
       "      require([\"vega-embed\"], displayChart, err => showError(`Error loading script: ${err.message}`));\n",
       "    } else if (typeof vegaEmbed === \"function\") {\n",
       "      displayChart(vegaEmbed);\n",
       "    } else {\n",
       "      loadScript(\"vega\")\n",
       "        .then(() => loadScript(\"vega-lite\"))\n",
       "        .then(() => loadScript(\"vega-embed\"))\n",
       "        .catch(showError)\n",
       "        .then(() => displayChart(vegaEmbed));\n",
       "    }\n",
       "  })({\"config\": {\"view\": {\"continuousWidth\": 400, \"continuousHeight\": 300}}, \"data\": {\"name\": \"data-1e32dbbf612ab1d6ec1dd69b56822ec4\"}, \"mark\": \"line\", \"encoding\": {\"color\": {\"type\": \"nominal\", \"field\": \"plant\"}, \"detail\": {\"type\": \"nominal\", \"field\": \"region\"}, \"x\": {\"type\": \"temporal\", \"field\": \"date\"}, \"y\": {\"type\": \"quantitative\", \"field\": \"quantity\"}}, \"selection\": {\"selector007\": {\"type\": \"interval\", \"bind\": \"scales\", \"encodings\": [\"x\", \"y\"]}}, \"width\": 800, \"$schema\": \"https://vega.github.io/schema/vega-lite/v4.8.1.json\", \"datasets\": {\"data-1e32dbbf612ab1d6ec1dd69b56822ec4\": [{\"product\": \"prod_219\", \"quantity\": 28.412550417052554, \"region\": \"region_0\", \"plant\": \"plant_0\", \"date\": \"2018-01-01T00:00:00.000Z\"}, {\"product\": \"prod_219\", \"quantity\": 754.8504833027737, \"region\": \"region_0\", \"plant\": \"plant_1\", \"date\": \"2018-01-01T00:00:00.000Z\"}, {\"product\": \"prod_219\", \"quantity\": 189.1850761673736, \"region\": \"region_0\", \"plant\": \"plant_2\", \"date\": \"2018-01-01T00:00:00.000Z\"}, {\"product\": \"prod_219\", \"quantity\": 898.4106325018254, \"region\": \"region_1\", \"plant\": \"plant_0\", \"date\": \"2018-01-01T00:00:00.000Z\"}, {\"product\": \"prod_219\", \"quantity\": 20436.773756630188, \"region\": \"region_1\", \"plant\": \"plant_1\", \"date\": \"2018-01-01T00:00:00.000Z\"}, {\"product\": \"prod_219\", \"quantity\": 5443.507026551275, \"region\": \"region_1\", \"plant\": \"plant_2\", \"date\": \"2018-01-01T00:00:00.000Z\"}, {\"product\": \"prod_219\", \"quantity\": 27.317103820787246, \"region\": \"region_0\", \"plant\": \"plant_0\", \"date\": \"2019-01-01T00:00:00.000Z\"}, {\"product\": \"prod_219\", \"quantity\": 645.9242603656393, \"region\": \"region_0\", \"plant\": \"plant_1\", \"date\": \"2019-01-01T00:00:00.000Z\"}, {\"product\": \"prod_219\", \"quantity\": 182.01201720604016, \"region\": \"region_0\", \"plant\": \"plant_2\", \"date\": \"2019-01-01T00:00:00.000Z\"}, {\"product\": \"prod_219\", \"quantity\": 845.7965550178261, \"region\": \"region_1\", \"plant\": \"plant_0\", \"date\": \"2019-01-01T00:00:00.000Z\"}, {\"product\": \"prod_219\", \"quantity\": 17253.52376572277, \"region\": \"region_1\", \"plant\": \"plant_1\", \"date\": \"2019-01-01T00:00:00.000Z\"}, {\"product\": \"prod_219\", \"quantity\": 4058.001799836017, \"region\": \"region_1\", \"plant\": \"plant_2\", \"date\": \"2019-01-01T00:00:00.000Z\"}, {\"product\": \"prod_219\", \"quantity\": 35.03663777679066, \"region\": \"region_0\", \"plant\": \"plant_0\", \"date\": \"2020-01-01T00:00:00.000Z\"}, {\"product\": \"prod_219\", \"quantity\": 829.2101456605643, \"region\": \"region_0\", \"plant\": \"plant_1\", \"date\": \"2020-01-01T00:00:00.000Z\"}, {\"product\": \"prod_219\", \"quantity\": 188.55716720546857, \"region\": \"region_0\", \"plant\": \"plant_2\", \"date\": \"2020-01-01T00:00:00.000Z\"}, {\"product\": \"prod_219\", \"quantity\": 1018.5232892219318, \"region\": \"region_1\", \"plant\": \"plant_0\", \"date\": \"2020-01-01T00:00:00.000Z\"}, {\"product\": \"prod_219\", \"quantity\": 22478.192838125953, \"region\": \"region_1\", \"plant\": \"plant_1\", \"date\": \"2020-01-01T00:00:00.000Z\"}, {\"product\": \"prod_219\", \"quantity\": 5437.569890820014, \"region\": \"region_1\", \"plant\": \"plant_2\", \"date\": \"2020-01-01T00:00:00.000Z\"}, {\"product\": \"prod_219\", \"quantity\": 28.13453649577652, \"region\": \"region_0\", \"plant\": \"plant_0\", \"date\": \"2021-01-01T00:00:00.000Z\"}, {\"product\": \"prod_219\", \"quantity\": 579.1693149493719, \"region\": \"region_0\", \"plant\": \"plant_1\", \"date\": \"2021-01-01T00:00:00.000Z\"}, {\"product\": \"prod_219\", \"quantity\": 185.87250968171688, \"region\": \"region_0\", \"plant\": \"plant_2\", \"date\": \"2021-01-01T00:00:00.000Z\"}, {\"product\": \"prod_219\", \"quantity\": 719.1960313824922, \"region\": \"region_1\", \"plant\": \"plant_0\", \"date\": \"2021-01-01T00:00:00.000Z\"}, {\"product\": \"prod_219\", \"quantity\": 18415.082547358237, \"region\": \"region_1\", \"plant\": \"plant_1\", \"date\": \"2021-01-01T00:00:00.000Z\"}, {\"product\": \"prod_219\", \"quantity\": 4872.551874970049, \"region\": \"region_1\", \"plant\": \"plant_2\", \"date\": \"2021-01-01T00:00:00.000Z\"}, {\"product\": \"prod_219\", \"quantity\": 25.554531613369505, \"region\": \"region_0\", \"plant\": \"plant_0\", \"date\": \"2018-02-01T00:00:00.000Z\"}, {\"product\": \"prod_219\", \"quantity\": 588.3395534579888, \"region\": \"region_0\", \"plant\": \"plant_1\", \"date\": \"2018-02-01T00:00:00.000Z\"}, {\"product\": \"prod_219\", \"quantity\": 190.9729480036471, \"region\": \"region_0\", \"plant\": \"plant_2\", \"date\": \"2018-02-01T00:00:00.000Z\"}, {\"product\": \"prod_219\", \"quantity\": 971.3717784853227, \"region\": \"region_1\", \"plant\": \"plant_0\", \"date\": \"2018-02-01T00:00:00.000Z\"}, {\"product\": \"prod_219\", \"quantity\": 18780.232020874173, \"region\": \"region_1\", \"plant\": \"plant_1\", \"date\": \"2018-02-01T00:00:00.000Z\"}, {\"product\": \"prod_219\", \"quantity\": 5764.476045934537, \"region\": \"region_1\", \"plant\": \"plant_2\", \"date\": \"2018-02-01T00:00:00.000Z\"}, {\"product\": \"prod_219\", \"quantity\": 26.026281245878614, \"region\": \"region_0\", \"plant\": \"plant_0\", \"date\": \"2019-02-01T00:00:00.000Z\"}, {\"product\": \"prod_219\", \"quantity\": 565.1161943891285, \"region\": \"region_0\", \"plant\": \"plant_1\", \"date\": \"2019-02-01T00:00:00.000Z\"}, {\"product\": \"prod_219\", \"quantity\": 165.93206684361863, \"region\": \"region_0\", \"plant\": \"plant_2\", \"date\": \"2019-02-01T00:00:00.000Z\"}, {\"product\": \"prod_219\", \"quantity\": 920.5024738977479, \"region\": \"region_1\", \"plant\": \"plant_0\", \"date\": \"2019-02-01T00:00:00.000Z\"}, {\"product\": \"prod_219\", \"quantity\": 22634.011785018312, \"region\": \"region_1\", \"plant\": \"plant_1\", \"date\": \"2019-02-01T00:00:00.000Z\"}, {\"product\": \"prod_219\", \"quantity\": 5401.339163570138, \"region\": \"region_1\", \"plant\": \"plant_2\", \"date\": \"2019-02-01T00:00:00.000Z\"}, {\"product\": \"prod_219\", \"quantity\": 29.86562247682007, \"region\": \"region_0\", \"plant\": \"plant_0\", \"date\": \"2020-02-01T00:00:00.000Z\"}, {\"product\": \"prod_219\", \"quantity\": 611.3956662297138, \"region\": \"region_0\", \"plant\": \"plant_1\", \"date\": \"2020-02-01T00:00:00.000Z\"}, {\"product\": \"prod_219\", \"quantity\": 191.04067318199614, \"region\": \"region_0\", \"plant\": \"plant_2\", \"date\": \"2020-02-01T00:00:00.000Z\"}, {\"product\": \"prod_219\", \"quantity\": 746.3691202685337, \"region\": \"region_1\", \"plant\": \"plant_0\", \"date\": \"2020-02-01T00:00:00.000Z\"}, {\"product\": \"prod_219\", \"quantity\": 21373.389266171518, \"region\": \"region_1\", \"plant\": \"plant_1\", \"date\": \"2020-02-01T00:00:00.000Z\"}, {\"product\": \"prod_219\", \"quantity\": 5512.646593430802, \"region\": \"region_1\", \"plant\": \"plant_2\", \"date\": \"2020-02-01T00:00:00.000Z\"}, {\"product\": \"prod_219\", \"quantity\": 36.493084530920974, \"region\": \"region_0\", \"plant\": \"plant_0\", \"date\": \"2021-02-01T00:00:00.000Z\"}, {\"product\": \"prod_219\", \"quantity\": 765.2939247376681, \"region\": \"region_0\", \"plant\": \"plant_1\", \"date\": \"2021-02-01T00:00:00.000Z\"}, {\"product\": \"prod_219\", \"quantity\": 199.9767804325173, \"region\": \"region_0\", \"plant\": \"plant_2\", \"date\": \"2021-02-01T00:00:00.000Z\"}, {\"product\": \"prod_219\", \"quantity\": 700.8420640970754, \"region\": \"region_1\", \"plant\": \"plant_0\", \"date\": \"2021-02-01T00:00:00.000Z\"}, {\"product\": \"prod_219\", \"quantity\": 18005.765962180838, \"region\": \"region_1\", \"plant\": \"plant_1\", \"date\": \"2021-02-01T00:00:00.000Z\"}, {\"product\": \"prod_219\", \"quantity\": 5447.793933866327, \"region\": \"region_1\", \"plant\": \"plant_2\", \"date\": \"2021-02-01T00:00:00.000Z\"}, {\"product\": \"prod_219\", \"quantity\": 34.30059850507401, \"region\": \"region_0\", \"plant\": \"plant_0\", \"date\": \"2018-03-01T00:00:00.000Z\"}, {\"product\": \"prod_219\", \"quantity\": 829.8038035923639, \"region\": \"region_0\", \"plant\": \"plant_1\", \"date\": \"2018-03-01T00:00:00.000Z\"}, {\"product\": \"prod_219\", \"quantity\": 202.73604663414326, \"region\": \"region_0\", \"plant\": \"plant_2\", \"date\": \"2018-03-01T00:00:00.000Z\"}, {\"product\": \"prod_219\", \"quantity\": 980.9795072308488, \"region\": \"region_1\", \"plant\": \"plant_0\", \"date\": \"2018-03-01T00:00:00.000Z\"}, {\"product\": \"prod_219\", \"quantity\": 20782.80952069577, \"region\": \"region_1\", \"plant\": \"plant_1\", \"date\": \"2018-03-01T00:00:00.000Z\"}, {\"product\": \"prod_219\", \"quantity\": 4981.617045492868, \"region\": \"region_1\", \"plant\": \"plant_2\", \"date\": \"2018-03-01T00:00:00.000Z\"}, {\"product\": \"prod_219\", \"quantity\": 25.343500265737863, \"region\": \"region_0\", \"plant\": \"plant_0\", \"date\": \"2019-03-01T00:00:00.000Z\"}, {\"product\": \"prod_219\", \"quantity\": 599.0669930480466, \"region\": \"region_0\", \"plant\": \"plant_1\", \"date\": \"2019-03-01T00:00:00.000Z\"}, {\"product\": \"prod_219\", \"quantity\": 184.8050094015765, \"region\": \"region_0\", \"plant\": \"plant_2\", \"date\": \"2019-03-01T00:00:00.000Z\"}, {\"product\": \"prod_219\", \"quantity\": 1021.9178530501783, \"region\": \"region_1\", \"plant\": \"plant_0\", \"date\": \"2019-03-01T00:00:00.000Z\"}, {\"product\": \"prod_219\", \"quantity\": 20389.28739937456, \"region\": \"region_1\", \"plant\": \"plant_1\", \"date\": \"2019-03-01T00:00:00.000Z\"}, {\"product\": \"prod_219\", \"quantity\": 5035.959109359283, \"region\": \"region_1\", \"plant\": \"plant_2\", \"date\": \"2019-03-01T00:00:00.000Z\"}, {\"product\": \"prod_219\", \"quantity\": 29.8481466259705, \"region\": \"region_0\", \"plant\": \"plant_0\", \"date\": \"2020-03-01T00:00:00.000Z\"}, {\"product\": \"prod_219\", \"quantity\": 705.0496678649821, \"region\": \"region_0\", \"plant\": \"plant_1\", \"date\": \"2020-03-01T00:00:00.000Z\"}, {\"product\": \"prod_219\", \"quantity\": 172.6728772589509, \"region\": \"region_0\", \"plant\": \"plant_2\", \"date\": \"2020-03-01T00:00:00.000Z\"}, {\"product\": \"prod_219\", \"quantity\": 766.5376777680655, \"region\": \"region_1\", \"plant\": \"plant_0\", \"date\": \"2020-03-01T00:00:00.000Z\"}, {\"product\": \"prod_219\", \"quantity\": 21281.940228827196, \"region\": \"region_1\", \"plant\": \"plant_1\", \"date\": \"2020-03-01T00:00:00.000Z\"}, {\"product\": \"prod_219\", \"quantity\": 4315.374816056466, \"region\": \"region_1\", \"plant\": \"plant_2\", \"date\": \"2020-03-01T00:00:00.000Z\"}, {\"product\": \"prod_219\", \"quantity\": 27.022433366057665, \"region\": \"region_0\", \"plant\": \"plant_0\", \"date\": \"2021-03-01T00:00:00.000Z\"}, {\"product\": \"prod_219\", \"quantity\": 623.8217607297216, \"region\": \"region_0\", \"plant\": \"plant_1\", \"date\": \"2021-03-01T00:00:00.000Z\"}, {\"product\": \"prod_219\", \"quantity\": 181.9511957296885, \"region\": \"region_0\", \"plant\": \"plant_2\", \"date\": \"2021-03-01T00:00:00.000Z\"}, {\"product\": \"prod_219\", \"quantity\": 813.9441494217622, \"region\": \"region_1\", \"plant\": \"plant_0\", \"date\": \"2021-03-01T00:00:00.000Z\"}, {\"product\": \"prod_219\", \"quantity\": 22881.251437057534, \"region\": \"region_1\", \"plant\": \"plant_1\", \"date\": \"2021-03-01T00:00:00.000Z\"}, {\"product\": \"prod_219\", \"quantity\": 4061.8796465445184, \"region\": \"region_1\", \"plant\": \"plant_2\", \"date\": \"2021-03-01T00:00:00.000Z\"}, {\"product\": \"prod_219\", \"quantity\": 34.92474146068886, \"region\": \"region_0\", \"plant\": \"plant_0\", \"date\": \"2018-04-01T00:00:00.000Z\"}, {\"product\": \"prod_219\", \"quantity\": 722.328559156339, \"region\": \"region_0\", \"plant\": \"plant_1\", \"date\": \"2018-04-01T00:00:00.000Z\"}, {\"product\": \"prod_219\", \"quantity\": 168.6162186926189, \"region\": \"region_0\", \"plant\": \"plant_2\", \"date\": \"2018-04-01T00:00:00.000Z\"}, {\"product\": \"prod_219\", \"quantity\": 755.0458100306988, \"region\": \"region_1\", \"plant\": \"plant_0\", \"date\": \"2018-04-01T00:00:00.000Z\"}, {\"product\": \"prod_219\", \"quantity\": 21919.13094475485, \"region\": \"region_1\", \"plant\": \"plant_1\", \"date\": \"2018-04-01T00:00:00.000Z\"}, {\"product\": \"prod_219\", \"quantity\": 5359.680139722681, \"region\": \"region_1\", \"plant\": \"plant_2\", \"date\": \"2018-04-01T00:00:00.000Z\"}, {\"product\": \"prod_219\", \"quantity\": 36.685794059741845, \"region\": \"region_0\", \"plant\": \"plant_0\", \"date\": \"2019-04-01T00:00:00.000Z\"}, {\"product\": \"prod_219\", \"quantity\": 823.5112365763334, \"region\": \"region_0\", \"plant\": \"plant_1\", \"date\": \"2019-04-01T00:00:00.000Z\"}, {\"product\": \"prod_219\", \"quantity\": 166.9352960770663, \"region\": \"region_0\", \"plant\": \"plant_2\", \"date\": \"2019-04-01T00:00:00.000Z\"}, {\"product\": \"prod_219\", \"quantity\": 1005.6855223130324, \"region\": \"region_1\", \"plant\": \"plant_0\", \"date\": \"2019-04-01T00:00:00.000Z\"}, {\"product\": \"prod_219\", \"quantity\": 18473.968052631233, \"region\": \"region_1\", \"plant\": \"plant_1\", \"date\": \"2019-04-01T00:00:00.000Z\"}, {\"product\": \"prod_219\", \"quantity\": 5595.366362890496, \"region\": \"region_1\", \"plant\": \"plant_2\", \"date\": \"2019-04-01T00:00:00.000Z\"}, {\"product\": \"prod_219\", \"quantity\": 27.601861641357203, \"region\": \"region_0\", \"plant\": \"plant_0\", \"date\": \"2020-04-01T00:00:00.000Z\"}, {\"product\": \"prod_219\", \"quantity\": 763.9048350119393, \"region\": \"region_0\", \"plant\": \"plant_1\", \"date\": \"2020-04-01T00:00:00.000Z\"}, {\"product\": \"prod_219\", \"quantity\": 185.4799472131562, \"region\": \"region_0\", \"plant\": \"plant_2\", \"date\": \"2020-04-01T00:00:00.000Z\"}, {\"product\": \"prod_219\", \"quantity\": 811.5637661408529, \"region\": \"region_1\", \"plant\": \"plant_0\", \"date\": \"2020-04-01T00:00:00.000Z\"}, {\"product\": \"prod_219\", \"quantity\": 19725.97117898633, \"region\": \"region_1\", \"plant\": \"plant_1\", \"date\": \"2020-04-01T00:00:00.000Z\"}, {\"product\": \"prod_219\", \"quantity\": 5347.7076688593315, \"region\": \"region_1\", \"plant\": \"plant_2\", \"date\": \"2020-04-01T00:00:00.000Z\"}, {\"product\": \"prod_219\", \"quantity\": 29.237306112059784, \"region\": \"region_0\", \"plant\": \"plant_0\", \"date\": \"2021-04-01T00:00:00.000Z\"}, {\"product\": \"prod_219\", \"quantity\": 781.9886869362506, \"region\": \"region_0\", \"plant\": \"plant_1\", \"date\": \"2021-04-01T00:00:00.000Z\"}, {\"product\": \"prod_219\", \"quantity\": 142.96913991657507, \"region\": \"region_0\", \"plant\": \"plant_2\", \"date\": \"2021-04-01T00:00:00.000Z\"}, {\"product\": \"prod_219\", \"quantity\": 974.8363128361101, \"region\": \"region_1\", \"plant\": \"plant_0\", \"date\": \"2021-04-01T00:00:00.000Z\"}, {\"product\": \"prod_219\", \"quantity\": 19802.97464225247, \"region\": \"region_1\", \"plant\": \"plant_1\", \"date\": \"2021-04-01T00:00:00.000Z\"}, {\"product\": \"prod_219\", \"quantity\": 4299.429735070373, \"region\": \"region_1\", \"plant\": \"plant_2\", \"date\": \"2021-04-01T00:00:00.000Z\"}, {\"product\": \"prod_219\", \"quantity\": 36.100805206802654, \"region\": \"region_0\", \"plant\": \"plant_0\", \"date\": \"2018-05-01T00:00:00.000Z\"}, {\"product\": \"prod_219\", \"quantity\": 614.470142797283, \"region\": \"region_0\", \"plant\": \"plant_1\", \"date\": \"2018-05-01T00:00:00.000Z\"}, {\"product\": \"prod_219\", \"quantity\": 154.39107122263232, \"region\": \"region_0\", \"plant\": \"plant_2\", \"date\": \"2018-05-01T00:00:00.000Z\"}, {\"product\": \"prod_219\", \"quantity\": 889.2524205769621, \"region\": \"region_1\", \"plant\": \"plant_0\", \"date\": \"2018-05-01T00:00:00.000Z\"}, {\"product\": \"prod_219\", \"quantity\": 17397.822128206953, \"region\": \"region_1\", \"plant\": \"plant_1\", \"date\": \"2018-05-01T00:00:00.000Z\"}, {\"product\": \"prod_219\", \"quantity\": 4029.4759000374484, \"region\": \"region_1\", \"plant\": \"plant_2\", \"date\": \"2018-05-01T00:00:00.000Z\"}, {\"product\": \"prod_219\", \"quantity\": 35.02846761869493, \"region\": \"region_0\", \"plant\": \"plant_0\", \"date\": \"2019-05-01T00:00:00.000Z\"}, {\"product\": \"prod_219\", \"quantity\": 636.4750675412607, \"region\": \"region_0\", \"plant\": \"plant_1\", \"date\": \"2019-05-01T00:00:00.000Z\"}, {\"product\": \"prod_219\", \"quantity\": 149.8695656115898, \"region\": \"region_0\", \"plant\": \"plant_2\", \"date\": \"2019-05-01T00:00:00.000Z\"}, {\"product\": \"prod_219\", \"quantity\": 832.7304837739339, \"region\": \"region_1\", \"plant\": \"plant_0\", \"date\": \"2019-05-01T00:00:00.000Z\"}, {\"product\": \"prod_219\", \"quantity\": 20864.128292961246, \"region\": \"region_1\", \"plant\": \"plant_1\", \"date\": \"2019-05-01T00:00:00.000Z\"}, {\"product\": \"prod_219\", \"quantity\": 5010.566361288251, \"region\": \"region_1\", \"plant\": \"plant_2\", \"date\": \"2019-05-01T00:00:00.000Z\"}, {\"product\": \"prod_219\", \"quantity\": 34.13847981645405, \"region\": \"region_0\", \"plant\": \"plant_0\", \"date\": \"2020-05-01T00:00:00.000Z\"}, {\"product\": \"prod_219\", \"quantity\": 726.7914429885542, \"region\": \"region_0\", \"plant\": \"plant_1\", \"date\": \"2020-05-01T00:00:00.000Z\"}, {\"product\": \"prod_219\", \"quantity\": 204.9165453232672, \"region\": \"region_0\", \"plant\": \"plant_2\", \"date\": \"2020-05-01T00:00:00.000Z\"}, {\"product\": \"prod_219\", \"quantity\": 827.6643146200365, \"region\": \"region_1\", \"plant\": \"plant_0\", \"date\": \"2020-05-01T00:00:00.000Z\"}, {\"product\": \"prod_219\", \"quantity\": 16784.033570334414, \"region\": \"region_1\", \"plant\": \"plant_1\", \"date\": \"2020-05-01T00:00:00.000Z\"}, {\"product\": \"prod_219\", \"quantity\": 5240.83657145294, \"region\": \"region_1\", \"plant\": \"plant_2\", \"date\": \"2020-05-01T00:00:00.000Z\"}, {\"product\": \"prod_219\", \"quantity\": 35.47740992510073, \"region\": \"region_0\", \"plant\": \"plant_0\", \"date\": \"2021-05-01T00:00:00.000Z\"}, {\"product\": \"prod_219\", \"quantity\": 772.3809783834967, \"region\": \"region_0\", \"plant\": \"plant_1\", \"date\": \"2021-05-01T00:00:00.000Z\"}, {\"product\": \"prod_219\", \"quantity\": 182.27171545574458, \"region\": \"region_0\", \"plant\": \"plant_2\", \"date\": \"2021-05-01T00:00:00.000Z\"}, {\"product\": \"prod_219\", \"quantity\": 970.3526126849578, \"region\": \"region_1\", \"plant\": \"plant_0\", \"date\": \"2021-05-01T00:00:00.000Z\"}, {\"product\": \"prod_219\", \"quantity\": 16891.09818428466, \"region\": \"region_1\", \"plant\": \"plant_1\", \"date\": \"2021-05-01T00:00:00.000Z\"}, {\"product\": \"prod_219\", \"quantity\": 5798.0666546182765, \"region\": \"region_1\", \"plant\": \"plant_2\", \"date\": \"2021-05-01T00:00:00.000Z\"}, {\"product\": \"prod_219\", \"quantity\": 36.25354594037048, \"region\": \"region_0\", \"plant\": \"plant_0\", \"date\": \"2018-06-01T00:00:00.000Z\"}, {\"product\": \"prod_219\", \"quantity\": 731.0837823721307, \"region\": \"region_0\", \"plant\": \"plant_1\", \"date\": \"2018-06-01T00:00:00.000Z\"}, {\"product\": \"prod_219\", \"quantity\": 157.0874109165035, \"region\": \"region_0\", \"plant\": \"plant_2\", \"date\": \"2018-06-01T00:00:00.000Z\"}, {\"product\": \"prod_219\", \"quantity\": 872.4141902250634, \"region\": \"region_1\", \"plant\": \"plant_0\", \"date\": \"2018-06-01T00:00:00.000Z\"}, {\"product\": \"prod_219\", \"quantity\": 16903.197433535734, \"region\": \"region_1\", \"plant\": \"plant_1\", \"date\": \"2018-06-01T00:00:00.000Z\"}, {\"product\": \"prod_219\", \"quantity\": 5036.460750894681, \"region\": \"region_1\", \"plant\": \"plant_2\", \"date\": \"2018-06-01T00:00:00.000Z\"}, {\"product\": \"prod_219\", \"quantity\": 32.93959893957092, \"region\": \"region_0\", \"plant\": \"plant_0\", \"date\": \"2019-06-01T00:00:00.000Z\"}, {\"product\": \"prod_219\", \"quantity\": 812.103513463021, \"region\": \"region_0\", \"plant\": \"plant_1\", \"date\": \"2019-06-01T00:00:00.000Z\"}, {\"product\": \"prod_219\", \"quantity\": 182.06591713129723, \"region\": \"region_0\", \"plant\": \"plant_2\", \"date\": \"2019-06-01T00:00:00.000Z\"}, {\"product\": \"prod_219\", \"quantity\": 909.2606019736209, \"region\": \"region_1\", \"plant\": \"plant_0\", \"date\": \"2019-06-01T00:00:00.000Z\"}, {\"product\": \"prod_219\", \"quantity\": 17330.45437883406, \"region\": \"region_1\", \"plant\": \"plant_1\", \"date\": \"2019-06-01T00:00:00.000Z\"}, {\"product\": \"prod_219\", \"quantity\": 4070.114507853174, \"region\": \"region_1\", \"plant\": \"plant_2\", \"date\": \"2019-06-01T00:00:00.000Z\"}, {\"product\": \"prod_219\", \"quantity\": 34.55393157701811, \"region\": \"region_0\", \"plant\": \"plant_0\", \"date\": \"2020-06-01T00:00:00.000Z\"}, {\"product\": \"prod_219\", \"quantity\": 827.3910612877145, \"region\": \"region_0\", \"plant\": \"plant_1\", \"date\": \"2020-06-01T00:00:00.000Z\"}, {\"product\": \"prod_219\", \"quantity\": 210.76629432186834, \"region\": \"region_0\", \"plant\": \"plant_2\", \"date\": \"2020-06-01T00:00:00.000Z\"}, {\"product\": \"prod_219\", \"quantity\": 985.5163149761629, \"region\": \"region_1\", \"plant\": \"plant_0\", \"date\": \"2020-06-01T00:00:00.000Z\"}, {\"product\": \"prod_219\", \"quantity\": 20620.704432995117, \"region\": \"region_1\", \"plant\": \"plant_1\", \"date\": \"2020-06-01T00:00:00.000Z\"}, {\"product\": \"prod_219\", \"quantity\": 5613.993238732598, \"region\": \"region_1\", \"plant\": \"plant_2\", \"date\": \"2020-06-01T00:00:00.000Z\"}, {\"product\": \"prod_219\", \"quantity\": 30.507098470588616, \"region\": \"region_0\", \"plant\": \"plant_0\", \"date\": \"2021-06-01T00:00:00.000Z\"}, {\"product\": \"prod_219\", \"quantity\": 723.6369648451122, \"region\": \"region_0\", \"plant\": \"plant_1\", \"date\": \"2021-06-01T00:00:00.000Z\"}, {\"product\": \"prod_219\", \"quantity\": 165.46563852933818, \"region\": \"region_0\", \"plant\": \"plant_2\", \"date\": \"2021-06-01T00:00:00.000Z\"}, {\"product\": \"prod_219\", \"quantity\": 820.3680426787449, \"region\": \"region_1\", \"plant\": \"plant_0\", \"date\": \"2021-06-01T00:00:00.000Z\"}, {\"product\": \"prod_219\", \"quantity\": 20264.473964679488, \"region\": \"region_1\", \"plant\": \"plant_1\", \"date\": \"2021-06-01T00:00:00.000Z\"}, {\"product\": \"prod_219\", \"quantity\": 5224.484834097917, \"region\": \"region_1\", \"plant\": \"plant_2\", \"date\": \"2021-06-01T00:00:00.000Z\"}, {\"product\": \"prod_219\", \"quantity\": 29.288813509463633, \"region\": \"region_0\", \"plant\": \"plant_0\", \"date\": \"2018-07-01T00:00:00.000Z\"}, {\"product\": \"prod_219\", \"quantity\": 779.384928168977, \"region\": \"region_0\", \"plant\": \"plant_1\", \"date\": \"2018-07-01T00:00:00.000Z\"}, {\"product\": \"prod_219\", \"quantity\": 207.45462330494078, \"region\": \"region_0\", \"plant\": \"plant_2\", \"date\": \"2018-07-01T00:00:00.000Z\"}, {\"product\": \"prod_219\", \"quantity\": 973.2826418554383, \"region\": \"region_1\", \"plant\": \"plant_0\", \"date\": \"2018-07-01T00:00:00.000Z\"}, {\"product\": \"prod_219\", \"quantity\": 18118.665446625, \"region\": \"region_1\", \"plant\": \"plant_1\", \"date\": \"2018-07-01T00:00:00.000Z\"}, {\"product\": \"prod_219\", \"quantity\": 4058.0985961442148, \"region\": \"region_1\", \"plant\": \"plant_2\", \"date\": \"2018-07-01T00:00:00.000Z\"}, {\"product\": \"prod_219\", \"quantity\": 30.553752990546837, \"region\": \"region_0\", \"plant\": \"plant_0\", \"date\": \"2019-07-01T00:00:00.000Z\"}, {\"product\": \"prod_219\", \"quantity\": 580.9340298319337, \"region\": \"region_0\", \"plant\": \"plant_1\", \"date\": \"2019-07-01T00:00:00.000Z\"}, {\"product\": \"prod_219\", \"quantity\": 165.17931502386293, \"region\": \"region_0\", \"plant\": \"plant_2\", \"date\": \"2019-07-01T00:00:00.000Z\"}, {\"product\": \"prod_219\", \"quantity\": 735.5313066742809, \"region\": \"region_1\", \"plant\": \"plant_0\", \"date\": \"2019-07-01T00:00:00.000Z\"}, {\"product\": \"prod_219\", \"quantity\": 21540.684828759073, \"region\": \"region_1\", \"plant\": \"plant_1\", \"date\": \"2019-07-01T00:00:00.000Z\"}, {\"product\": \"prod_219\", \"quantity\": 5686.348649059797, \"region\": \"region_1\", \"plant\": \"plant_2\", \"date\": \"2019-07-01T00:00:00.000Z\"}, {\"product\": \"prod_219\", \"quantity\": 30.53453253247442, \"region\": \"region_0\", \"plant\": \"plant_0\", \"date\": \"2020-07-01T00:00:00.000Z\"}, {\"product\": \"prod_219\", \"quantity\": 557.2349875401117, \"region\": \"region_0\", \"plant\": \"plant_1\", \"date\": \"2020-07-01T00:00:00.000Z\"}, {\"product\": \"prod_219\", \"quantity\": 210.02750493405262, \"region\": \"region_0\", \"plant\": \"plant_2\", \"date\": \"2020-07-01T00:00:00.000Z\"}, {\"product\": \"prod_219\", \"quantity\": 970.5628749775352, \"region\": \"region_1\", \"plant\": \"plant_0\", \"date\": \"2020-07-01T00:00:00.000Z\"}, {\"product\": \"prod_219\", \"quantity\": 16093.432677046667, \"region\": \"region_1\", \"plant\": \"plant_1\", \"date\": \"2020-07-01T00:00:00.000Z\"}, {\"product\": \"prod_219\", \"quantity\": 4846.250732434201, \"region\": \"region_1\", \"plant\": \"plant_2\", \"date\": \"2020-07-01T00:00:00.000Z\"}, {\"product\": \"prod_219\", \"quantity\": 26.264941203366476, \"region\": \"region_0\", \"plant\": \"plant_0\", \"date\": \"2021-07-01T00:00:00.000Z\"}, {\"product\": \"prod_219\", \"quantity\": 688.7287109877645, \"region\": \"region_0\", \"plant\": \"plant_1\", \"date\": \"2021-07-01T00:00:00.000Z\"}, {\"product\": \"prod_219\", \"quantity\": 181.49023571393292, \"region\": \"region_0\", \"plant\": \"plant_2\", \"date\": \"2021-07-01T00:00:00.000Z\"}, {\"product\": \"prod_219\", \"quantity\": 816.3420126919762, \"region\": \"region_1\", \"plant\": \"plant_0\", \"date\": \"2021-07-01T00:00:00.000Z\"}, {\"product\": \"prod_219\", \"quantity\": 18566.91997976199, \"region\": \"region_1\", \"plant\": \"plant_1\", \"date\": \"2021-07-01T00:00:00.000Z\"}, {\"product\": \"prod_219\", \"quantity\": 4444.724260068882, \"region\": \"region_1\", \"plant\": \"plant_2\", \"date\": \"2021-07-01T00:00:00.000Z\"}, {\"product\": \"prod_219\", \"quantity\": 24.956889409135492, \"region\": \"region_0\", \"plant\": \"plant_0\", \"date\": \"2018-08-01T00:00:00.000Z\"}, {\"product\": \"prod_219\", \"quantity\": 632.7552374925381, \"region\": \"region_0\", \"plant\": \"plant_1\", \"date\": \"2018-08-01T00:00:00.000Z\"}, {\"product\": \"prod_219\", \"quantity\": 174.30119294744875, \"region\": \"region_0\", \"plant\": \"plant_2\", \"date\": \"2018-08-01T00:00:00.000Z\"}, {\"product\": \"prod_219\", \"quantity\": 865.9088035790289, \"region\": \"region_1\", \"plant\": \"plant_0\", \"date\": \"2018-08-01T00:00:00.000Z\"}, {\"product\": \"prod_219\", \"quantity\": 17351.623403863483, \"region\": \"region_1\", \"plant\": \"plant_1\", \"date\": \"2018-08-01T00:00:00.000Z\"}, {\"product\": \"prod_219\", \"quantity\": 4469.075854776566, \"region\": \"region_1\", \"plant\": \"plant_2\", \"date\": \"2018-08-01T00:00:00.000Z\"}, {\"product\": \"prod_219\", \"quantity\": 35.47000561538349, \"region\": \"region_0\", \"plant\": \"plant_0\", \"date\": \"2019-08-01T00:00:00.000Z\"}, {\"product\": \"prod_219\", \"quantity\": 716.3568075180954, \"region\": \"region_0\", \"plant\": \"plant_1\", \"date\": \"2019-08-01T00:00:00.000Z\"}, {\"product\": \"prod_219\", \"quantity\": 202.69662034195773, \"region\": \"region_0\", \"plant\": \"plant_2\", \"date\": \"2019-08-01T00:00:00.000Z\"}, {\"product\": \"prod_219\", \"quantity\": 784.4665149362592, \"region\": \"region_1\", \"plant\": \"plant_0\", \"date\": \"2019-08-01T00:00:00.000Z\"}, {\"product\": \"prod_219\", \"quantity\": 18276.55219707429, \"region\": \"region_1\", \"plant\": \"plant_1\", \"date\": \"2019-08-01T00:00:00.000Z\"}, {\"product\": \"prod_219\", \"quantity\": 4047.684549994954, \"region\": \"region_1\", \"plant\": \"plant_2\", \"date\": \"2019-08-01T00:00:00.000Z\"}, {\"product\": \"prod_219\", \"quantity\": 34.07572373745652, \"region\": \"region_0\", \"plant\": \"plant_0\", \"date\": \"2020-08-01T00:00:00.000Z\"}, {\"product\": \"prod_219\", \"quantity\": 825.7922662901286, \"region\": \"region_0\", \"plant\": \"plant_1\", \"date\": \"2020-08-01T00:00:00.000Z\"}, {\"product\": \"prod_219\", \"quantity\": 177.9465621919784, \"region\": \"region_0\", \"plant\": \"plant_2\", \"date\": \"2020-08-01T00:00:00.000Z\"}, {\"product\": \"prod_219\", \"quantity\": 798.983895252905, \"region\": \"region_1\", \"plant\": \"plant_0\", \"date\": \"2020-08-01T00:00:00.000Z\"}, {\"product\": \"prod_219\", \"quantity\": 17269.958479550893, \"region\": \"region_1\", \"plant\": \"plant_1\", \"date\": \"2020-08-01T00:00:00.000Z\"}, {\"product\": \"prod_219\", \"quantity\": 4580.207211801694, \"region\": \"region_1\", \"plant\": \"plant_2\", \"date\": \"2020-08-01T00:00:00.000Z\"}, {\"product\": \"prod_219\", \"quantity\": 27.904559193880587, \"region\": \"region_0\", \"plant\": \"plant_0\", \"date\": \"2021-08-01T00:00:00.000Z\"}, {\"product\": \"prod_219\", \"quantity\": 769.8761111457821, \"region\": \"region_0\", \"plant\": \"plant_1\", \"date\": \"2021-08-01T00:00:00.000Z\"}, {\"product\": \"prod_219\", \"quantity\": 179.7072955666405, \"region\": \"region_0\", \"plant\": \"plant_2\", \"date\": \"2021-08-01T00:00:00.000Z\"}, {\"product\": \"prod_219\", \"quantity\": 839.0550164609543, \"region\": \"region_1\", \"plant\": \"plant_0\", \"date\": \"2021-08-01T00:00:00.000Z\"}, {\"product\": \"prod_219\", \"quantity\": 18478.441906731423, \"region\": \"region_1\", \"plant\": \"plant_1\", \"date\": \"2021-08-01T00:00:00.000Z\"}, {\"product\": \"prod_219\", \"quantity\": 5645.233761899525, \"region\": \"region_1\", \"plant\": \"plant_2\", \"date\": \"2021-08-01T00:00:00.000Z\"}, {\"product\": \"prod_219\", \"quantity\": 29.62934884694019, \"region\": \"region_0\", \"plant\": \"plant_0\", \"date\": \"2018-09-01T00:00:00.000Z\"}, {\"product\": \"prod_219\", \"quantity\": 779.792040578482, \"region\": \"region_0\", \"plant\": \"plant_1\", \"date\": \"2018-09-01T00:00:00.000Z\"}, {\"product\": \"prod_219\", \"quantity\": 206.48734179104594, \"region\": \"region_0\", \"plant\": \"plant_2\", \"date\": \"2018-09-01T00:00:00.000Z\"}, {\"product\": \"prod_219\", \"quantity\": 783.876923986527, \"region\": \"region_1\", \"plant\": \"plant_0\", \"date\": \"2018-09-01T00:00:00.000Z\"}, {\"product\": \"prod_219\", \"quantity\": 17393.642985859613, \"region\": \"region_1\", \"plant\": \"plant_1\", \"date\": \"2018-09-01T00:00:00.000Z\"}, {\"product\": \"prod_219\", \"quantity\": 4843.631273288498, \"region\": \"region_1\", \"plant\": \"plant_2\", \"date\": \"2018-09-01T00:00:00.000Z\"}, {\"product\": \"prod_219\", \"quantity\": 32.11637194844133, \"region\": \"region_0\", \"plant\": \"plant_0\", \"date\": \"2019-09-01T00:00:00.000Z\"}, {\"product\": \"prod_219\", \"quantity\": 798.3175122711008, \"region\": \"region_0\", \"plant\": \"plant_1\", \"date\": \"2019-09-01T00:00:00.000Z\"}, {\"product\": \"prod_219\", \"quantity\": 187.3698156455118, \"region\": \"region_0\", \"plant\": \"plant_2\", \"date\": \"2019-09-01T00:00:00.000Z\"}, {\"product\": \"prod_219\", \"quantity\": 805.8104992001868, \"region\": \"region_1\", \"plant\": \"plant_0\", \"date\": \"2019-09-01T00:00:00.000Z\"}, {\"product\": \"prod_219\", \"quantity\": 18540.847605614912, \"region\": \"region_1\", \"plant\": \"plant_1\", \"date\": \"2019-09-01T00:00:00.000Z\"}, {\"product\": \"prod_219\", \"quantity\": 4767.814976295207, \"region\": \"region_1\", \"plant\": \"plant_2\", \"date\": \"2019-09-01T00:00:00.000Z\"}, {\"product\": \"prod_219\", \"quantity\": 30.574684220702594, \"region\": \"region_0\", \"plant\": \"plant_0\", \"date\": \"2020-09-01T00:00:00.000Z\"}, {\"product\": \"prod_219\", \"quantity\": 563.1154787137257, \"region\": \"region_0\", \"plant\": \"plant_1\", \"date\": \"2020-09-01T00:00:00.000Z\"}, {\"product\": \"prod_219\", \"quantity\": 158.05077414802088, \"region\": \"region_0\", \"plant\": \"plant_2\", \"date\": \"2020-09-01T00:00:00.000Z\"}, {\"product\": \"prod_219\", \"quantity\": 721.7696856559286, \"region\": \"region_1\", \"plant\": \"plant_0\", \"date\": \"2020-09-01T00:00:00.000Z\"}, {\"product\": \"prod_219\", \"quantity\": 21827.627209032096, \"region\": \"region_1\", \"plant\": \"plant_1\", \"date\": \"2020-09-01T00:00:00.000Z\"}, {\"product\": \"prod_219\", \"quantity\": 5566.206817691399, \"region\": \"region_1\", \"plant\": \"plant_2\", \"date\": \"2020-09-01T00:00:00.000Z\"}, {\"product\": \"prod_219\", \"quantity\": 30.401633275144672, \"region\": \"region_0\", \"plant\": \"plant_0\", \"date\": \"2018-10-01T00:00:00.000Z\"}, {\"product\": \"prod_219\", \"quantity\": 700.0751305166091, \"region\": \"region_0\", \"plant\": \"plant_1\", \"date\": \"2018-10-01T00:00:00.000Z\"}, {\"product\": \"prod_219\", \"quantity\": 155.81383193387666, \"region\": \"region_0\", \"plant\": \"plant_2\", \"date\": \"2018-10-01T00:00:00.000Z\"}, {\"product\": \"prod_219\", \"quantity\": 827.6835247124496, \"region\": \"region_1\", \"plant\": \"plant_0\", \"date\": \"2018-10-01T00:00:00.000Z\"}, {\"product\": \"prod_219\", \"quantity\": 21725.209767935987, \"region\": \"region_1\", \"plant\": \"plant_1\", \"date\": \"2018-10-01T00:00:00.000Z\"}, {\"product\": \"prod_219\", \"quantity\": 5325.804479423377, \"region\": \"region_1\", \"plant\": \"plant_2\", \"date\": \"2018-10-01T00:00:00.000Z\"}, {\"product\": \"prod_219\", \"quantity\": 27.745990730196603, \"region\": \"region_0\", \"plant\": \"plant_0\", \"date\": \"2019-10-01T00:00:00.000Z\"}, {\"product\": \"prod_219\", \"quantity\": 830.7425511856918, \"region\": \"region_0\", \"plant\": \"plant_1\", \"date\": \"2019-10-01T00:00:00.000Z\"}, {\"product\": \"prod_219\", \"quantity\": 192.38760952120018, \"region\": \"region_0\", \"plant\": \"plant_2\", \"date\": \"2019-10-01T00:00:00.000Z\"}, {\"product\": \"prod_219\", \"quantity\": 716.9884206614465, \"region\": \"region_1\", \"plant\": \"plant_0\", \"date\": \"2019-10-01T00:00:00.000Z\"}, {\"product\": \"prod_219\", \"quantity\": 21598.39804868229, \"region\": \"region_1\", \"plant\": \"plant_1\", \"date\": \"2019-10-01T00:00:00.000Z\"}, {\"product\": \"prod_219\", \"quantity\": 5036.447383863364, \"region\": \"region_1\", \"plant\": \"plant_2\", \"date\": \"2019-10-01T00:00:00.000Z\"}, {\"product\": \"prod_219\", \"quantity\": 36.881445297689815, \"region\": \"region_0\", \"plant\": \"plant_0\", \"date\": \"2020-10-01T00:00:00.000Z\"}, {\"product\": \"prod_219\", \"quantity\": 590.3859230166626, \"region\": \"region_0\", \"plant\": \"plant_1\", \"date\": \"2020-10-01T00:00:00.000Z\"}, {\"product\": \"prod_219\", \"quantity\": 195.25617726228595, \"region\": \"region_0\", \"plant\": \"plant_2\", \"date\": \"2020-10-01T00:00:00.000Z\"}, {\"product\": \"prod_219\", \"quantity\": 905.6690302707559, \"region\": \"region_1\", \"plant\": \"plant_0\", \"date\": \"2020-10-01T00:00:00.000Z\"}, {\"product\": \"prod_219\", \"quantity\": 22144.906720624618, \"region\": \"region_1\", \"plant\": \"plant_1\", \"date\": \"2020-10-01T00:00:00.000Z\"}, {\"product\": \"prod_219\", \"quantity\": 5446.43971004158, \"region\": \"region_1\", \"plant\": \"plant_2\", \"date\": \"2020-10-01T00:00:00.000Z\"}, {\"product\": \"prod_219\", \"quantity\": 34.72890853739568, \"region\": \"region_0\", \"plant\": \"plant_0\", \"date\": \"2018-11-01T00:00:00.000Z\"}, {\"product\": \"prod_219\", \"quantity\": 708.178398362436, \"region\": \"region_0\", \"plant\": \"plant_1\", \"date\": \"2018-11-01T00:00:00.000Z\"}, {\"product\": \"prod_219\", \"quantity\": 182.1871017047152, \"region\": \"region_0\", \"plant\": \"plant_2\", \"date\": \"2018-11-01T00:00:00.000Z\"}, {\"product\": \"prod_219\", \"quantity\": 824.074179397359, \"region\": \"region_1\", \"plant\": \"plant_0\", \"date\": \"2018-11-01T00:00:00.000Z\"}, {\"product\": \"prod_219\", \"quantity\": 22193.907159039183, \"region\": \"region_1\", \"plant\": \"plant_1\", \"date\": \"2018-11-01T00:00:00.000Z\"}, {\"product\": \"prod_219\", \"quantity\": 5434.427339418103, \"region\": \"region_1\", \"plant\": \"plant_2\", \"date\": \"2018-11-01T00:00:00.000Z\"}, {\"product\": \"prod_219\", \"quantity\": 32.63859841532548, \"region\": \"region_0\", \"plant\": \"plant_0\", \"date\": \"2019-11-01T00:00:00.000Z\"}, {\"product\": \"prod_219\", \"quantity\": 651.1019000947134, \"region\": \"region_0\", \"plant\": \"plant_1\", \"date\": \"2019-11-01T00:00:00.000Z\"}, {\"product\": \"prod_219\", \"quantity\": 151.03911509168148, \"region\": \"region_0\", \"plant\": \"plant_2\", \"date\": \"2019-11-01T00:00:00.000Z\"}, {\"product\": \"prod_219\", \"quantity\": 1003.6619126267796, \"region\": \"region_1\", \"plant\": \"plant_0\", \"date\": \"2019-11-01T00:00:00.000Z\"}, {\"product\": \"prod_219\", \"quantity\": 18657.55944898, \"region\": \"region_1\", \"plant\": \"plant_1\", \"date\": \"2019-11-01T00:00:00.000Z\"}, {\"product\": \"prod_219\", \"quantity\": 5529.242364449433, \"region\": \"region_1\", \"plant\": \"plant_2\", \"date\": \"2019-11-01T00:00:00.000Z\"}, {\"product\": \"prod_219\", \"quantity\": 26.492761895825478, \"region\": \"region_0\", \"plant\": \"plant_0\", \"date\": \"2020-11-01T00:00:00.000Z\"}, {\"product\": \"prod_219\", \"quantity\": 798.1413942815445, \"region\": \"region_0\", \"plant\": \"plant_1\", \"date\": \"2020-11-01T00:00:00.000Z\"}, {\"product\": \"prod_219\", \"quantity\": 150.6928902020854, \"region\": \"region_0\", \"plant\": \"plant_2\", \"date\": \"2020-11-01T00:00:00.000Z\"}, {\"product\": \"prod_219\", \"quantity\": 1014.982700970127, \"region\": \"region_1\", \"plant\": \"plant_0\", \"date\": \"2020-11-01T00:00:00.000Z\"}, {\"product\": \"prod_219\", \"quantity\": 20878.013668319683, \"region\": \"region_1\", \"plant\": \"plant_1\", \"date\": \"2020-11-01T00:00:00.000Z\"}, {\"product\": \"prod_219\", \"quantity\": 5076.273421581147, \"region\": \"region_1\", \"plant\": \"plant_2\", \"date\": \"2020-11-01T00:00:00.000Z\"}, {\"product\": \"prod_219\", \"quantity\": 35.44439246625394, \"region\": \"region_0\", \"plant\": \"plant_0\", \"date\": \"2018-12-01T00:00:00.000Z\"}, {\"product\": \"prod_219\", \"quantity\": 733.8192134947996, \"region\": \"region_0\", \"plant\": \"plant_1\", \"date\": \"2018-12-01T00:00:00.000Z\"}, {\"product\": \"prod_219\", \"quantity\": 187.46309504602937, \"region\": \"region_0\", \"plant\": \"plant_2\", \"date\": \"2018-12-01T00:00:00.000Z\"}, {\"product\": \"prod_219\", \"quantity\": 815.639285839651, \"region\": \"region_1\", \"plant\": \"plant_0\", \"date\": \"2018-12-01T00:00:00.000Z\"}, {\"product\": \"prod_219\", \"quantity\": 23346.403332025282, \"region\": \"region_1\", \"plant\": \"plant_1\", \"date\": \"2018-12-01T00:00:00.000Z\"}, {\"product\": \"prod_219\", \"quantity\": 4468.039748911963, \"region\": \"region_1\", \"plant\": \"plant_2\", \"date\": \"2018-12-01T00:00:00.000Z\"}, {\"product\": \"prod_219\", \"quantity\": 32.06628737292422, \"region\": \"region_0\", \"plant\": \"plant_0\", \"date\": \"2019-12-01T00:00:00.000Z\"}, {\"product\": \"prod_219\", \"quantity\": 756.0261409648272, \"region\": \"region_0\", \"plant\": \"plant_1\", \"date\": \"2019-12-01T00:00:00.000Z\"}, {\"product\": \"prod_219\", \"quantity\": 162.77198401903175, \"region\": \"region_0\", \"plant\": \"plant_2\", \"date\": \"2019-12-01T00:00:00.000Z\"}, {\"product\": \"prod_219\", \"quantity\": 1034.6438771229218, \"region\": \"region_1\", \"plant\": \"plant_0\", \"date\": \"2019-12-01T00:00:00.000Z\"}, {\"product\": \"prod_219\", \"quantity\": 22157.411859591102, \"region\": \"region_1\", \"plant\": \"plant_1\", \"date\": \"2019-12-01T00:00:00.000Z\"}, {\"product\": \"prod_219\", \"quantity\": 4163.874256003195, \"region\": \"region_1\", \"plant\": \"plant_2\", \"date\": \"2019-12-01T00:00:00.000Z\"}, {\"product\": \"prod_219\", \"quantity\": 34.94636933849928, \"region\": \"region_0\", \"plant\": \"plant_0\", \"date\": \"2020-12-01T00:00:00.000Z\"}, {\"product\": \"prod_219\", \"quantity\": 701.2400504590615, \"region\": \"region_0\", \"plant\": \"plant_1\", \"date\": \"2020-12-01T00:00:00.000Z\"}, {\"product\": \"prod_219\", \"quantity\": 175.59097204283736, \"region\": \"region_0\", \"plant\": \"plant_2\", \"date\": \"2020-12-01T00:00:00.000Z\"}, {\"product\": \"prod_219\", \"quantity\": 925.6654163214447, \"region\": \"region_1\", \"plant\": \"plant_0\", \"date\": \"2020-12-01T00:00:00.000Z\"}, {\"product\": \"prod_219\", \"quantity\": 16393.571954409268, \"region\": \"region_1\", \"plant\": \"plant_1\", \"date\": \"2020-12-01T00:00:00.000Z\"}, {\"product\": \"prod_219\", \"quantity\": 5546.67832323432, \"region\": \"region_1\", \"plant\": \"plant_2\", \"date\": \"2020-12-01T00:00:00.000Z\"}]}}, {\"mode\": \"vega-lite\"});\n",
       "</script>"
      ],
      "text/plain": [
       "alt.Chart(...)"
      ]
     },
     "execution_count": 51,
     "metadata": {},
     "output_type": "execute_result"
    }
   ],
   "source": [
    "alt.Chart(df_raw.query(\"product == 'prod_219'\")).mark_line().encode(\n",
    "    x=alt.X(\"date:T\"),\n",
    "    y=alt.Y(\"quantity:Q\"),\n",
    "    color=alt.Color(\"plant:N\"),\n",
    "    detail=\"region:N\",\n",
    "    tooltip = \n",
    ").properties(width=800).interactive()"
   ]
  },
  {
   "cell_type": "code",
   "execution_count": 27,
   "id": "27afeb23",
   "metadata": {},
   "outputs": [],
   "source": [
    "from statsmodels.tsa.seasonal import STL, seasonal_decompose"
   ]
  },
  {
   "cell_type": "code",
   "execution_count": 30,
   "id": "2f736f90",
   "metadata": {},
   "outputs": [
    {
     "data": {
      "text/plain": [
       "date\n",
       "2018-01-01T00:00:00.000Z    754.850483\n",
       "2018-02-01T00:00:00.000Z    588.339553\n",
       "2018-03-01T00:00:00.000Z    829.803804\n",
       "2018-04-01T00:00:00.000Z    722.328559\n",
       "2018-05-01T00:00:00.000Z    614.470143\n",
       "2018-06-01T00:00:00.000Z    731.083782\n",
       "2018-07-01T00:00:00.000Z    779.384928\n",
       "2018-08-01T00:00:00.000Z    632.755237\n",
       "2018-09-01T00:00:00.000Z    779.792041\n",
       "2018-10-01T00:00:00.000Z    700.075131\n",
       "2018-11-01T00:00:00.000Z    708.178398\n",
       "2018-12-01T00:00:00.000Z    733.819213\n",
       "2019-01-01T00:00:00.000Z    645.924260\n",
       "2019-02-01T00:00:00.000Z    565.116194\n",
       "2019-03-01T00:00:00.000Z    599.066993\n",
       "2019-04-01T00:00:00.000Z    823.511237\n",
       "2019-05-01T00:00:00.000Z    636.475068\n",
       "2019-06-01T00:00:00.000Z    812.103513\n",
       "2019-07-01T00:00:00.000Z    580.934030\n",
       "2019-08-01T00:00:00.000Z    716.356808\n",
       "2019-09-01T00:00:00.000Z    798.317512\n",
       "2019-10-01T00:00:00.000Z    830.742551\n",
       "2019-11-01T00:00:00.000Z    651.101900\n",
       "2019-12-01T00:00:00.000Z    756.026141\n",
       "2020-01-01T00:00:00.000Z    829.210146\n",
       "2020-02-01T00:00:00.000Z    611.395666\n",
       "2020-03-01T00:00:00.000Z    705.049668\n",
       "2020-04-01T00:00:00.000Z    763.904835\n",
       "2020-05-01T00:00:00.000Z    726.791443\n",
       "2020-06-01T00:00:00.000Z    827.391061\n",
       "2020-07-01T00:00:00.000Z    557.234988\n",
       "2020-08-01T00:00:00.000Z    825.792266\n",
       "2020-09-01T00:00:00.000Z    563.115479\n",
       "2020-10-01T00:00:00.000Z    590.385923\n",
       "2020-11-01T00:00:00.000Z    798.141394\n",
       "2020-12-01T00:00:00.000Z    701.240050\n",
       "2021-01-01T00:00:00.000Z    579.169315\n",
       "2021-02-01T00:00:00.000Z    765.293925\n",
       "2021-03-01T00:00:00.000Z    623.821761\n",
       "2021-04-01T00:00:00.000Z    781.988687\n",
       "2021-05-01T00:00:00.000Z    772.380978\n",
       "2021-06-01T00:00:00.000Z    723.636965\n",
       "2021-07-01T00:00:00.000Z    688.728711\n",
       "2021-08-01T00:00:00.000Z    769.876111\n",
       "Name: quantity, dtype: float64"
      ]
     },
     "execution_count": 30,
     "metadata": {},
     "output_type": "execute_result"
    }
   ],
   "source": [
    "df_decomp = df_raw.query(\n",
    "    \"product == 'prod_219' & region == 'region_0' & plant == 'plant_1'\"\n",
    ").set_index(\"date\")[\"quantity\"].sort_index()\n",
    "df_decomp"
   ]
  },
  {
   "cell_type": "code",
   "execution_count": 35,
   "id": "47efccb9",
   "metadata": {},
   "outputs": [],
   "source": [
    "df_decomp.index = pd.to_datetime(df_decomp.index)"
   ]
  },
  {
   "cell_type": "code",
   "execution_count": 48,
   "id": "58af7466",
   "metadata": {},
   "outputs": [],
   "source": [
    "decomp = seasonal_decompose(df_decomp)"
   ]
  },
  {
   "cell_type": "code",
   "execution_count": 49,
   "id": "b73d340b",
   "metadata": {},
   "outputs": [
    {
     "data": {
      "image/png": "[encoded data removed]",
      "text/plain": [
       "<Figure size 432x288 with 4 Axes>"
      ]
     },
     "metadata": {
      "needs_background": "light"
     },
     "output_type": "display_data"
    }
   ],
   "source": [
    "fig = decomp.plot();"
   ]
  },
  {
   "cell_type": "code",
   "execution_count": null,
   "id": "90ced963",
   "metadata": {},
   "outputs": [],
   "source": []
  }
 ],
 "metadata": {
  "hide_input": false,
  "kernelspec": {
   "display_name": "Python [conda env:spark] *",
   "language": "python",
   "name": "conda-env-spark-py"
  },
  "language_info": {
   "codemirror_mode": {
    "name": "ipython",
    "version": 3
   },
   "file_extension": ".py",
   "mimetype": "text/x-python",
   "name": "python",
   "nbconvert_exporter": "python",
   "pygments_lexer": "ipython3",
   "version": "3.8.10"
  }
 },
 "nbformat": 4,
 "nbformat_minor": 5
}
