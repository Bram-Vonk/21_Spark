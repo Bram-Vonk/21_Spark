{
 "cells": [
  {
   "cell_type": "code",
   "execution_count": null,
   "id": "5b8f5b37",
   "metadata": {},
   "outputs": [],
   "source": [
    "import os\n",
    "import sys\n",
    "sys.path.append(\"../\")\n",
    "\n",
    "import pandas as pd\n",
    "import numpy as np\n",
    "import datetime as dt\n",
    "import re\n",
    "\n",
    "import logging\n",
    "logger = logging.getLogger('SPARK')\n",
    "logger.setLevel(level=logging.WARNING)\n",
    "\n",
    "import altair as alt\n",
    "alt.data_transformers.disable_max_rows()\n",
    "\n",
    "from src.data.query_snowflake import update_week_extremes, read_week_extremes, read_meta\n",
    "from src.plot.altair import plot_limits, plot_history\n",
    "from src.plot.formatting import format_limits, format_history"
   ]
  },
  {
   "cell_type": "code",
   "execution_count": null,
   "id": "0bfcd250",
   "metadata": {},
   "outputs": [],
   "source": [
    "df_meta_full = read_meta()"
   ]
  },
  {
   "cell_type": "code",
   "execution_count": null,
   "id": "e5fd1b46",
   "metadata": {},
   "outputs": [],
   "source": [
    "# sample_box = df_meta_full.sample()[\"boxid\"].squeeze()\n",
    "# sample_box = 'TBB.581265-1'"
   ]
  },
  {
   "cell_type": "code",
   "execution_count": null,
   "id": "c7c6df09",
   "metadata": {},
   "outputs": [],
   "source": [
    "# %%time\n",
    "# df_meta = read_meta(sample_box)\n",
    "# df_limits = format_limits(df_meta=df_meta)\n",
    "# df_data = read_week_extremes(boxid=sample_box, L=\"sumli\")\n",
    "# df_plot = format_history(df_data)\n",
    "# plot_limits(df_limits) + plot_history(df_plot)"
   ]
  },
  {
   "cell_type": "markdown",
   "id": "01c2f286",
   "metadata": {},
   "source": [
    "## clean data"
   ]
  },
  {
   "cell_type": "code",
   "execution_count": null,
   "id": "056b7f65",
   "metadata": {},
   "outputs": [],
   "source": [
    "def too_short(df_data, threshold=52):\n",
    "    logger.info(f\"checking number of data points (<{threshold})\")\n",
    "    if len(df_data)<threshold:\n",
    "        logger.info(f\"number of data points ({len(df_data)}) under threshold ({threshold})\")\n",
    "        return True\n",
    "    else:\n",
    "        return False"
   ]
  },
  {
   "cell_type": "code",
   "execution_count": null,
   "id": "c323aac3",
   "metadata": {},
   "outputs": [],
   "source": [
    "def too_small(df_data, capacity, threshold=0.25):\n",
    "    logger.info(f\"checking absolute values (<{threshold})\")\n",
    "    if df_data[[\"max\", \"min\"]].abs().max().max() < capacity * threshold:\n",
    "        logger.info(\n",
    "            f\"value of data points are smaller than {threshold} times capacity ({capacity})\"\n",
    "        )\n",
    "        return True\n",
    "    else:\n",
    "        return False"
   ]
  },
  {
   "cell_type": "code",
   "execution_count": null,
   "id": "c680d71a",
   "metadata": {},
   "outputs": [],
   "source": [
    "def remove_leading_idling(df_data, capacity, threshold=0.01):\n",
    "    logger.info(f\"removing leading low values (<{threshold})\")\n",
    "    df_data = df_data.sort_values([\"year\", \"week\"])\n",
    "    df_mask = df_data[[\"max\", \"min\"]].abs().max(axis=1) > capacity * threshold\n",
    "    df_mask[df_mask.argmax() :] = True\n",
    "    return df_data.loc[df_mask]"
   ]
  },
  {
   "cell_type": "code",
   "execution_count": null,
   "id": "de7d8dd7",
   "metadata": {},
   "outputs": [],
   "source": [
    "# remove_idle_values(df_data, capacity, threshold=0.01).reset_index(drop=True)[\"max\"].plot()"
   ]
  },
  {
   "cell_type": "code",
   "execution_count": null,
   "id": "322e7ec0",
   "metadata": {},
   "outputs": [],
   "source": [
    "def load_data(boxid):\n",
    "    go = True\n",
    "    if go:\n",
    "        # load meta data and check availability\n",
    "        df_meta = read_meta(boxid=boxid)\n",
    "        if len(df_meta) == 0:\n",
    "            logger.info(f\"no meta data available for boxid: {boxid}\")\n",
    "            go = False\n",
    "\n",
    "    if go:\n",
    "        # load week extremes and check availability\n",
    "        df_data = read_week_extremes(boxid=boxid, L=\"sumli\")\n",
    "        if len(df_data) == 0:\n",
    "            logger.info(f\"no week extreme data available for boxid: {boxid}\")\n",
    "            go = False\n",
    "        else:\n",
    "            capacity = df_meta[\"vermogen_nominaal\"].squeeze()\n",
    "\n",
    "    min_rows = 52 * 2\n",
    "    max_loading = 0.50\n",
    "    threshold_idling = 0.01\n",
    "    # check data requirements and clean data\n",
    "    if go:\n",
    "        go = not too_short(df_data, threshold=min_rows)\n",
    "    if go:\n",
    "        go = not too_small(df_data, capacity, threshold=max_loading)\n",
    "    if go:\n",
    "        df_data = remove_leading_idling(df_data, capacity, threshold=threshold_idling)\n",
    "        go = not too_short(df_data, threshold=min_rows)\n",
    "\n",
    "    if go:\n",
    "        return df_data, df_meta"
   ]
  },
  {
   "cell_type": "code",
   "execution_count": null,
   "id": "90948ca0",
   "metadata": {},
   "outputs": [],
   "source": [
    "result=None\n",
    "while result is None:\n",
    "    sample_box = df_meta_full.sample()[\"boxid\"].squeeze()\n",
    "    sample_box = \"GNG.ts0521-1\"\n",
    "    result = load_data(boxid=sample_box)\n",
    "    \n",
    "# if result is not None:\n",
    "df_data, df_meta = result\n",
    "df_limits = format_limits(df_meta=df_meta)\n",
    "df_plot = format_history(df_data)\n",
    "display(plot_limits(df_limits) + plot_history(df_plot))\n",
    "print(sample_box)"
   ]
  },
  {
   "cell_type": "code",
   "execution_count": null,
   "id": "47f8752d",
   "metadata": {},
   "outputs": [],
   "source": [
    "def plot_total(df_data=None, df_meta=None, df_forecast=None):\n",
    "    plots = []\n",
    "\n",
    "    if df_forecast is not None:\n",
    "        forecast_plot = plot_forecast(format_forecast(df_forecast))\n",
    "        plots.append(forecast_plot)\n",
    "\n",
    "    if df_data is not None:\n",
    "        history_plot = plot_history(format_history(df_data))\n",
    "        plots.append(history_plot)\n",
    "\n",
    "    if df_meta is not None:\n",
    "        limits_plot = plot_limits(format_limits(df_meta=df_meta, df_data=None))\n",
    "        plots.append(limits_plot)\n",
    "\n",
    "    return (\n",
    "        alt.layer(*plots)\n",
    "        .resolve_scale(color=\"independent\", shape=\"independent\")\n",
    "        .interactive()\n",
    "    )"
   ]
  },
  {
   "cell_type": "code",
   "execution_count": null,
   "id": "27235da9",
   "metadata": {},
   "outputs": [],
   "source": [
    "df_data"
   ]
  },
  {
   "cell_type": "code",
   "execution_count": null,
   "id": "fde661c1",
   "metadata": {},
   "outputs": [],
   "source": [
    "dt.timedelta(weeks=26)\n",
    "dt.datetime.now().date() - dt.timedelta(weeks=26)"
   ]
  },
  {
   "cell_type": "code",
   "execution_count": null,
   "id": "feeefdf6",
   "metadata": {},
   "outputs": [],
   "source": [
    "df_data[\"date\"].max() - dt.timedelta(weeks=26)"
   ]
  },
  {
   "cell_type": "code",
   "execution_count": null,
   "id": "39843b9e",
   "metadata": {},
   "outputs": [],
   "source": [
    "def split_last(df_data, period=dt.timedelta(weeks=26)):\n",
    "    split = df_data[\"date\"].max() - period\n",
    "    df_train = df_data[df_data[\"date\"] < split]\n",
    "    df_test = df_data[df_data[\"date\"] >= split]\n",
    "    return df_train, df_test"
   ]
  },
  {
   "cell_type": "code",
   "execution_count": null,
   "id": "3d4c46d5",
   "metadata": {},
   "outputs": [],
   "source": [
    "df_train, df_test = split_last(df_data)"
   ]
  },
  {
   "cell_type": "code",
   "execution_count": null,
   "id": "79875698",
   "metadata": {},
   "outputs": [],
   "source": [
    "extremes = value_vars = [\"max\", \"min\"]\n",
    "df_test = df_test.melt(\n",
    "    id_vars=df_test.columns.difference(extremes),\n",
    "    value_vars=extremes,\n",
    "    var_name=\"extreme\",\n",
    ")\n",
    "df_test[\"forecast\"] = \"Q10-Q90\"\n",
    "df_test[\"upper\"] = df_test[\"value\"]+50\n",
    "df_test[\"lower\"] = df_test[\"value\"]-50\n",
    "df_test\n",
    "\n",
    "df_median = df_test.copy()\n",
    "df_median[\"forecast\"] = \"median\"\n",
    "df_median[\"upper\"] = df_median[\"value\"]\n",
    "df_median[\"lower\"] = df_median[\"value\"]\n",
    "df_test = pd.concat([df_test, df_median])"
   ]
  },
  {
   "cell_type": "code",
   "execution_count": null,
   "id": "c1d1dfa9",
   "metadata": {},
   "outputs": [],
   "source": [
    "df_test"
   ]
  },
  {
   "cell_type": "code",
   "execution_count": null,
   "id": "a62b6f9a",
   "metadata": {},
   "outputs": [],
   "source": []
  },
  {
   "cell_type": "code",
   "execution_count": null,
   "id": "d490fbf2",
   "metadata": {},
   "outputs": [],
   "source": [
    "# df_test_max = (\n",
    "#     df_test\n",
    "#     .assign(Q10=df_test[\"max\"] - 50)\n",
    "#     .assign(Q90=df_test[\"max\"] + 50)\n",
    "#     .assign(Q50=df_test[\"max\"])\n",
    "#     .assign(limit=\"max\")\n",
    "# )\n",
    "# df_test_min = (\n",
    "#     df_test\n",
    "#     .assign(Q10=df_test[\"min\"] - 50)\n",
    "#     .assign(Q90=df_test[\"min\"] + 50)\n",
    "#     .assign(Q50=df_test[\"min\"])\n",
    "#     .assign(limit=\"min\")\n",
    "# )\n",
    "# df_test = pd.concat([df_test_min, df_test_max])\n",
    "# df_test= df_test[[\"boxid\", \"date\", \"Q10\", \"Q50\", \"Q90\", \"limit\"]]\n",
    "# df_test.sample(5)"
   ]
  },
  {
   "cell_type": "code",
   "execution_count": null,
   "id": "e7c79127",
   "metadata": {},
   "outputs": [],
   "source": [
    "df_test.melt(\n",
    "    id_vars=[\"boxid\", \"date\", \"limit\"],\n",
    "    value_vars=[c for c in df_test.columns if re.match(r\"Q\\d{2,3}\", c)],\n",
    ")"
   ]
  },
  {
   "cell_type": "code",
   "execution_count": null,
   "id": "7a5f0bd2",
   "metadata": {},
   "outputs": [],
   "source": [
    "df_test"
   ]
  },
  {
   "cell_type": "code",
   "execution_count": null,
   "id": "60af5cb6",
   "metadata": {},
   "outputs": [],
   "source": [
    "# df_test = df_test.query(\"extreme =='max'\")\n",
    "# alt_band = alt.Chart(df_test).mark_area(line=True).encode(\n",
    "#     x=alt.X(\"date:T\"),\n",
    "#     y=alt.Y(\"lower:Q\", stack=None, title=\"\"),\n",
    "#     y2=alt.Y2(\"upper:Q\", title=\"\"),\n",
    "#     opacity=alt.Opacity(\"forecast:N\", scale=alt.Scale(domain=[\"Q10-Q90\", \"median\"], range=[.3, .8])),\n",
    "#     detail=\"extreme:N\"\n",
    "# ).interactive()\n",
    "# alt_band"
   ]
  },
  {
   "cell_type": "code",
   "execution_count": null,
   "id": "ad9a1ab6",
   "metadata": {},
   "outputs": [],
   "source": []
  },
  {
   "cell_type": "code",
   "execution_count": null,
   "id": "00a8949d",
   "metadata": {},
   "outputs": [],
   "source": []
  },
  {
   "cell_type": "code",
   "execution_count": null,
   "id": "4c53c3e2",
   "metadata": {},
   "outputs": [],
   "source": [
    "alt_band = alt.Chart(df_test).mark_area(opacity=0.3).encode(\n",
    "    x=alt.X(\"date:T\"),\n",
    "    y=alt.Y(\"Q10:Q\", stack=None, title=\"\"),\n",
    "    y2=alt.Y2(\"Q90:Q\", title=\"\"),\n",
    "    detail=(\"limit:N\"),\n",
    ").interactive()\n",
    "\n",
    "alt_median = alt.Chart(df_test).mark_line().encode(\n",
    "    x=alt.X(\"date:T\"),\n",
    "    y=alt.Y(\"Q50:Q\"),\n",
    "    detail=(\"limit:N\"),\n",
    ")\n",
    "\n",
    "alt_band + alt_median + plot_limits(df_limits)"
   ]
  },
  {
   "cell_type": "code",
   "execution_count": null,
   "id": "e2876dae",
   "metadata": {},
   "outputs": [],
   "source": [
    "def dummy_forecast(df_data):\n",
    "    extremes = value_vars = [\"max\", \"min\"]\n",
    "    df = df.melt(\n",
    "        id_vars=df_test.columns.difference(extremes),\n",
    "        value_vars=extremes,\n",
    "        var_name=\"extreme\",\n",
    "    )\n",
    "    df[\"forecast\"] = \"Q10-Q90\"\n",
    "    df[\"upper\"] = df[\"value\"]+50\n",
    "    df[\"lower\"] = df[\"value\"]-50\n",
    "    df\n",
    "\n",
    "    df_median = df.copy()\n",
    "    df_median[\"forecast\"] = \"median\"\n",
    "    df_median[\"upper\"] = df_median[\"value\"]\n",
    "    df_median[\"lower\"] = df_median[\"value\"]\n",
    "    df_forecast = pd.concat([df, df_median])\n",
    "    return df_forecast"
   ]
  },
  {
   "cell_type": "code",
   "execution_count": null,
   "id": "ace3070f",
   "metadata": {},
   "outputs": [],
   "source": [
    "df_forecast = dummy_forecast(df_test)"
   ]
  },
  {
   "cell_type": "code",
   "execution_count": null,
   "id": "100cfaa5",
   "metadata": {},
   "outputs": [],
   "source": [
    "df_forecast"
   ]
  },
  {
   "cell_type": "code",
   "execution_count": null,
   "id": "cd434538",
   "metadata": {},
   "outputs": [],
   "source": []
  },
  {
   "cell_type": "code",
   "execution_count": null,
   "id": "d846366b",
   "metadata": {},
   "outputs": [],
   "source": [
    "plot_total(df_data=df_data, df_meta=df_meta, df_forecast=df_test)"
   ]
  },
  {
   "cell_type": "code",
   "execution_count": null,
   "id": "d4fa45f0",
   "metadata": {},
   "outputs": [],
   "source": [
    "format_limits(df_meta=df_meta, df_data=df_data)"
   ]
  },
  {
   "cell_type": "code",
   "execution_count": null,
   "id": "e591ba94",
   "metadata": {},
   "outputs": [],
   "source": [
    "df_plot = pd.DataFrame(columns=[\"date\"], data=df_data.sort_values([\"year\", \"week\"]).iloc[[1, -1]].apply(\n",
    "    lambda df: dt.datetime.fromisocalendar(df[\"year\"], df[\"week\"], 1), axis=1\n",
    "))\n",
    "df_plot[\"lower\"] = -1\n",
    "df_plot[\"upper\"] = 1\n",
    "df_plot.melt(id_vars=[\"date\"], value_vars=[\"lower\", \"upper\"], var_name=[\"limit\"])"
   ]
  },
  {
   "cell_type": "code",
   "execution_count": null,
   "id": "fb6285c2",
   "metadata": {},
   "outputs": [],
   "source": [
    "[\n",
    "    \"ESD.000088-1\",\n",
    "    \"063.623-1\",\n",
    "    \"VRY.CHOPS-1\",\n",
    "    \"HVT.111153-1\",\n",
    "    \"TTR.251049-1\",\n",
    "    \"BGL.CROLA-1\",\n",
    "    \"ESD.000028-1\",\n",
    "    \"HVT.371157-1\",\n",
    "    \"GNG.ts0521-1\",\n",
    "    \"166.631-1\",\n",
    "]"
   ]
  },
  {
   "cell_type": "code",
   "execution_count": null,
   "id": "a5f3c485",
   "metadata": {},
   "outputs": [],
   "source": []
  }
 ],
 "metadata": {
  "hide_input": false,
  "kernelspec": {
   "display_name": "Python [conda env:spark] *",
   "language": "python",
   "name": "conda-env-spark-py"
  },
  "language_info": {
   "codemirror_mode": {
    "name": "ipython",
    "version": 3
   },
   "file_extension": ".py",
   "mimetype": "text/x-python",
   "name": "python",
   "nbconvert_exporter": "python",
   "pygments_lexer": "ipython3",
   "version": "3.8.10"
  }
 },
 "nbformat": 4,
 "nbformat_minor": 5
}
