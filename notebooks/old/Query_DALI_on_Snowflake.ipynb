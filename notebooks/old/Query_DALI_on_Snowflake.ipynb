{
 "cells": [
  {
   "cell_type": "code",
   "execution_count": 1,
   "id": "3b75d794",
   "metadata": {
    "hide_input": false
   },
   "outputs": [],
   "source": [
    "import sys\n",
    "\n",
    "sys.path.append(\"../\")\n",
    "\n",
    "from src.data.query_snowflake import (\n",
    "    create_DALI_week_extremes\n",
    "#     read_DALI_meta,\n",
    "#     make_DALI_week_extremes,\n",
    "#     write_DALI_week_extremes,\n",
    "#     read_DALI_week_extremes,\n",
    ")"
   ]
  },
  {
   "cell_type": "code",
   "execution_count": 3,
   "id": "2c2accdc",
   "metadata": {},
   "outputs": [
    {
     "name": "stdout",
     "output_type": "stream",
     "text": [
      "CPU times: user 323 ms, sys: 85.2 ms, total: 408 ms\n",
      "Wall time: 1.73 s\n"
     ]
    }
   ],
   "source": [
    "%%time\n",
    "# create_DALI_week_extremes(boxid=\"ESD.000400-1\")\n",
    "create_DALI_week_extremes()"
   ]
  },
  {
   "cell_type": "code",
   "execution_count": null,
   "id": "8e32ebb0",
   "metadata": {},
   "outputs": [],
   "source": []
  },
  {
   "cell_type": "code",
   "execution_count": null,
   "id": "59f7c6a8",
   "metadata": {},
   "outputs": [],
   "source": [
    "%%time\n",
    "df_extremes = read_DALI_week_extremes(L=\"sumli\")"
   ]
  },
  {
   "cell_type": "code",
   "execution_count": null,
   "id": "c8e4bbcc",
   "metadata": {},
   "outputs": [],
   "source": [
    "df_extremes.info()"
   ]
  },
  {
   "cell_type": "markdown",
   "id": "256ed99b",
   "metadata": {},
   "source": []
  }
 ],
 "metadata": {
  "hide_input": false,
  "kernelspec": {
   "display_name": "Python [conda env:spark] *",
   "language": "python",
   "name": "conda-env-spark-py"
  },
  "language_info": {
   "codemirror_mode": {
    "name": "ipython",
    "version": 3
   },
   "file_extension": ".py",
   "mimetype": "text/x-python",
   "name": "python",
   "nbconvert_exporter": "python",
   "pygments_lexer": "ipython3",
   "version": "3.8.10"
  }
 },
 "nbformat": 4,
 "nbformat_minor": 5
}
