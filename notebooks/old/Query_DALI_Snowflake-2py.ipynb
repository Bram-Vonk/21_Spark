{
 "cells": [
  {
   "cell_type": "code",
   "execution_count": null,
   "id": "3b75d794",
   "metadata": {},
   "outputs": [],
   "source": [
    "import sys\n",
    "\n",
    "sys.path.append(\"../\")\n",
    "\n",
    "from src.data.query_snowflake import (\n",
    "    read_DALI_meta,\n",
    "    make_DALI_week_extremes,\n",
    "    write_DALI_week_extremes,\n",
    "    read_DALI_week_extremes,\n",
    ")"
   ]
  },
  {
   "cell_type": "code",
   "execution_count": null,
   "id": "767f2c40",
   "metadata": {},
   "outputs": [],
   "source": [
    "%%time\n",
    "df_meta = read_DALI_meta()\n",
    "df_meta"
   ]
  },
  {
   "cell_type": "code",
   "execution_count": null,
   "id": "cc6b385e",
   "metadata": {},
   "outputs": [],
   "source": [
    "%%time\n",
    "df_extremes = make_DALI_week_extremes(boxid=df_meta[\"boxid\"])\n",
    "df_extremes"
   ]
  },
  {
   "cell_type": "code",
   "execution_count": null,
   "id": "5b2da1ce",
   "metadata": {},
   "outputs": [],
   "source": [
    "df_extremes.info()"
   ]
  },
  {
   "cell_type": "code",
   "execution_count": null,
   "id": "5de9b4f0",
   "metadata": {},
   "outputs": [],
   "source": [
    "# import pandas as pd"
   ]
  },
  {
   "cell_type": "code",
   "execution_count": null,
   "id": "3bd77d52",
   "metadata": {},
   "outputs": [],
   "source": [
    "# pd.to_datetime(df_extremes[\"processed_on\"])\n",
    "# df_extremes[\"processed_on\"].astype(pd.DatetimeTZDtype)"
   ]
  },
  {
   "cell_type": "code",
   "execution_count": null,
   "id": "757d437b",
   "metadata": {},
   "outputs": [],
   "source": [
    "%%time\n",
    "write_DALI_week_extremes(df_extremes)"
   ]
  },
  {
   "cell_type": "code",
   "execution_count": null,
   "id": "59f7c6a8",
   "metadata": {},
   "outputs": [],
   "source": [
    "%%time\n",
    "df_extremes_new = read_DALI_week_extremes(L=\"sumli\")"
   ]
  },
  {
   "cell_type": "code",
   "execution_count": null,
   "id": "c8e4bbcc",
   "metadata": {},
   "outputs": [],
   "source": [
    "df_extremes_new.info()"
   ]
  }
 ],
 "metadata": {
  "hide_input": false,
  "kernelspec": {
   "display_name": "Python [conda env:spark] *",
   "language": "python",
   "name": "conda-env-spark-py"
  },
  "language_info": {
   "codemirror_mode": {
    "name": "ipython",
    "version": 3
   },
   "file_extension": ".py",
   "mimetype": "text/x-python",
   "name": "python",
   "nbconvert_exporter": "python",
   "pygments_lexer": "ipython3",
   "version": "3.8.10"
  }
 },
 "nbformat": 4,
 "nbformat_minor": 5
}
