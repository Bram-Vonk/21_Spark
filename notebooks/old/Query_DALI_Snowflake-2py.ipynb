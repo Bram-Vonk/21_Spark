{
 "cells": [
  {
   "cell_type": "code",
   "execution_count": null,
   "id": "3b75d794",
   "metadata": {},
   "outputs": [],
   "source": [
    "import sys\n",
    "\n",
    "sys.path.append(\"../\")\n",
    "\n",
    "from src.data.query_snowflake import (\n",
    "    read_DALI_meta,\n",
    "    make_DALI_week_extremes,\n",
    "    write_DALI_week_extremes,\n",
    "    read_DALI_week_extremes,\n",
    ")"
   ]
  },
  {
   "cell_type": "code",
   "execution_count": null,
   "id": "767f2c40",
   "metadata": {},
   "outputs": [],
   "source": [
    "%%time\n",
    "df_meta = read_DALI_meta()\n",
    "df_meta"
   ]
  },
  {
   "cell_type": "code",
   "execution_count": null,
   "id": "cc6b385e",
   "metadata": {},
   "outputs": [],
   "source": [
    "%%time\n",
    "df_extremes = make_DALI_week_extremes(boxid=df_meta[\"boxid\"])\n",
    "df_extremes"
   ]
  },
  {
   "cell_type": "code",
   "execution_count": null,
   "id": "5b2da1ce",
   "metadata": {},
   "outputs": [],
   "source": [
    "df_extremes.info()"
   ]
  },
  {
   "cell_type": "code",
   "execution_count": null,
   "id": "757d437b",
   "metadata": {},
   "outputs": [],
   "source": [
    "%%time\n",
    "write_DALI_week_extremes(df_extremes)"
   ]
  },
  {
   "cell_type": "code",
   "execution_count": null,
   "id": "59f7c6a8",
   "metadata": {},
   "outputs": [],
   "source": [
    "%%time\n",
    "df_extremes_new = read_DALI_week_extremes(L=\"sumli\")"
   ]
  },
  {
   "cell_type": "code",
   "execution_count": null,
   "id": "c8e4bbcc",
   "metadata": {},
   "outputs": [],
   "source": [
    "df_extremes_new.info()"
   ]
  },
  {
   "cell_type": "code",
   "execution_count": null,
   "id": "77c1db1d",
   "metadata": {},
   "outputs": [],
   "source": []
  },
  {
   "cell_type": "code",
   "execution_count": null,
   "id": "c62d4617",
   "metadata": {},
   "outputs": [],
   "source": []
  },
  {
   "cell_type": "code",
   "execution_count": null,
   "id": "4566c897",
   "metadata": {},
   "outputs": [],
   "source": []
  },
  {
   "cell_type": "code",
   "execution_count": null,
   "id": "e6f0c6b4",
   "metadata": {},
   "outputs": [],
   "source": [
    "from sqlalchemy import types"
   ]
  },
  {
   "cell_type": "code",
   "execution_count": null,
   "id": "78700df6",
   "metadata": {},
   "outputs": [],
   "source": [
    "types.VARCHAR()"
   ]
  },
  {
   "cell_type": "code",
   "execution_count": null,
   "id": "69b4d596",
   "metadata": {},
   "outputs": [],
   "source": []
  },
  {
   "cell_type": "code",
   "execution_count": null,
   "id": "e8d5b361",
   "metadata": {},
   "outputs": [],
   "source": []
  },
  {
   "cell_type": "code",
   "execution_count": null,
   "id": "96da40c1",
   "metadata": {
    "hide_input": true,
    "scrolled": false
   },
   "outputs": [],
   "source": [
    "%%time\n",
    "df_query = pd.read_sql(sql=query, con=snowflake_ctx)"
   ]
  },
  {
   "cell_type": "code",
   "execution_count": null,
   "id": "9d667179",
   "metadata": {
    "hide_input": true
   },
   "outputs": [],
   "source": [
    "pattern = channel_like\\\n",
    "    .replace(\"?\", \"\\?\")\\\n",
    "    .replace(\"/\", \"\\/\")\\\n",
    "    .replace(\"%\", \"(sumli|l[1,2,3])\")\n",
    "df_query[\"L\"] = df_query[\"CHANNELID\"].str.extract(pattern)"
   ]
  },
  {
   "cell_type": "code",
   "execution_count": null,
   "id": "c082a3fc",
   "metadata": {
    "hide_input": true
   },
   "outputs": [],
   "source": [
    "df_query = df_query.apply(downcast, try_numeric=True, category=True)"
   ]
  },
  {
   "cell_type": "code",
   "execution_count": null,
   "id": "7e3c5053",
   "metadata": {
    "hide_input": true
   },
   "outputs": [],
   "source": [
    "df_query.info()"
   ]
  },
  {
   "cell_type": "code",
   "execution_count": null,
   "id": "e7b871ae",
   "metadata": {
    "hide_input": true
   },
   "outputs": [],
   "source": [
    "df_query.to_parquet(parquet_file, partition_cols=[\"BOXID\", \"L\"])"
   ]
  },
  {
   "cell_type": "code",
   "execution_count": null,
   "id": "2a78905d",
   "metadata": {},
   "outputs": [],
   "source": [
    "df_query"
   ]
  },
  {
   "cell_type": "code",
   "execution_count": null,
   "id": "1319675d",
   "metadata": {
    "hide_input": true
   },
   "outputs": [],
   "source": [
    "cols = [\"BOXID\", \"VALUE\", \"YEAR\", \"WEEK\", \"TOP\", \"BOTTOM\", \"L\"]\n",
    "df_read = (\n",
    "    pd.read_parquet(parquet_file, columns=cols)\n",
    "    .query(\"TOP == 1 & L == 'sumli'\")\n",
    "    .drop(columns=[\"TOP\", \"BOTTOM\", \"L\"])\n",
    ")\n",
    "    "
   ]
  },
  {
   "cell_type": "code",
   "execution_count": null,
   "id": "39dd6fc9",
   "metadata": {
    "hide_input": true
   },
   "outputs": [],
   "source": [
    "df_read.info()"
   ]
  },
  {
   "cell_type": "markdown",
   "id": "babd64e1",
   "metadata": {},
   "source": [
    "## get meta data about parquet for sake of speed"
   ]
  },
  {
   "cell_type": "code",
   "execution_count": null,
   "id": "bbead15c",
   "metadata": {},
   "outputs": [],
   "source": []
  },
  {
   "cell_type": "code",
   "execution_count": null,
   "id": "2394e4e3",
   "metadata": {},
   "outputs": [],
   "source": [
    "import pyarrow.parquet as pq\n",
    "metadata = pq.read_metadata(\"../data/raw/BOXID=001.622-1/L=l1/7c3663dfe57547cb8fc54c33857b6caf.parquet\")\n",
    "\n",
    "# parquet_file = pq.ParquetFile(\"../data/raw/BOXID=001.622-1/L=l1/7c3663dfe57547cb8fc54c33857b6caf.parquet\")\n",
    "# metadata = parquet_file.metadata\n",
    "# metadata.row_group(0).column(6)\n",
    "\n",
    "## see parquet engine for possibilities to read _COMMON_METEDATA\n",
    "https://arrow.apache.org/docs/python/parquet.html?highlight=pyarrow%20parquet%20partition"
   ]
  },
  {
   "cell_type": "markdown",
   "id": "256ed99b",
   "metadata": {},
   "source": []
  }
 ],
 "metadata": {
  "hide_input": false,
  "kernelspec": {
   "display_name": "Python [conda env:spark] *",
   "language": "python",
   "name": "conda-env-spark-py"
  },
  "language_info": {
   "codemirror_mode": {
    "name": "ipython",
    "version": 3
   },
   "file_extension": ".py",
   "mimetype": "text/x-python",
   "name": "python",
   "nbconvert_exporter": "python",
   "pygments_lexer": "ipython3",
   "version": "3.8.10"
  }
 },
 "nbformat": 4,
 "nbformat_minor": 5
}
