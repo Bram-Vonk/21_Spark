{
 "cells": [
  {
   "cell_type": "markdown",
   "id": "140e7fe2",
   "metadata": {},
   "source": [
    "## imports"
   ]
  },
  {
   "cell_type": "code",
   "execution_count": null,
   "id": "a56aac50",
   "metadata": {},
   "outputs": [],
   "source": [
    "import os\n",
    "import sys\n",
    "sys.path.append(\"../\")\n",
    "\n",
    "import math\n",
    "\n",
    "import pandas as pd\n",
    "import numpy as np\n",
    "import datetime as dt\n",
    "import re\n",
    "\n",
    "import pymc3 as pm\n",
    "\n",
    "import altair as alt\n",
    "alt.data_transformers.disable_max_rows()\n",
    "\n",
    "# from src.preprocess.preprocess import load_data\n",
    "from src.plot.altair import plot_decompose, plot_all\n",
    "# from src.forecast.forecast import forecast\n",
    "from src.utils.snowflake import read_forecasts, read_meta"
   ]
  },
  {
   "cell_type": "code",
   "execution_count": null,
   "id": "59b4fbae",
   "metadata": {},
   "outputs": [],
   "source": [
    "boxid = [\n",
    "    \"ESD.000088-1\",\n",
    "    \"063.623-1\",\n",
    "    \"VRY.CHOPS-1\",\n",
    "    \"HVT.111153-1\",\n",
    "    \"TTR.251049-1\",\n",
    "    \"BGL.CROLA-1\",\n",
    "][5]"
   ]
  },
  {
   "cell_type": "code",
   "execution_count": null,
   "id": "a5b6bc90",
   "metadata": {},
   "outputs": [],
   "source": [
    "%%time\n",
    "df_box = read_forecasts(boxid=boxid)"
   ]
  },
  {
   "cell_type": "code",
   "execution_count": null,
   "id": "4d20d0ea",
   "metadata": {},
   "outputs": [],
   "source": [
    "%%time\n",
    "df_meta = read_meta(boxid=boxid)"
   ]
  },
  {
   "cell_type": "code",
   "execution_count": null,
   "id": "c807ec8c",
   "metadata": {},
   "outputs": [],
   "source": [
    "plot_all(df_data=df_box, df_meta=df_meta)"
   ]
  },
  {
   "cell_type": "code",
   "execution_count": null,
   "id": "f2c5921d",
   "metadata": {},
   "outputs": [],
   "source": [
    "plot_decompose(df_box.query(\"extreme=='min'\"))"
   ]
  },
  {
   "cell_type": "code",
   "execution_count": null,
   "id": "117ebf18",
   "metadata": {},
   "outputs": [],
   "source": [
    "plot_decompose(df_box.query(\"extreme=='max'\"))"
   ]
  },
  {
   "cell_type": "code",
   "execution_count": null,
   "id": "2f3a65a3",
   "metadata": {},
   "outputs": [],
   "source": []
  },
  {
   "cell_type": "code",
   "execution_count": null,
   "id": "13116e6c",
   "metadata": {},
   "outputs": [],
   "source": []
  },
  {
   "cell_type": "code",
   "execution_count": null,
   "id": "11d8c796",
   "metadata": {},
   "outputs": [],
   "source": []
  }
 ],
 "metadata": {
  "hide_input": false,
  "kernelspec": {
   "display_name": "Python [conda env:spark] *",
   "language": "python",
   "name": "conda-env-spark-py"
  },
  "language_info": {
   "codemirror_mode": {
    "name": "ipython",
    "version": 3
   },
   "file_extension": ".py",
   "mimetype": "text/x-python",
   "name": "python",
   "nbconvert_exporter": "python",
   "pygments_lexer": "ipython3",
   "version": "3.8.10"
  }
 },
 "nbformat": 4,
 "nbformat_minor": 5
}
