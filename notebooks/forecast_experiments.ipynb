{
 "cells": [
  {
   "cell_type": "code",
   "execution_count": null,
   "id": "a56aac50",
   "metadata": {},
   "outputs": [],
   "source": [
    "import os\n",
    "import sys\n",
    "sys.path.append(\"../\")\n",
    "\n",
    "import math\n",
    "\n",
    "import pandas as pd\n",
    "import numpy as np\n",
    "import datetime as dt\n",
    "import re\n",
    "\n",
    "import pymc3 as pm\n",
    "\n",
    "import altair as alt\n",
    "alt.data_transformers.disable_max_rows()\n",
    "\n",
    "from src.preprocess.preprocess import load_data\n",
    "from src.plot.altair import plot_total\n",
    "from src.plot.formatting import split_last, dummy_forecast\n",
    "from src.utils.preprocessing import MinMaxScaler\n",
    "from src.model.model import det_dot, drift_model, seasonality_model"
   ]
  },
  {
   "cell_type": "code",
   "execution_count": null,
   "id": "59b4fbae",
   "metadata": {},
   "outputs": [],
   "source": [
    "boxid = [\n",
    "    \"ESD.000088-1\",\n",
    "    \"063.623-1\",\n",
    "    \"VRY.CHOPS-1\",\n",
    "    \"HVT.111153-1\",\n",
    "    \"TTR.251049-1\",\n",
    "    \"BGL.CROLA-1\",\n",
    "][0]"
   ]
  },
  {
   "cell_type": "code",
   "execution_count": null,
   "id": "271a4af7",
   "metadata": {},
   "outputs": [],
   "source": [
    "df_data, df_meta = load_data(boxid=boxid)\n",
    "df_train, df_test = split_last(df_data)"
   ]
  },
  {
   "cell_type": "code",
   "execution_count": null,
   "id": "805d11ce",
   "metadata": {},
   "outputs": [],
   "source": [
    "df_train, df_test = split_last(df_data)\n",
    "df_focast = dummy_forecast(df_test)\n",
    "plot_total(df_data=df_data, df_meta=df_meta, df_forecast=df_focast)"
   ]
  },
  {
   "cell_type": "code",
   "execution_count": null,
   "id": "f22d29e2",
   "metadata": {},
   "outputs": [],
   "source": [
    "df_data"
   ]
  },
  {
   "cell_type": "code",
   "execution_count": null,
   "id": "e0cb8681",
   "metadata": {},
   "outputs": [],
   "source": [
    "\n",
    "# select one side\n",
    "extreme = \"max\"\n",
    "\n",
    "# scale t, y \n",
    "t_scaler = MinMaxScaler(lower=0)\n",
    "t = t_scaler.fit_transform(X=df_data[\"date\"])\n",
    "\n",
    "y_scaler = MinMaxScaler(lower=0)\n",
    "y = y_scaler.fit_transform(X=df_data[extreme])\n",
    "\n",
    "\n",
    "\n"
   ]
  },
  {
   "cell_type": "code",
   "execution_count": null,
   "id": "0b278643",
   "metadata": {},
   "outputs": [],
   "source": [
    "with pm.Model() as m:\n",
    "    \n",
    "    drift = drift_model(t)\n",
    "    yearly = seasonality_model(t)\n",
    "#     yearly=0\n",
    "    \n",
    "    σ_ε = pm.Uniform('σ_ε', lower=0, upper=1)\n",
    "    total = pm.Deterministic(\"total\", drift + yearly)\n",
    "    \n",
    "    y_obs = pm.Normal('y_obs', mu=total, sd=σ_ε, observed=y)\n",
    "    \n",
    "pm.model_to_graphviz(m)"
   ]
  },
  {
   "cell_type": "code",
   "execution_count": null,
   "id": "88652e7c",
   "metadata": {},
   "outputs": [],
   "source": [
    "with m:\n",
    "    trace = pm.sample(500, tune=500, init=\"adapt_diag\")"
   ]
  },
  {
   "cell_type": "code",
   "execution_count": null,
   "id": "6e91e7c4",
   "metadata": {},
   "outputs": [],
   "source": [
    "[t for t in trace.varnames]"
   ]
  },
  {
   "cell_type": "code",
   "execution_count": null,
   "id": "445279e3",
   "metadata": {},
   "outputs": [],
   "source": []
  },
  {
   "cell_type": "code",
   "execution_count": null,
   "id": "84b2ed48",
   "metadata": {},
   "outputs": [],
   "source": [
    "dummy_forecast(df_data)"
   ]
  },
  {
   "cell_type": "code",
   "execution_count": null,
   "id": "ff4cb2c0",
   "metadata": {},
   "outputs": [],
   "source": [
    "pd.DataFrame(trace[\"total\"].mean(axis=0)).plot()"
   ]
  },
  {
   "cell_type": "code",
   "execution_count": null,
   "id": "a811128f",
   "metadata": {},
   "outputs": [],
   "source": [
    "# Q = [5, 15, 50, 85, 95]\n",
    "# q = [q/100 for q in Q]\n",
    "# # q_names\n",
    "# Q"
   ]
  },
  {
   "cell_type": "code",
   "execution_count": null,
   "id": "9431f0fc",
   "metadata": {},
   "outputs": [],
   "source": []
  },
  {
   "cell_type": "code",
   "execution_count": null,
   "id": "32517c1a",
   "metadata": {},
   "outputs": [],
   "source": [
    "def format_trace_samples(t, samples, quantiles=[5, 15, 50, 85, 95]):\n",
    "\n",
    "    q_data = np.quantile(samples, [q / 100 for q in quantiles], axis=0)\n",
    "    boundaries = [\"upper\", \"lower\"]\n",
    "    df_Q = pd.DataFrame(columns=boundaries)\n",
    "    for ci in range(math.ceil(len(quantiles) / 2)):\n",
    "        upper_i, lower_i = -ci - 1, ci\n",
    "        forecast_range = f\"Q{Q[lower_i]}-Q{Q[upper_i]}\".replace(\"Q50-Q50\", \"median\")\n",
    "        df_interval = pd.DataFrame(\n",
    "            data=q_data[[upper_i, lower_i]].T, columns=boundaries\n",
    "        ).assign(date=t_fc, forecast=forecast_range)\n",
    "\n",
    "        df_Q = pd.concat([df_Q, df_interval], axis=0)\n",
    "\n",
    "    return df_Q"
   ]
  },
  {
   "cell_type": "code",
   "execution_count": null,
   "id": "9bd1188d",
   "metadata": {},
   "outputs": [],
   "source": [
    "df_forecast = format_trace_samples(t, trace[\"total\"]).assign(extreme=extreme)\n",
    "df_forecast[\"lower\"] = y_scaler.inverse_transform(df_forecast[\"lower\"])\n",
    "df_forecast[\"upper\"] = y_scaler.inverse_transform(df_forecast[\"upper\"])\n",
    "df_forecast[\"date\"] = t_scaler.inverse_transform(df_forecast[\"date\"])"
   ]
  },
  {
   "cell_type": "code",
   "execution_count": null,
   "id": "a15fefab",
   "metadata": {},
   "outputs": [],
   "source": [
    "plot_total(df_forecast=df_forecast)"
   ]
  },
  {
   "cell_type": "code",
   "execution_count": null,
   "id": "6fe346ce",
   "metadata": {},
   "outputs": [],
   "source": [
    "df_forecast = format_trace_samples(t, trace[\"drift\"]).assign(extreme=extreme)\n",
    "df_forecast[\"lower\"] = y_scaler.inverse_transform(df_forecast[\"lower\"])\n",
    "df_forecast[\"upper\"] = y_scaler.inverse_transform(df_forecast[\"upper\"])\n",
    "df_forecast[\"date\"] = t_scaler.inverse_transform(df_forecast[\"date\"])\n",
    "plot_total(df_forecast=df_forecast)"
   ]
  },
  {
   "cell_type": "code",
   "execution_count": null,
   "id": "c6527ac3",
   "metadata": {},
   "outputs": [],
   "source": [
    "df_forecast = format_trace_samples(t, trace[\"yearly\"]).assign(extreme=extreme)\n",
    "df_forecast[\"lower\"] = y_scaler.inverse_transform(df_forecast[\"lower\"])\n",
    "df_forecast[\"upper\"] = y_scaler.inverse_transform(df_forecast[\"upper\"])\n",
    "df_forecast[\"date\"] = t_scaler.inverse_transform(df_forecast[\"date\"])\n",
    "plot_total(df_forecast=df_forecast)"
   ]
  },
  {
   "cell_type": "code",
   "execution_count": null,
   "id": "69988ac0",
   "metadata": {},
   "outputs": [],
   "source": []
  },
  {
   "cell_type": "code",
   "execution_count": null,
   "id": "9ae42228",
   "metadata": {},
   "outputs": [],
   "source": []
  }
 ],
 "metadata": {
  "hide_input": false,
  "kernelspec": {
   "display_name": "Python [conda env:spark] *",
   "language": "python",
   "name": "conda-env-spark-py"
  },
  "language_info": {
   "codemirror_mode": {
    "name": "ipython",
    "version": 3
   },
   "file_extension": ".py",
   "mimetype": "text/x-python",
   "name": "python",
   "nbconvert_exporter": "python",
   "pygments_lexer": "ipython3",
   "version": "3.8.10"
  }
 },
 "nbformat": 4,
 "nbformat_minor": 5
}
