{
 "cells": [
  {
   "cell_type": "code",
   "execution_count": null,
   "id": "a56aac50",
   "metadata": {},
   "outputs": [],
   "source": [
    "import os\n",
    "import sys\n",
    "sys.path.append(\"../\")\n",
    "\n",
    "import math\n",
    "\n",
    "import pandas as pd\n",
    "import numpy as np\n",
    "import datetime as dt\n",
    "import re\n",
    "\n",
    "import pymc3 as pm\n",
    "\n",
    "import altair as alt\n",
    "alt.data_transformers.disable_max_rows()\n",
    "\n",
    "from src.preprocess.preprocess import load_data, split_last\n",
    "from src.plot.altair import plot_total\n",
    "from src.plot.formatting import dummy_forecast\n",
    "from src.utils.preprocess import MinMaxScaler\n",
    "from src.model.model import det_dot, drift_model, seasonality_model"
   ]
  },
  {
   "cell_type": "code",
   "execution_count": null,
   "id": "59b4fbae",
   "metadata": {},
   "outputs": [],
   "source": [
    "boxid = [\n",
    "    \"ESD.000088-1\",\n",
    "    \"063.623-1\",\n",
    "    \"VRY.CHOPS-1\",\n",
    "    \"HVT.111153-1\",\n",
    "    \"TTR.251049-1\",\n",
    "    \"BGL.CROLA-1\",\n",
    "][0]"
   ]
  },
  {
   "cell_type": "code",
   "execution_count": null,
   "id": "271a4af7",
   "metadata": {},
   "outputs": [],
   "source": [
    "df_data, df_meta = load_data(boxid=boxid)\n",
    "df_train, df_test = split_last(df_data)"
   ]
  },
  {
   "cell_type": "code",
   "execution_count": null,
   "id": "6bf8ecfa",
   "metadata": {},
   "outputs": [],
   "source": [
    "# value_vars = [\"max\", \"min\"]\n",
    "# df_data = df_data.melt(\n",
    "#     id_vars=df_data.columns.difference(value_vars),\n",
    "#     value_vars=value_vars,\n",
    "#     var_name=\"extreme\",\n",
    "#     value_name=\"value\",\n",
    "# ).assign(period=\"history\", model_var=\"observed\")\n",
    "# df_data"
   ]
  },
  {
   "cell_type": "code",
   "execution_count": null,
   "id": "f70f6d08",
   "metadata": {},
   "outputs": [],
   "source": [
    "plot_total(df_data=df_data, df_meta=df_meta)"
   ]
  },
  {
   "cell_type": "code",
   "execution_count": null,
   "id": "4401b4b0",
   "metadata": {},
   "outputs": [],
   "source": [
    "df_data"
   ]
  },
  {
   "cell_type": "code",
   "execution_count": null,
   "id": "7c0940fe",
   "metadata": {},
   "outputs": [],
   "source": [
    "df_train, df_test = split_last(df_data)"
   ]
  },
  {
   "cell_type": "code",
   "execution_count": null,
   "id": "9b0cfd7a",
   "metadata": {},
   "outputs": [],
   "source": []
  },
  {
   "cell_type": "code",
   "execution_count": null,
   "id": "e0cb8681",
   "metadata": {},
   "outputs": [],
   "source": [
    "# select one side\n",
    "extreme = \"max\"\n",
    "df_observed = df_train.query(f\"extreme=='{extreme}' & model_var=='observed'\")\n",
    "\n",
    "# scale t, y \n",
    "t_scaler = MinMaxScaler(lower=0)\n",
    "t = t_scaler.fit_transform(X=df_observed[\"date\"])\n",
    "\n",
    "y_scaler = MinMaxScaler(lower=0)\n",
    "y_observed = y_scaler.fit_transform(X=df_observed[\"value\"])\n",
    "\n",
    "p = t_scaler.transform(t_scaler.min + dt.timedelta(weeks=52.1775))"
   ]
  },
  {
   "cell_type": "code",
   "execution_count": null,
   "id": "0b278643",
   "metadata": {},
   "outputs": [],
   "source": [
    "with pm.Model() as m:\n",
    "    \n",
    "    drift = drift_model(t, n=2)\n",
    "    yearly = seasonality_model(t, p=p)\n",
    "    \n",
    "    σ_ε = pm.Uniform('σ_ε', lower=0, upper=1)\n",
    "    Σ = pm.Normal(\"Σ\", mu = drift + yearly, sd=σ_ε, observed=y_observed)\n",
    "    \n",
    "pm.model_to_graphviz(m)"
   ]
  },
  {
   "cell_type": "code",
   "execution_count": null,
   "id": "88652e7c",
   "metadata": {},
   "outputs": [],
   "source": [
    "with m:\n",
    "    trace = pm.sample(draws=500, tune=500, init=\"adapt_diag\")"
   ]
  },
  {
   "cell_type": "code",
   "execution_count": null,
   "id": "445279e3",
   "metadata": {},
   "outputs": [],
   "source": [
    "with m:\n",
    "    ppc = pm.sample_posterior_predictive(trace, samples=1000, var_names=[\"drift\", \"yearly\", \"Σ\"])\n",
    "# pm.sample_posterior_predictive(trace=model=m, var_names=[\"drift\"])"
   ]
  },
  {
   "cell_type": "code",
   "execution_count": null,
   "id": "b9760f49",
   "metadata": {},
   "outputs": [],
   "source": [
    "# samples = ppc[\"Σ\"]\n",
    "#  df_forecast[]\n",
    "\n",
    "def format_trace_samples(t, samples, quantiles=[5, 15, 50, 85, 95]):\n",
    "    # get quantiles\n",
    "    q_data = np.quantile(samples, [q / 100 for q in quantiles], axis=0)\n",
    "    boundaries = [\"upper\", \"lower\"]\n",
    "    df_Q = pd.DataFrame(columns=boundaries)\n",
    "    \n",
    "    # create bands from two quantile boundaries (median: upper=lower)\n",
    "    for ci in range(math.ceil(len(quantiles) / 2)):\n",
    "        upper_i, lower_i = -ci - 1, ci\n",
    "        band_range = f\"Q{quantiles[lower_i]}-Q{quantiles[upper_i]}\".replace(\n",
    "            \"Q50-Q50\", \"median\"\n",
    "        )\n",
    "        df_interval = (\n",
    "            pd.DataFrame(data=q_data[[upper_i, lower_i]].T, columns=boundaries)\n",
    "            .assign(date=t, band=band_range)\n",
    "        )\n",
    "        df_Q = pd.concat([df_Q, df_interval], axis=0)\n",
    "\n",
    "    # in long format\n",
    "    df_Q = df_Q.melt(\n",
    "                id_vars=df_interval.columns.difference(boundaries),\n",
    "                value_vars=boundaries,\n",
    "                var_name=\"boundary\",\n",
    "                value_name=\"value\",\n",
    "            )\n",
    "    \n",
    "    return df_Q"
   ]
  },
  {
   "cell_type": "code",
   "execution_count": null,
   "id": "af62274a",
   "metadata": {},
   "outputs": [],
   "source": [
    "def format_ppc(date, ppc):\n",
    "    df_fit = pd.DataFrame()\n",
    "    for var, data in ppc.items():\n",
    "        samples = y_scaler.inverse_transform(data)\n",
    "        if var==\"yearly\":\n",
    "            samples -= y_scaler.min\n",
    "        df_var = format_trace_samples(t=date, samples=samples).assign(\n",
    "            period=\"history\", extreme=extreme,\n",
    "        ).assign(model_var = var)\n",
    "        df_fit = pd.concat([df_fit, df_var], axis=0)\n",
    "    return df_fit"
   ]
  },
  {
   "cell_type": "code",
   "execution_count": null,
   "id": "a1ef5cc5",
   "metadata": {},
   "outputs": [],
   "source": [
    "df_estimates = format_ppc(df_observed[\"date\"], ppc)"
   ]
  },
  {
   "cell_type": "code",
   "execution_count": null,
   "id": "92e95595",
   "metadata": {},
   "outputs": [],
   "source": [
    "# plot_total(df_data=pd.concat([df_observed, df_estimates]))\n",
    "df_data = pd.concat([df_observed, df_estimates])\n",
    "\n",
    "\n",
    "total_plot = plot_total(\n",
    "    df_data=df_data.query(\"model_var in ('observed', 'Σ')\"), df_meta=df_meta\n",
    ").properties(title=\"history & forecast\")\n",
    "drift_plot = plot_total(df_data.query(\"model_var=='drift'\")).properties(\n",
    "    title=\"drift / trend\", height=100\n",
    ")\n",
    "yearly_plot = plot_total(df_data.query(\"model_var=='yearly'\")).properties(\n",
    "    title=\"yearly pattern\", height=100\n",
    ")"
   ]
  },
  {
   "cell_type": "code",
   "execution_count": null,
   "id": "ffde18bb",
   "metadata": {},
   "outputs": [],
   "source": [
    "selection = alt.selection_interval(bind='scales', encodings=['x'])\n",
    "(total_plot & drift_plot & yearly_plot)#.add_selection(selection)"
   ]
  },
  {
   "cell_type": "code",
   "execution_count": null,
   "id": "ffe26e47",
   "metadata": {},
   "outputs": [],
   "source": []
  },
  {
   "cell_type": "code",
   "execution_count": null,
   "id": "32517c1a",
   "metadata": {},
   "outputs": [],
   "source": [
    "# def format_trace_samples(t, samples, quantiles=[5, 15, 50, 85, 95]):\n",
    "\n",
    "#     q_data = np.quantile(samples, [q / 100 for q in quantiles], axis=0)\n",
    "#     boundaries = [\"upper\", \"lower\"]\n",
    "#     df_Q = pd.DataFrame(columns=boundaries)\n",
    "#     for ci in range(math.ceil(len(quantiles) / 2)):\n",
    "#         upper_i, lower_i = -ci - 1, ci\n",
    "#         forecast_range = f\"Q{quantiles[lower_i]}-Q{quantiles[upper_i]}\".replace(\"Q50-Q50\", \"median\")\n",
    "#         df_interval = pd.DataFrame(\n",
    "#             data=q_data[[upper_i, lower_i]].T, columns=boundaries\n",
    "#         ).assign(date=t, forecast=forecast_range)\n",
    "\n",
    "#         df_Q = pd.concat([df_Q, df_interval], axis=0)\n",
    "\n",
    "#     return df_Q"
   ]
  },
  {
   "cell_type": "code",
   "execution_count": null,
   "id": "9bd1188d",
   "metadata": {},
   "outputs": [],
   "source": [
    "df_forecast = format_trace_samples(t, ppc[\"Σ\"]).assign(extreme=extreme)\n",
    "df_forecast[\"lower\"] = y_scaler.inverse_transform(df_forecast[\"lower\"])\n",
    "df_forecast[\"upper\"] = y_scaler.inverse_transform(df_forecast[\"upper\"])\n",
    "df_forecast[\"date\"] = t_scaler.inverse_transform(df_forecast[\"date\"])\n",
    "total = plot_total(df_data=df_data, df_forecast=df_forecast, df_meta=None)\n",
    "total"
   ]
  },
  {
   "cell_type": "code",
   "execution_count": null,
   "id": "6fe346ce",
   "metadata": {},
   "outputs": [],
   "source": [
    "df_forecast = format_trace_samples(t, ppc[\"drift\"]).assign(extreme=extreme)\n",
    "df_forecast[\"lower\"] = y_scaler.inverse_transform(df_forecast[\"lower\"])\n",
    "df_forecast[\"upper\"] = y_scaler.inverse_transform(df_forecast[\"upper\"])\n",
    "df_forecast[\"date\"] = t_scaler.inverse_transform(df_forecast[\"date\"])\n",
    "drift = plot_total(df_forecast=df_forecast).properties(width=800, height = 100)\n",
    "drift"
   ]
  },
  {
   "cell_type": "code",
   "execution_count": null,
   "id": "c6527ac3",
   "metadata": {},
   "outputs": [],
   "source": [
    "df_forecast = format_trace_samples(t, ppc[\"yearly\"]).assign(extreme=extreme)\n",
    "df_forecast[\"lower\"] = y_scaler.inverse_transform(df_forecast[\"lower\"])\n",
    "df_forecast[\"upper\"] = y_scaler.inverse_transform(df_forecast[\"upper\"])\n",
    "df_forecast[\"date\"] = t_scaler.inverse_transform(df_forecast[\"date\"])\n",
    "plot_total(df_forecast=df_forecast).properties(width=800, height=100)"
   ]
  },
  {
   "cell_type": "markdown",
   "id": "e28c0544",
   "metadata": {},
   "source": [
    "## forecast"
   ]
  },
  {
   "cell_type": "code",
   "execution_count": null,
   "id": "f475fac6",
   "metadata": {},
   "outputs": [],
   "source": [
    "# value_vars = [\"max\", \"min\"]\n",
    "# df_data.melt(\n",
    "#     id_vars=df_data.columns.difference(value_vars),\n",
    "#     value_vars=value_vars,\n",
    "#     var_name=\"history\",\n",
    "#     value_name=\"extreme\",\n",
    "# )\n",
    "value_vars = [\"max\", \"min\"]\n",
    "df_data = df_data.melt(\n",
    "    id_vars=df_data.columns.difference(value_vars),\n",
    "    value_vars=value_vars,\n",
    "    var_name=\"extreme\",\n",
    "    value_name=\"value\",\n",
    ").assign(period=\"history\", model_var=\"observed\")"
   ]
  },
  {
   "cell_type": "code",
   "execution_count": null,
   "id": "90c8761f",
   "metadata": {},
   "outputs": [],
   "source": [
    "df_data"
   ]
  },
  {
   "cell_type": "code",
   "execution_count": null,
   "id": "d287a04f",
   "metadata": {},
   "outputs": [],
   "source": [
    "def extrapolate_data(df, horizon=dt.timedelta(weeks=26)):\n",
    "    t_start = df[\"date\"].max()\n",
    "    t_end = t_start + horizon + dt.timedelta(weeks=1)\n",
    "    t_extra = np.arange(t_start, t_end, dt.timedelta(weeks=1))\n",
    "    df_extra = pd.DataFrame(data=t_extra, columns=[\"date\"]).assign(\n",
    "        boxid=df[\"boxid\"][0], l=df[\"l\"][0], extreme=df[\"extreme\"][0], period=\"forecast\"\n",
    "    )\n",
    "    df_extra[[\"year\", \"week\"]] = df_extra[\"date\"].dt.isocalendar().iloc[:, :-1]\n",
    "\n",
    "    return df_extra"
   ]
  },
  {
   "cell_type": "code",
   "execution_count": null,
   "id": "4f4d08ea",
   "metadata": {},
   "outputs": [],
   "source": [
    "df_forecast = extrapolate_data(df_data)"
   ]
  },
  {
   "cell_type": "code",
   "execution_count": null,
   "id": "5eba7938",
   "metadata": {},
   "outputs": [],
   "source": [
    "df_forecast"
   ]
  },
  {
   "cell_type": "code",
   "execution_count": null,
   "id": "aa7be7b1",
   "metadata": {
    "hide_input": false
   },
   "outputs": [],
   "source": [
    "# def plot_history(df):\n",
    "#     \"\"\"\n",
    "#     Plot the historic load of a transformer.\n",
    "\n",
    "#     Parameters\n",
    "#     ----------\n",
    "#     df : pd.DataFrame\n",
    "#         DataFrame with the columns: date, week, year, power, history(min, max)\n",
    "\n",
    "#     Returns\n",
    "#     -------\n",
    "#         Altair chart\n",
    "#     \"\"\"\n",
    "#     alt_history = (\n",
    "#         alt.Chart(df.query(\"model_var == 'observed'\"))\n",
    "#         .mark_point(color=\"black\")\n",
    "#         .encode(\n",
    "#             x=alt.X(\"date:T\", title=\"date\"),\n",
    "#             y=alt.Y(\"value:Q\", title=\"power [kW]\"),\n",
    "#             shape=alt.Shape(\n",
    "#                 \"extreme:N\", title=\"history\",\n",
    "#                 scale=alt.Scale(\n",
    "#                     domain=[\"max\", \"min\"],\n",
    "#                     range=[\"triangle-up\", \"triangle-down\"],\n",
    "#                 ),\n",
    "#             ),\n",
    "#             tooltip=[\n",
    "#                 alt.Tooltip(\"power:Q\", format=\".2f\"),\n",
    "#                 alt.Tooltip(\"extreme:N\"),\n",
    "#                 alt.Tooltip(\"year:Q\"),\n",
    "#                 alt.Tooltip(\"week:Q\"),\n",
    "#             ],\n",
    "#         )\n",
    "#         .properties(width=800)\n",
    "#     ).interactive()\n",
    "#     return alt_history"
   ]
  },
  {
   "cell_type": "code",
   "execution_count": null,
   "id": "351dfb56",
   "metadata": {
    "hide_input": false
   },
   "outputs": [],
   "source": [
    "# plot_history(df=df_plot)"
   ]
  },
  {
   "cell_type": "code",
   "execution_count": null,
   "id": "876e0667",
   "metadata": {},
   "outputs": [],
   "source": [
    "df_forecast = format_ppc(df_data[\"date\"], ppc)\n",
    "df_forecast"
   ]
  },
  {
   "cell_type": "code",
   "execution_count": null,
   "id": "5a9e1fbb",
   "metadata": {},
   "outputs": [],
   "source": [
    "df_estimate = df_forecast.query(\"model_var == 'Σ'\")\n",
    "df_estimate"
   ]
  },
  {
   "cell_type": "code",
   "execution_count": null,
   "id": "6a7e75d8",
   "metadata": {
    "hide_input": true
   },
   "outputs": [],
   "source": [
    "def plot_estimates(df):\n",
    "    \"\"\"\n",
    "    Plot the load forecast transformer.\n",
    "\n",
    "    Parameters\n",
    "    ----------\n",
    "    df : pd.DataFrame\n",
    "        DataFrame with the columns date, lower, upper, forecast(Q10-Q190, median), extreme\n",
    "\n",
    "    Returns\n",
    "    -------\n",
    "        Altair chart\n",
    "    \"\"\"\n",
    "    # to solve: using longformat for y and y2, till then reformat boundaries\n",
    "    df = (\n",
    "        df.pivot(\n",
    "            index=df.columns.difference([\"boundary\", \"value\"]),\n",
    "            columns=\"boundary\",\n",
    "            values=\"value\",\n",
    "        )\n",
    "        .reset_index()\n",
    "        .rename_axis(columns=None)\n",
    "    )\n",
    "\n",
    "    # get ranges and coloring correct\n",
    "    ranges = list(df[\"band\"].unique())\n",
    "    ranges.sort(key=lambda item: (len(item), item))\n",
    "    if \"median\" in ranges:\n",
    "        ranges.remove(\"median\")\n",
    "        ranges.append(\"median\")\n",
    "    ranges = ranges[::-1]\n",
    "    parsed = [re.match(\"^Q(\\d{1,2})-\", s) for s in ranges]\n",
    "    factors = [1 if res is None else (2 * int(res.groups()[0]) / 100) for res in parsed]\n",
    "    colors = [lightness_scale(f) for f in factors]\n",
    "\n",
    "    return (\n",
    "        alt.Chart(df)\n",
    "        .mark_area(line=True)\n",
    "        .encode(\n",
    "            x=alt.X(\"date:T\"),\n",
    "            y=alt.Y(\"lower:Q\", stack=None, title=\"\"),\n",
    "            y2=alt.Y2(\"upper:Q\", title=\"\"),\n",
    "            color=alt.Color(\n",
    "                \"band:N\",\n",
    "                title=\"estimate\",\n",
    "                scale=alt.Scale(domain=ranges, range=colors),\n",
    "            ),\n",
    "            detail=\"extreme:N\",\n",
    "        )\n",
    "        .properties(width=800)\n",
    "        .interactive()\n",
    "    )"
   ]
  },
  {
   "cell_type": "code",
   "execution_count": null,
   "id": "a1f48ec3",
   "metadata": {},
   "outputs": [],
   "source": [
    "plot_estimates(df_estimate)"
   ]
  },
  {
   "cell_type": "code",
   "execution_count": null,
   "id": "62d5051b",
   "metadata": {},
   "outputs": [],
   "source": []
  },
  {
   "cell_type": "code",
   "execution_count": null,
   "id": "e0b5b73b",
   "metadata": {},
   "outputs": [],
   "source": []
  },
  {
   "cell_type": "code",
   "execution_count": null,
   "id": "0cd89fd2",
   "metadata": {},
   "outputs": [],
   "source": []
  },
  {
   "cell_type": "code",
   "execution_count": null,
   "id": "7f24b096",
   "metadata": {},
   "outputs": [],
   "source": [
    "df_data"
   ]
  },
  {
   "cell_type": "code",
   "execution_count": null,
   "id": "8c813c11",
   "metadata": {},
   "outputs": [],
   "source": [
    "plot_history(pd.concat([df_data, df_fit], axis=0))"
   ]
  },
  {
   "cell_type": "code",
   "execution_count": null,
   "id": "3126062f",
   "metadata": {},
   "outputs": [],
   "source": []
  },
  {
   "cell_type": "code",
   "execution_count": null,
   "id": "f47651dd",
   "metadata": {},
   "outputs": [],
   "source": []
  },
  {
   "cell_type": "code",
   "execution_count": null,
   "id": "dc49b138",
   "metadata": {},
   "outputs": [],
   "source": []
  },
  {
   "cell_type": "code",
   "execution_count": null,
   "id": "910b1fca",
   "metadata": {},
   "outputs": [],
   "source": []
  },
  {
   "cell_type": "code",
   "execution_count": null,
   "id": "2a59d1ca",
   "metadata": {},
   "outputs": [],
   "source": []
  },
  {
   "cell_type": "code",
   "execution_count": null,
   "id": "002743e5",
   "metadata": {},
   "outputs": [],
   "source": []
  },
  {
   "cell_type": "code",
   "execution_count": null,
   "id": "bf0207c3",
   "metadata": {},
   "outputs": [],
   "source": [
    "t_fc = t_scaler.transform(df_forecast[\"date\"])\n",
    "t_hist = t_scaler.transform(df_data[\"date\"])"
   ]
  },
  {
   "cell_type": "code",
   "execution_count": null,
   "id": "5121b053",
   "metadata": {},
   "outputs": [],
   "source": []
  },
  {
   "cell_type": "code",
   "execution_count": null,
   "id": "040e73cb",
   "metadata": {},
   "outputs": [],
   "source": [
    "# # :\n",
    "\n",
    "#     q_data = np.quantile(samples, [q / 100 for q in quantiles], axis=0)\n",
    "#     boundaries = [\"upper\", \"lower\"]\n",
    "#     df_Q = pd.DataFrame(columns=boundaries)\n",
    "#     for ci in range(math.ceil(len(quantiles) / 2)):\n",
    "#         upper_i, lower_i = -ci - 1, ci\n",
    "#         forecast_range = f\"Q{quantiles[lower_i]}-Q{quantiles[upper_i]}\".replace(\"Q50-Q50\", \"median\")\n",
    "#         df_interval = pd.DataFrame(\n",
    "#             data=q_data[[upper_i, lower_i]].T, columns=boundaries\n",
    "#         ).assign(date=t, forecast=forecast_range)\n",
    "\n",
    "#         df_Q = pd.concat([df_Q, df_interval], axis=0)\n",
    "\n",
    "#     return df_Q"
   ]
  },
  {
   "cell_type": "code",
   "execution_count": null,
   "id": "7cc5a30b",
   "metadata": {},
   "outputs": [],
   "source": []
  },
  {
   "cell_type": "code",
   "execution_count": null,
   "id": "5ab136d2",
   "metadata": {},
   "outputs": [],
   "source": []
  },
  {
   "cell_type": "code",
   "execution_count": null,
   "id": "92454065",
   "metadata": {},
   "outputs": [],
   "source": []
  },
  {
   "cell_type": "code",
   "execution_count": null,
   "id": "9ae42228",
   "metadata": {},
   "outputs": [],
   "source": [
    "# def extrapolate_time(t = df[\"date\"], horizon=dt.timedelta(weeks=26)):\n",
    "#     t_start = t.max()\n",
    "#     t_end = t_start + horizon + dt.timedelta(weeks=1)\n",
    "#     t_forecast = np.arange(t_start, t_end, dt.timedelta(weeks=1))\n",
    "# #     df_forecast = pd.DataFrame(data=data, columns=[\"date\"])\n",
    "# #     df_forecast[[\"year\", \"week\"]] = df_forecast[\"date\"].dt.isocalendar().iloc[:,:-1]\n",
    "#     return t"
   ]
  },
  {
   "cell_type": "code",
   "execution_count": null,
   "id": "85225855",
   "metadata": {},
   "outputs": [],
   "source": [
    "df_t_forecast = extrapolate_time(df_data)\n",
    "df_t_forecast[\"date\"]"
   ]
  },
  {
   "cell_type": "code",
   "execution_count": null,
   "id": "fe97b2a1",
   "metadata": {},
   "outputs": [],
   "source": []
  }
 ],
 "metadata": {
  "hide_input": false,
  "kernelspec": {
   "display_name": "Python [conda env:spark] *",
   "language": "python",
   "name": "conda-env-spark-py"
  },
  "language_info": {
   "codemirror_mode": {
    "name": "ipython",
    "version": 3
   },
   "file_extension": ".py",
   "mimetype": "text/x-python",
   "name": "python",
   "nbconvert_exporter": "python",
   "pygments_lexer": "ipython3",
   "version": "3.8.10"
  }
 },
 "nbformat": 4,
 "nbformat_minor": 5
}
