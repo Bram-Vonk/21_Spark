{
 "cells": [
  {
   "cell_type": "code",
   "execution_count": null,
   "id": "5b8f5b37",
   "metadata": {},
   "outputs": [],
   "source": [
    "import os\n",
    "import sys\n",
    "sys.path.append(\"../\")\n",
    "\n",
    "import pandas as pd\n",
    "import numpy as np\n",
    "import datetime as dt\n",
    "import re\n",
    "\n",
    "# import logging\n",
    "# logging.basicConfig(level=logging.DEBUG)\n",
    "\n",
    "import altair as alt\n",
    "alt.data_transformers.disable_max_rows()\n",
    "\n",
    "from src.data.query_snowflake import update_week_extremes, read_DALI_week_extremes, read_meta\n",
    "from src.plot.altair import plot_limits, plot_history\n",
    "from src.plot.formatting import format_limits, format_history"
   ]
  },
  {
   "cell_type": "code",
   "execution_count": null,
   "id": "fba45e1b",
   "metadata": {},
   "outputs": [],
   "source": [
    "# update_week_extremes()"
   ]
  },
  {
   "cell_type": "code",
   "execution_count": null,
   "id": "c2909957",
   "metadata": {},
   "outputs": [],
   "source": [
    "sample_box = \"ESD.000400-1\""
   ]
  },
  {
   "cell_type": "code",
   "execution_count": null,
   "id": "008824e2",
   "metadata": {},
   "outputs": [],
   "source": [
    "%%time \n",
    "df_data = read_DALI_week_extremes(boxid=sample_box, L=\"sumli\")\n",
    "df_data"
   ]
  },
  {
   "cell_type": "code",
   "execution_count": null,
   "id": "c7c6df09",
   "metadata": {},
   "outputs": [],
   "source": [
    "%%time\n",
    "df_meta = read_meta(sample_box)\n",
    "df_meta"
   ]
  },
  {
   "cell_type": "code",
   "execution_count": null,
   "id": "75978dda",
   "metadata": {},
   "outputs": [],
   "source": [
    "df_plot = format_history(df_data)"
   ]
  },
  {
   "cell_type": "code",
   "execution_count": null,
   "id": "03f1975c",
   "metadata": {},
   "outputs": [],
   "source": [
    "df_limits = format_limits(df_meta=df_meta)"
   ]
  },
  {
   "cell_type": "code",
   "execution_count": null,
   "id": "0e79fa58",
   "metadata": {},
   "outputs": [],
   "source": [
    "plot_limits(df_limits) + plot_history(df_plot)"
   ]
  },
  {
   "cell_type": "code",
   "execution_count": null,
   "id": "c3cf8ef1",
   "metadata": {},
   "outputs": [],
   "source": []
  },
  {
   "cell_type": "code",
   "execution_count": null,
   "id": "c94780ca",
   "metadata": {},
   "outputs": [],
   "source": []
  }
 ],
 "metadata": {
  "hide_input": false,
  "kernelspec": {
   "display_name": "Python [conda env:spark] *",
   "language": "python",
   "name": "conda-env-spark-py"
  },
  "language_info": {
   "codemirror_mode": {
    "name": "ipython",
    "version": 3
   },
   "file_extension": ".py",
   "mimetype": "text/x-python",
   "name": "python",
   "nbconvert_exporter": "python",
   "pygments_lexer": "ipython3",
   "version": "3.8.10"
  }
 },
 "nbformat": 4,
 "nbformat_minor": 5
}
