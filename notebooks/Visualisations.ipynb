{
 "cells": [
  {
   "cell_type": "code",
   "execution_count": 3,
   "id": "5b8f5b37",
   "metadata": {},
   "outputs": [],
   "source": [
    "import os\n",
    "import sys\n",
    "sys.path.append(\"../\")\n",
    "\n",
    "import pandas as pd\n",
    "import numpy as np\n",
    "import datetime as dt\n",
    "import re\n",
    "\n",
    "import logging\n",
    "logging.basicConfig(level=logging.INFO)\n",
    "\n",
    "import altair as alt\n",
    "alt.data_transformers.disable_max_rows();\n",
    "\n",
    "from src.data.query_snowflake import update_week_extremes, read_DALI_week_extremes, read_meta"
   ]
  },
  {
   "cell_type": "code",
   "execution_count": 4,
   "id": "79b06704",
   "metadata": {},
   "outputs": [],
   "source": [
    "update_week_extremes()"
   ]
  },
  {
   "cell_type": "code",
   "execution_count": null,
   "id": "c2909957",
   "metadata": {},
   "outputs": [],
   "source": [
    "sample_box = \"ESD.000400-1\""
   ]
  },
  {
   "cell_type": "code",
   "execution_count": null,
   "id": "008824e2",
   "metadata": {},
   "outputs": [],
   "source": [
    "%%time \n",
    "df_data = read_DALI_week_extremes(boxid=sample_box, L=\"sumli\")\n",
    "df_data"
   ]
  },
  {
   "cell_type": "code",
   "execution_count": null,
   "id": "c7c6df09",
   "metadata": {},
   "outputs": [],
   "source": [
    "%%time\n",
    "df_meta = read_meta(sample_box)\n",
    "df_meta"
   ]
  },
  {
   "cell_type": "code",
   "execution_count": null,
   "id": "34df7fd3",
   "metadata": {},
   "outputs": [],
   "source": [
    "df_plot = df_data.copy()\n",
    "df_plot[\"date\"] = df_plot.apply(lambda df: dt.datetime.fromisocalendar(df[\"year\"], df[\"week\"] , 1), axis=1)\n",
    "value_vars = [\"min\", \"max\"]\n",
    "df_plot = df_plot.melt(\n",
    "    var_name=\"history\",\n",
    "    value_name=\"power\",\n",
    "    id_vars=df_plot.columns.difference(value_vars),\n",
    "    value_vars=value_vars,\n",
    ")"
   ]
  },
  {
   "cell_type": "code",
   "execution_count": null,
   "id": "4e7b8916",
   "metadata": {},
   "outputs": [],
   "source": [
    "def plot_observed(df):\n",
    "\n",
    "    alt_observed = (\n",
    "        alt.Chart(df)\n",
    "        .mark_point(color=\"black\")\n",
    "        .encode(\n",
    "            x=alt.X(\"date:T\", title=\"date\"),\n",
    "            y=alt.Y(\"power:Q\", title=\"power [kW]\"),\n",
    "            shape=alt.Shape(\n",
    "                \"history\",\n",
    "                scale=alt.Scale(\n",
    "                    domain=[\"max\", \"min\"], range=[\"triangle-up\", \"triangle-down\"],\n",
    "                ),\n",
    "            ),\n",
    "            tooltip=[\n",
    "                alt.Tooltip(\"power:Q\", format=\".2f\"),\n",
    "                alt.Tooltip(\"history:N\"),\n",
    "                alt.Tooltip(\"year:Q\"),\n",
    "                alt.Tooltip(\"week:Q\"),\n",
    "            ],\n",
    "        )\n",
    "        .properties(width=800)\n",
    "    ).interactive()\n",
    "    return alt_observed"
   ]
  },
  {
   "cell_type": "code",
   "execution_count": null,
   "id": "917221e8",
   "metadata": {},
   "outputs": [],
   "source": []
  },
  {
   "cell_type": "code",
   "execution_count": null,
   "id": "a2524b28",
   "metadata": {},
   "outputs": [],
   "source": []
  },
  {
   "cell_type": "code",
   "execution_count": null,
   "id": "72a01955",
   "metadata": {},
   "outputs": [],
   "source": []
  },
  {
   "cell_type": "code",
   "execution_count": null,
   "id": "a32f7143",
   "metadata": {},
   "outputs": [],
   "source": [
    "# df_data = read_DALI_week_extremes(boxid=sample_box, L=\"sumli\")\n",
    "# df_data[\"date\"] = df_data.apply(lambda df: dt.datetime.fromisocalendar(df[\"year\"], df[\"week\"] , 1), axis=1)"
   ]
  },
  {
   "cell_type": "code",
   "execution_count": null,
   "id": "bb0eab3d",
   "metadata": {},
   "outputs": [],
   "source": [
    "# df_meta.sample()"
   ]
  },
  {
   "cell_type": "code",
   "execution_count": null,
   "id": "e8729987",
   "metadata": {},
   "outputs": [],
   "source": [
    "# df_meta[df_meta[\"boxid\"]==sample_box]"
   ]
  },
  {
   "cell_type": "code",
   "execution_count": null,
   "id": "d31ffb63",
   "metadata": {},
   "outputs": [],
   "source": [
    "# df_data[\"date\"] = df_data.apply(lambda df: dt.datetime.fromisocalendar(df[\"year\"], df[\"week\"] , 1), axis=1)"
   ]
  },
  {
   "cell_type": "code",
   "execution_count": null,
   "id": "4dc8c4f9",
   "metadata": {},
   "outputs": [],
   "source": []
  },
  {
   "cell_type": "code",
   "execution_count": null,
   "id": "33f7fc37",
   "metadata": {},
   "outputs": [],
   "source": [
    "def plot_observed(df):\n",
    "\n",
    "    alt_observed = (\n",
    "        alt.Chart(df)\n",
    "        .mark_point(color=\"black\")\n",
    "        .encode(\n",
    "            x=alt.X(\"date:T\", title=\"date\"),\n",
    "            y=alt.Y(\"power:Q\", title=\"power [kW]\"),\n",
    "            shape=alt.Shape(\n",
    "                \"history\",\n",
    "                scale=alt.Scale(\n",
    "                    domain=[\"max\", \"min\"],\n",
    "                    range=[\"triangle-up\", \"triangle-down\"],\n",
    "                ),\n",
    "            ),\n",
    "            tooltip=[\n",
    "                alt.Tooltip(\"power:Q\", format=\".2f\"),\n",
    "                alt.Tooltip(\"history:N\"),\n",
    "                alt.Tooltip(\"year:Q\"),\n",
    "                alt.Tooltip(\"week:Q\"),\n",
    "            ],\n",
    "        )\n",
    "        .properties(width=800)\n",
    "    ).interactive()\n",
    "    return alt_observed\n",
    "\n",
    "\n",
    "def plot_limits(df_limits):\n",
    "    df_limits[\"transformer\"] = \"capacity\"\n",
    "    if \"date\" in df_limits.columns:\n",
    "        return (\n",
    "            alt.Chart(df_limits)\n",
    "            .mark_line(strokeDash=[5, 5])\n",
    "            .encode(\n",
    "                x=alt.X(\"date:T\", title=\"date\"),\n",
    "                y=alt.Y(\"value:Q\", title=\"\"),\n",
    "                color=alt.Color(\"transformer:N\", scale=alt.Scale(range=[\"red\"])),\n",
    "            )\n",
    "            .properties(width=800)\n",
    "        ).interactive()\n",
    "    else:\n",
    "        return (\n",
    "            alt.Chart(df_limits)\n",
    "            .mark_rule(strokeDash=[5, 5])\n",
    "            .encode(\n",
    "                y=alt.Y(\"value:Q\", title=\"\"),\n",
    "                color=alt.Color(\n",
    "                    \"transformer:N\", title=\"\", scale=alt.Scale(range=[\"red\"])\n",
    "                ),\n",
    "            )\n",
    "            .properties(width=800)\n",
    "        ).interactive()"
   ]
  },
  {
   "cell_type": "code",
   "execution_count": null,
   "id": "3a0236a7",
   "metadata": {},
   "outputs": [],
   "source": [
    "def format_limits(df_meta, df_data=None):\n",
    "    limit = df_meta[\"vermogen_nominaal\"].squeeze()\n",
    "\n",
    "    if df_data is None:\n",
    "        return pd.DataFrame({\"limit\": [\"lower\", \"upper\"], \"value\": [-limit, limit]})\n",
    "    else:\n",
    "        timestamps = [df_data[\"date\"].min(), df_data[\"date\"].max()]\n",
    "\n",
    "        return pd.DataFrame(\n",
    "            {\n",
    "                \"date\": timestamps,\n",
    "                \"lower\": [-limit] * len(timestamps),\n",
    "                \"upper\": [limit] * len(timestamps),\n",
    "            }\n",
    "        ).melt(id_vars=[\"date\"], value_vars=[\"lower\", \"upper\"], var_name=[\"limit\"])"
   ]
  },
  {
   "cell_type": "code",
   "execution_count": null,
   "id": "344ad1cf",
   "metadata": {},
   "outputs": [],
   "source": [
    "df_limits = format_limits(df_meta)"
   ]
  },
  {
   "cell_type": "code",
   "execution_count": null,
   "id": "ffa9238c",
   "metadata": {},
   "outputs": [],
   "source": [
    "alt.layer(plot_limits(df_limits), plot_observed(df_plot))"
   ]
  },
  {
   "cell_type": "code",
   "execution_count": null,
   "id": "f973f76d",
   "metadata": {},
   "outputs": [],
   "source": []
  },
  {
   "cell_type": "code",
   "execution_count": null,
   "id": "c3cf8ef1",
   "metadata": {},
   "outputs": [],
   "source": [
    "plot_limits(df_limits) + plot_observed(df_plot)"
   ]
  },
  {
   "cell_type": "code",
   "execution_count": null,
   "id": "a277f7b6",
   "metadata": {},
   "outputs": [],
   "source": []
  }
 ],
 "metadata": {
  "hide_input": false,
  "kernelspec": {
   "display_name": "Python [conda env:spark] *",
   "language": "python",
   "name": "conda-env-spark-py"
  },
  "language_info": {
   "codemirror_mode": {
    "name": "ipython",
    "version": 3
   },
   "file_extension": ".py",
   "mimetype": "text/x-python",
   "name": "python",
   "nbconvert_exporter": "python",
   "pygments_lexer": "ipython3",
   "version": "3.8.10"
  }
 },
 "nbformat": 4,
 "nbformat_minor": 5
}
