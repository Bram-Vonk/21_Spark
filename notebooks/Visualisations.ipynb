{
 "cells": [
  {
   "cell_type": "code",
   "execution_count": null,
   "id": "5b8f5b37",
   "metadata": {},
   "outputs": [],
   "source": [
    "import os\n",
    "import sys\n",
    "sys.path.append(\"../\")\n",
    "\n",
    "import pandas as pd\n",
    "import numpy as np\n",
    "import datetime as dt\n",
    "import re\n",
    "\n",
    "import logging\n",
    "logger = logging.getLogger('SPARK')\n",
    "logger.setLevel(level=logging.WARNING)\n",
    "\n",
    "import altair as alt\n",
    "alt.data_transformers.disable_max_rows()\n",
    "\n",
    "from src.data.query_snowflake import update_week_extremes, read_DALI_week_extremes, read_meta\n",
    "from src.plot.altair import plot_limits, plot_history\n",
    "from src.plot.formatting import format_limits, format_history"
   ]
  },
  {
   "cell_type": "code",
   "execution_count": null,
   "id": "49fa2b31",
   "metadata": {},
   "outputs": [],
   "source": [
    "# update_week_extremes()"
   ]
  },
  {
   "cell_type": "code",
   "execution_count": null,
   "id": "c2909957",
   "metadata": {},
   "outputs": [],
   "source": [
    "# # sample_box = \"EMD.801267-1\"\n",
    "# df_meta_full = read_meta()"
   ]
  },
  {
   "cell_type": "code",
   "execution_count": null,
   "id": "c50977b9",
   "metadata": {},
   "outputs": [],
   "source": [
    "df_meta_full.query('boxid==\"TBB.581265-1\"')"
   ]
  },
  {
   "cell_type": "code",
   "execution_count": null,
   "id": "90438ee9",
   "metadata": {},
   "outputs": [],
   "source": [
    "sample_box = df_meta_full.sample().iloc[0,0]\n",
    "sample_box"
   ]
  },
  {
   "cell_type": "code",
   "execution_count": null,
   "id": "c7c6df09",
   "metadata": {},
   "outputs": [],
   "source": [
    "%%time\n",
    "df_meta = read_meta(sample_box)\n",
    "df_limits = format_limits(df_meta=df_meta)\n",
    "df_data = read_DALI_week_extremes(boxid=sample_box, L=\"sumli\")\n",
    "df_plot = format_history(df_data)\n",
    "plot_limits(df_limits) + plot_history(df_plot)"
   ]
  },
  {
   "cell_type": "code",
   "execution_count": null,
   "id": "c3cf8ef1",
   "metadata": {},
   "outputs": [],
   "source": []
  },
  {
   "cell_type": "code",
   "execution_count": null,
   "id": "3f09c752",
   "metadata": {},
   "outputs": [],
   "source": []
  }
 ],
 "metadata": {
  "hide_input": false,
  "kernelspec": {
   "display_name": "Python [conda env:spark] *",
   "language": "python",
   "name": "conda-env-spark-py"
  },
  "language_info": {
   "codemirror_mode": {
    "name": "ipython",
    "version": 3
   },
   "file_extension": ".py",
   "mimetype": "text/x-python",
   "name": "python",
   "nbconvert_exporter": "python",
   "pygments_lexer": "ipython3",
   "version": "3.8.10"
  }
 },
 "nbformat": 4,
 "nbformat_minor": 5
}
