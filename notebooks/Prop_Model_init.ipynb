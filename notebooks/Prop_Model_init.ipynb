{
 "cells": [
  {
   "cell_type": "code",
   "execution_count": null,
   "id": "6499e771",
   "metadata": {},
   "outputs": [],
   "source": [
    "import os\n",
    "import sys\n",
    "sys.path.append(\"../\")\n",
    "\n",
    "import pandas as pd\n",
    "import numpy as np\n",
    "import datetime as dt\n",
    "import re\n",
    "\n",
    "import altair as alt\n"
   ]
  },
  {
   "cell_type": "code",
   "execution_count": null,
   "id": "b67815b1",
   "metadata": {},
   "outputs": [],
   "source": [
    "BOXID = [\n",
    "    \"133.195-1\",\n",
    "    \"027.4090-1\",\n",
    "    \"133.134-1\",\n",
    "    \"178.518-1\",\n",
    "    \"053.746-1\",\n",
    "    \"133.141-1\",\n",
    "    \"027.0380-1\",\n",
    "    \"133.301-1\",\n",
    "    \"027.2100-1\",\n",
    "    \"027.4390-1\",\n",
    "]"
   ]
  },
  {
   "cell_type": "code",
   "execution_count": null,
   "id": "18024b6d",
   "metadata": {},
   "outputs": [],
   "source": [
    "i=2\n",
    "df_sample = (\n",
    "    pd.read_parquet(path = f\"../data/raw/BOXID={BOXID[i]}/L=sumli/\")\n",
    "    .query(\"TOP == 1\")\n",
    "    .sort_values([\"YEAR\", \"WEEK\"])\n",
    ")\n",
    "df_sample[\"DATE\"] =  df_sample.apply(lambda d: dt.datetime.fromisocalendar(d[\"YEAR\"], d[\"WEEK\"], 1), axis=1)\n",
    "df_sample"
   ]
  },
  {
   "cell_type": "code",
   "execution_count": null,
   "id": "fa6ead61",
   "metadata": {},
   "outputs": [],
   "source": [
    "(\n",
    "    alt.Chart(df_sample)\n",
    "    .mark_line()\n",
    "    .encode(\n",
    "        alt.X(\"DATE:T\", title=\"date\"),\n",
    "        alt.Y(\"VALUE:Q\", title=f\"P sumli\"),\n",
    "    )\n",
    "    .properties(width=900)\n",
    ")"
   ]
  },
  {
   "cell_type": "code",
   "execution_count": null,
   "id": "085031b4",
   "metadata": {},
   "outputs": [],
   "source": []
  }
 ],
 "metadata": {
  "hide_input": false,
  "kernelspec": {
   "display_name": "Python [conda env:spark] *",
   "language": "python",
   "name": "conda-env-spark-py"
  },
  "language_info": {
   "codemirror_mode": {
    "name": "ipython",
    "version": 3
   },
   "file_extension": ".py",
   "mimetype": "text/x-python",
   "name": "python",
   "nbconvert_exporter": "python",
   "pygments_lexer": "ipython3",
   "version": "3.8.10"
  }
 },
 "nbformat": 4,
 "nbformat_minor": 5
}
