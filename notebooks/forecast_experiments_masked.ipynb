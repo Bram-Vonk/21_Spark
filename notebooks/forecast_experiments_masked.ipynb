{
 "cells": [
  {
   "cell_type": "markdown",
   "id": "76759dfa",
   "metadata": {},
   "source": [
    "## imports"
   ]
  },
  {
   "cell_type": "code",
   "execution_count": 1,
   "id": "a56aac50",
   "metadata": {},
   "outputs": [],
   "source": [
    "import os\n",
    "import sys\n",
    "sys.path.append(\"../\")\n",
    "\n",
    "import math\n",
    "\n",
    "import pandas as pd\n",
    "import numpy as np\n",
    "import datetime as dt\n",
    "import re\n",
    "\n",
    "import pymc3 as pm\n",
    "\n",
    "import altair as alt\n",
    "alt.data_transformers.disable_max_rows()\n",
    "\n",
    "from src.preprocess.preprocess import load_data, split_last\n",
    "from src.plot.altair import plot_decompose, plot_all\n",
    "from src.forecast.forecast import determine_estimates_minmax, forecast"
   ]
  },
  {
   "cell_type": "code",
   "execution_count": 21,
   "id": "59b4fbae",
   "metadata": {},
   "outputs": [],
   "source": [
    "boxid = [\n",
    "    \"ESD.000088-1\",\n",
    "    \"063.623-1\",\n",
    "    \"VRY.CHOPS-1\",\n",
    "    \"HVT.111153-1\",\n",
    "    \"TTR.251049-1\",\n",
    "    \"BGL.CROLA-1\",\n",
    "][2]"
   ]
  },
  {
   "cell_type": "markdown",
   "id": "6de5761e",
   "metadata": {},
   "source": [
    "## load data"
   ]
  },
  {
   "cell_type": "code",
   "execution_count": 23,
   "id": "893a5c5d",
   "metadata": {},
   "outputs": [
    {
     "data": {
      "text/html": [
       "<div>\n",
       "<style scoped>\n",
       "    .dataframe tbody tr th:only-of-type {\n",
       "        vertical-align: middle;\n",
       "    }\n",
       "\n",
       "    .dataframe tbody tr th {\n",
       "        vertical-align: top;\n",
       "    }\n",
       "\n",
       "    .dataframe thead th {\n",
       "        text-align: right;\n",
       "    }\n",
       "</style>\n",
       "<table border=\"1\" class=\"dataframe\">\n",
       "  <thead>\n",
       "    <tr style=\"text-align: right;\">\n",
       "      <th></th>\n",
       "      <th>boxid</th>\n",
       "      <th>date</th>\n",
       "      <th>l</th>\n",
       "      <th>processed_on</th>\n",
       "      <th>week</th>\n",
       "      <th>year</th>\n",
       "      <th>extreme</th>\n",
       "      <th>value</th>\n",
       "      <th>period</th>\n",
       "      <th>model_var</th>\n",
       "    </tr>\n",
       "  </thead>\n",
       "  <tbody>\n",
       "    <tr>\n",
       "      <th>0</th>\n",
       "      <td>VRY.CHOPS-1</td>\n",
       "      <td>2018-09-03</td>\n",
       "      <td>sumli</td>\n",
       "      <td>2021-10-07 07:03:50.602000+00:00</td>\n",
       "      <td>36</td>\n",
       "      <td>2018</td>\n",
       "      <td>max</td>\n",
       "      <td>145.486206</td>\n",
       "      <td>history</td>\n",
       "      <td>observed</td>\n",
       "    </tr>\n",
       "    <tr>\n",
       "      <th>1</th>\n",
       "      <td>VRY.CHOPS-1</td>\n",
       "      <td>2018-09-10</td>\n",
       "      <td>sumli</td>\n",
       "      <td>2021-10-07 07:03:50.602000+00:00</td>\n",
       "      <td>37</td>\n",
       "      <td>2018</td>\n",
       "      <td>max</td>\n",
       "      <td>147.918304</td>\n",
       "      <td>history</td>\n",
       "      <td>observed</td>\n",
       "    </tr>\n",
       "    <tr>\n",
       "      <th>2</th>\n",
       "      <td>VRY.CHOPS-1</td>\n",
       "      <td>2018-09-17</td>\n",
       "      <td>sumli</td>\n",
       "      <td>2021-10-07 07:03:50.602000+00:00</td>\n",
       "      <td>38</td>\n",
       "      <td>2018</td>\n",
       "      <td>max</td>\n",
       "      <td>154.419098</td>\n",
       "      <td>history</td>\n",
       "      <td>observed</td>\n",
       "    </tr>\n",
       "    <tr>\n",
       "      <th>3</th>\n",
       "      <td>VRY.CHOPS-1</td>\n",
       "      <td>2018-09-24</td>\n",
       "      <td>sumli</td>\n",
       "      <td>2021-10-07 07:03:50.602000+00:00</td>\n",
       "      <td>39</td>\n",
       "      <td>2018</td>\n",
       "      <td>max</td>\n",
       "      <td>155.272598</td>\n",
       "      <td>history</td>\n",
       "      <td>observed</td>\n",
       "    </tr>\n",
       "    <tr>\n",
       "      <th>4</th>\n",
       "      <td>VRY.CHOPS-1</td>\n",
       "      <td>2018-10-01</td>\n",
       "      <td>sumli</td>\n",
       "      <td>2021-10-07 07:03:50.602000+00:00</td>\n",
       "      <td>40</td>\n",
       "      <td>2018</td>\n",
       "      <td>max</td>\n",
       "      <td>169.614395</td>\n",
       "      <td>history</td>\n",
       "      <td>observed</td>\n",
       "    </tr>\n",
       "    <tr>\n",
       "      <th>...</th>\n",
       "      <td>...</td>\n",
       "      <td>...</td>\n",
       "      <td>...</td>\n",
       "      <td>...</td>\n",
       "      <td>...</td>\n",
       "      <td>...</td>\n",
       "      <td>...</td>\n",
       "      <td>...</td>\n",
       "      <td>...</td>\n",
       "      <td>...</td>\n",
       "    </tr>\n",
       "    <tr>\n",
       "      <th>313</th>\n",
       "      <td>VRY.CHOPS-1</td>\n",
       "      <td>2021-08-30</td>\n",
       "      <td>sumli</td>\n",
       "      <td>2021-10-07 07:03:50.602000+00:00</td>\n",
       "      <td>35</td>\n",
       "      <td>2021</td>\n",
       "      <td>min</td>\n",
       "      <td>-223.345993</td>\n",
       "      <td>history</td>\n",
       "      <td>observed</td>\n",
       "    </tr>\n",
       "    <tr>\n",
       "      <th>314</th>\n",
       "      <td>VRY.CHOPS-1</td>\n",
       "      <td>2021-09-06</td>\n",
       "      <td>sumli</td>\n",
       "      <td>2021-10-07 07:03:50.602000+00:00</td>\n",
       "      <td>36</td>\n",
       "      <td>2021</td>\n",
       "      <td>min</td>\n",
       "      <td>-211.977295</td>\n",
       "      <td>history</td>\n",
       "      <td>observed</td>\n",
       "    </tr>\n",
       "    <tr>\n",
       "      <th>315</th>\n",
       "      <td>VRY.CHOPS-1</td>\n",
       "      <td>2021-09-13</td>\n",
       "      <td>sumli</td>\n",
       "      <td>2021-10-07 07:03:50.602000+00:00</td>\n",
       "      <td>37</td>\n",
       "      <td>2021</td>\n",
       "      <td>min</td>\n",
       "      <td>-209.037598</td>\n",
       "      <td>history</td>\n",
       "      <td>observed</td>\n",
       "    </tr>\n",
       "    <tr>\n",
       "      <th>316</th>\n",
       "      <td>VRY.CHOPS-1</td>\n",
       "      <td>2021-09-20</td>\n",
       "      <td>sumli</td>\n",
       "      <td>2021-10-07 07:03:50.602000+00:00</td>\n",
       "      <td>38</td>\n",
       "      <td>2021</td>\n",
       "      <td>min</td>\n",
       "      <td>-223.494995</td>\n",
       "      <td>history</td>\n",
       "      <td>observed</td>\n",
       "    </tr>\n",
       "    <tr>\n",
       "      <th>317</th>\n",
       "      <td>VRY.CHOPS-1</td>\n",
       "      <td>2021-09-27</td>\n",
       "      <td>sumli</td>\n",
       "      <td>2021-10-07 07:03:50.602000+00:00</td>\n",
       "      <td>39</td>\n",
       "      <td>2021</td>\n",
       "      <td>min</td>\n",
       "      <td>-173.239502</td>\n",
       "      <td>history</td>\n",
       "      <td>observed</td>\n",
       "    </tr>\n",
       "  </tbody>\n",
       "</table>\n",
       "<p>318 rows × 10 columns</p>\n",
       "</div>"
      ],
      "text/plain": [
       "           boxid       date      l                     processed_on  week  \\\n",
       "0    VRY.CHOPS-1 2018-09-03  sumli 2021-10-07 07:03:50.602000+00:00    36   \n",
       "1    VRY.CHOPS-1 2018-09-10  sumli 2021-10-07 07:03:50.602000+00:00    37   \n",
       "2    VRY.CHOPS-1 2018-09-17  sumli 2021-10-07 07:03:50.602000+00:00    38   \n",
       "3    VRY.CHOPS-1 2018-09-24  sumli 2021-10-07 07:03:50.602000+00:00    39   \n",
       "4    VRY.CHOPS-1 2018-10-01  sumli 2021-10-07 07:03:50.602000+00:00    40   \n",
       "..           ...        ...    ...                              ...   ...   \n",
       "313  VRY.CHOPS-1 2021-08-30  sumli 2021-10-07 07:03:50.602000+00:00    35   \n",
       "314  VRY.CHOPS-1 2021-09-06  sumli 2021-10-07 07:03:50.602000+00:00    36   \n",
       "315  VRY.CHOPS-1 2021-09-13  sumli 2021-10-07 07:03:50.602000+00:00    37   \n",
       "316  VRY.CHOPS-1 2021-09-20  sumli 2021-10-07 07:03:50.602000+00:00    38   \n",
       "317  VRY.CHOPS-1 2021-09-27  sumli 2021-10-07 07:03:50.602000+00:00    39   \n",
       "\n",
       "     year extreme       value   period model_var  \n",
       "0    2018     max  145.486206  history  observed  \n",
       "1    2018     max  147.918304  history  observed  \n",
       "2    2018     max  154.419098  history  observed  \n",
       "3    2018     max  155.272598  history  observed  \n",
       "4    2018     max  169.614395  history  observed  \n",
       "..    ...     ...         ...      ...       ...  \n",
       "313  2021     min -223.345993  history  observed  \n",
       "314  2021     min -211.977295  history  observed  \n",
       "315  2021     min -209.037598  history  observed  \n",
       "316  2021     min -223.494995  history  observed  \n",
       "317  2021     min -173.239502  history  observed  \n",
       "\n",
       "[318 rows x 10 columns]"
      ]
     },
     "execution_count": 23,
     "metadata": {},
     "output_type": "execute_result"
    }
   ],
   "source": [
    "df_data"
   ]
  },
  {
   "cell_type": "code",
   "execution_count": 22,
   "id": "b9b22fa7",
   "metadata": {},
   "outputs": [
    {
     "name": "stdout",
     "output_type": "stream",
     "text": [
      "[Fri, 22 Oct 2021 15:49:03] INFO [snowflake.py.read_meta] reading meta preprocess\n"
     ]
    },
    {
     "name": "stderr",
     "output_type": "stream",
     "text": [
      "INFO:SPARK:reading meta preprocess\n"
     ]
    },
    {
     "name": "stdout",
     "output_type": "stream",
     "text": [
      "[Fri, 22 Oct 2021 15:49:03] INFO [snowflake.py.read_meta] for boxids: VRY.CHOPS-1\n"
     ]
    },
    {
     "name": "stderr",
     "output_type": "stream",
     "text": [
      "INFO:SPARK:for boxids: VRY.CHOPS-1\n"
     ]
    },
    {
     "name": "stdout",
     "output_type": "stream",
     "text": [
      "[Fri, 22 Oct 2021 15:49:06] INFO [snowflake.py.read_week_extremes] reading extremes table\n"
     ]
    },
    {
     "name": "stderr",
     "output_type": "stream",
     "text": [
      "INFO:SPARK:reading extremes table\n"
     ]
    },
    {
     "name": "stdout",
     "output_type": "stream",
     "text": [
      "[Fri, 22 Oct 2021 15:49:07] INFO [preprocess.py.too_short] checking number of preprocess points (<=104)\n"
     ]
    },
    {
     "name": "stderr",
     "output_type": "stream",
     "text": [
      "INFO:SPARK:checking number of preprocess points (<=104)\n"
     ]
    },
    {
     "name": "stdout",
     "output_type": "stream",
     "text": [
      "[Fri, 22 Oct 2021 15:49:07] INFO [preprocess.py.too_small] checking absolute values (<0.5)\n"
     ]
    },
    {
     "name": "stderr",
     "output_type": "stream",
     "text": [
      "INFO:SPARK:checking absolute values (<0.5)\n"
     ]
    },
    {
     "name": "stdout",
     "output_type": "stream",
     "text": [
      "[Fri, 22 Oct 2021 15:49:07] INFO [preprocess.py.remove_leading_idling] removing leading low values (<0.01)\n"
     ]
    },
    {
     "name": "stderr",
     "output_type": "stream",
     "text": [
      "INFO:SPARK:removing leading low values (<0.01)\n"
     ]
    },
    {
     "name": "stdout",
     "output_type": "stream",
     "text": [
      "[Fri, 22 Oct 2021 15:49:07] INFO [preprocess.py.too_short] checking number of preprocess points (<=104)\n"
     ]
    },
    {
     "name": "stderr",
     "output_type": "stream",
     "text": [
      "INFO:SPARK:checking number of preprocess points (<=104)\n"
     ]
    },
    {
     "name": "stdout",
     "output_type": "stream",
     "text": [
      "CPU times: user 574 ms, sys: 41.1 ms, total: 616 ms\n",
      "Wall time: 4.16 s\n"
     ]
    },
    {
     "data": {
      "text/html": [
       "\n",
       "<div id=\"altair-viz-c824f10221614b0eb09753345c7aa727\"></div>\n",
       "<script type=\"text/javascript\">\n",
       "  (function(spec, embedOpt){\n",
       "    let outputDiv = document.currentScript.previousElementSibling;\n",
       "    if (outputDiv.id !== \"altair-viz-c824f10221614b0eb09753345c7aa727\") {\n",
       "      outputDiv = document.getElementById(\"altair-viz-c824f10221614b0eb09753345c7aa727\");\n",
       "    }\n",
       "    const paths = {\n",
       "      \"vega\": \"https://cdn.jsdelivr.net/npm//vega@5?noext\",\n",
       "      \"vega-lib\": \"https://cdn.jsdelivr.net/npm//vega-lib?noext\",\n",
       "      \"vega-lite\": \"https://cdn.jsdelivr.net/npm//vega-lite@4.8.1?noext\",\n",
       "      \"vega-embed\": \"https://cdn.jsdelivr.net/npm//vega-embed@6?noext\",\n",
       "    };\n",
       "\n",
       "    function loadScript(lib) {\n",
       "      return new Promise(function(resolve, reject) {\n",
       "        var s = document.createElement('script');\n",
       "        s.src = paths[lib];\n",
       "        s.async = true;\n",
       "        s.onload = () => resolve(paths[lib]);\n",
       "        s.onerror = () => reject(`Error loading script: ${paths[lib]}`);\n",
       "        document.getElementsByTagName(\"head\")[0].appendChild(s);\n",
       "      });\n",
       "    }\n",
       "\n",
       "    function showError(err) {\n",
       "      outputDiv.innerHTML = `<div class=\"error\" style=\"color:red;\">${err}</div>`;\n",
       "      throw err;\n",
       "    }\n",
       "\n",
       "    function displayChart(vegaEmbed) {\n",
       "      vegaEmbed(outputDiv, spec, embedOpt)\n",
       "        .catch(err => showError(`Javascript Error: ${err.message}<br>This usually means there's a typo in your chart specification. See the javascript console for the full traceback.`));\n",
       "    }\n",
       "\n",
       "    if(typeof define === \"function\" && define.amd) {\n",
       "      requirejs.config({paths});\n",
       "      require([\"vega-embed\"], displayChart, err => showError(`Error loading script: ${err.message}`));\n",
       "    } else if (typeof vegaEmbed === \"function\") {\n",
       "      displayChart(vegaEmbed);\n",
       "    } else {\n",
       "      loadScript(\"vega\")\n",
       "        .then(() => loadScript(\"vega-lite\"))\n",
       "        .then(() => loadScript(\"vega-embed\"))\n",
       "        .catch(showError)\n",
       "        .then(() => displayChart(vegaEmbed));\n",
       "    }\n",
       "  })({\"config\": {\"view\": {\"continuousWidth\": 400, \"continuousHeight\": 300}}, \"layer\": [{\"mark\": {\"type\": \"point\", \"color\": \"black\"}, \"encoding\": {\"shape\": {\"type\": \"nominal\", \"field\": \"extreme\", \"scale\": {\"domain\": [\"max\", \"min\"], \"range\": [\"triangle-up\", \"triangle-down\"]}, \"title\": \"history\"}, \"tooltip\": [{\"type\": \"quantitative\", \"field\": \"value\", \"format\": \".2f\", \"title\": \"power\"}, {\"type\": \"nominal\", \"field\": \"extreme\"}, {\"type\": \"quantitative\", \"field\": \"year\"}, {\"type\": \"quantitative\", \"field\": \"week\"}], \"x\": {\"type\": \"temporal\", \"field\": \"date\", \"title\": \"date\"}, \"y\": {\"type\": \"quantitative\", \"field\": \"value\", \"title\": \"power [kW]\"}}, \"selection\": {\"selector011\": {\"type\": \"interval\", \"bind\": \"scales\", \"encodings\": [\"x\", \"y\"]}}, \"width\": 800}], \"data\": {\"name\": \"data-32a3de009c70f6ecdc039f61d38b43de\"}, \"resolve\": {\"scale\": {\"color\": \"independent\", \"shape\": \"independent\"}}, \"$schema\": \"https://vega.github.io/schema/vega-lite/v4.8.1.json\", \"datasets\": {\"data-32a3de009c70f6ecdc039f61d38b43de\": [{\"boxid\": \"VRY.CHOPS-1\", \"date\": \"2018-09-03T00:00:00\", \"l\": \"sumli\", \"processed_on\": \"2021-10-07T07:03:50.602000+00:00\", \"week\": 36, \"year\": 2018, \"extreme\": \"max\", \"value\": 145.4862060546875, \"period\": \"history\", \"model_var\": \"observed\"}, {\"boxid\": \"VRY.CHOPS-1\", \"date\": \"2018-09-10T00:00:00\", \"l\": \"sumli\", \"processed_on\": \"2021-10-07T07:03:50.602000+00:00\", \"week\": 37, \"year\": 2018, \"extreme\": \"max\", \"value\": 147.91830444335938, \"period\": \"history\", \"model_var\": \"observed\"}, {\"boxid\": \"VRY.CHOPS-1\", \"date\": \"2018-09-17T00:00:00\", \"l\": \"sumli\", \"processed_on\": \"2021-10-07T07:03:50.602000+00:00\", \"week\": 38, \"year\": 2018, \"extreme\": \"max\", \"value\": 154.41909790039062, \"period\": \"history\", \"model_var\": \"observed\"}, {\"boxid\": \"VRY.CHOPS-1\", \"date\": \"2018-09-24T00:00:00\", \"l\": \"sumli\", \"processed_on\": \"2021-10-07T07:03:50.602000+00:00\", \"week\": 39, \"year\": 2018, \"extreme\": \"max\", \"value\": 155.27259826660156, \"period\": \"history\", \"model_var\": \"observed\"}, {\"boxid\": \"VRY.CHOPS-1\", \"date\": \"2018-10-01T00:00:00\", \"l\": \"sumli\", \"processed_on\": \"2021-10-07T07:03:50.602000+00:00\", \"week\": 40, \"year\": 2018, \"extreme\": \"max\", \"value\": 169.61439514160156, \"period\": \"history\", \"model_var\": \"observed\"}, {\"boxid\": \"VRY.CHOPS-1\", \"date\": \"2018-10-08T00:00:00\", \"l\": \"sumli\", \"processed_on\": \"2021-10-07T07:03:50.602000+00:00\", \"week\": 41, \"year\": 2018, \"extreme\": \"max\", \"value\": 157.06939697265625, \"period\": \"history\", \"model_var\": \"observed\"}, {\"boxid\": \"VRY.CHOPS-1\", \"date\": \"2018-10-15T00:00:00\", \"l\": \"sumli\", \"processed_on\": \"2021-10-07T07:03:50.602000+00:00\", \"week\": 42, \"year\": 2018, \"extreme\": \"max\", \"value\": 166.35989379882812, \"period\": \"history\", \"model_var\": \"observed\"}, {\"boxid\": \"VRY.CHOPS-1\", \"date\": \"2018-10-22T00:00:00\", \"l\": \"sumli\", \"processed_on\": \"2021-10-07T07:03:50.602000+00:00\", \"week\": 43, \"year\": 2018, \"extreme\": \"max\", \"value\": 178.58169555664062, \"period\": \"history\", \"model_var\": \"observed\"}, {\"boxid\": \"VRY.CHOPS-1\", \"date\": \"2018-10-29T00:00:00\", \"l\": \"sumli\", \"processed_on\": \"2021-10-07T07:03:50.602000+00:00\", \"week\": 44, \"year\": 2018, \"extreme\": \"max\", \"value\": 196.1273956298828, \"period\": \"history\", \"model_var\": \"observed\"}, {\"boxid\": \"VRY.CHOPS-1\", \"date\": \"2018-11-05T00:00:00\", \"l\": \"sumli\", \"processed_on\": \"2021-10-07T07:03:50.602000+00:00\", \"week\": 45, \"year\": 2018, \"extreme\": \"max\", \"value\": 194.5583953857422, \"period\": \"history\", \"model_var\": \"observed\"}, {\"boxid\": \"VRY.CHOPS-1\", \"date\": \"2018-11-12T00:00:00\", \"l\": \"sumli\", \"processed_on\": \"2021-10-07T07:03:50.602000+00:00\", \"week\": 46, \"year\": 2018, \"extreme\": \"max\", \"value\": 202.68350219726562, \"period\": \"history\", \"model_var\": \"observed\"}, {\"boxid\": \"VRY.CHOPS-1\", \"date\": \"2018-11-19T00:00:00\", \"l\": \"sumli\", \"processed_on\": \"2021-10-07T07:03:50.602000+00:00\", \"week\": 47, \"year\": 2018, \"extreme\": \"max\", \"value\": 223.0928955078125, \"period\": \"history\", \"model_var\": \"observed\"}, {\"boxid\": \"VRY.CHOPS-1\", \"date\": \"2018-11-26T00:00:00\", \"l\": \"sumli\", \"processed_on\": \"2021-10-07T07:03:50.602000+00:00\", \"week\": 48, \"year\": 2018, \"extreme\": \"max\", \"value\": 194.82420349121094, \"period\": \"history\", \"model_var\": \"observed\"}, {\"boxid\": \"VRY.CHOPS-1\", \"date\": \"2018-12-03T00:00:00\", \"l\": \"sumli\", \"processed_on\": \"2021-10-07T07:03:50.602000+00:00\", \"week\": 49, \"year\": 2018, \"extreme\": \"max\", \"value\": 201.77369689941406, \"period\": \"history\", \"model_var\": \"observed\"}, {\"boxid\": \"VRY.CHOPS-1\", \"date\": \"2018-12-10T00:00:00\", \"l\": \"sumli\", \"processed_on\": \"2021-10-07T07:03:50.602000+00:00\", \"week\": 50, \"year\": 2018, \"extreme\": \"max\", \"value\": 198.2696990966797, \"period\": \"history\", \"model_var\": \"observed\"}, {\"boxid\": \"VRY.CHOPS-1\", \"date\": \"2018-12-17T00:00:00\", \"l\": \"sumli\", \"processed_on\": \"2021-10-07T07:03:50.602000+00:00\", \"week\": 51, \"year\": 2018, \"extreme\": \"max\", \"value\": 205.3914031982422, \"period\": \"history\", \"model_var\": \"observed\"}, {\"boxid\": \"VRY.CHOPS-1\", \"date\": \"2018-12-24T00:00:00\", \"l\": \"sumli\", \"processed_on\": \"2021-10-07T07:03:50.602000+00:00\", \"week\": 52, \"year\": 2018, \"extreme\": \"max\", \"value\": 215.64190673828125, \"period\": \"history\", \"model_var\": \"observed\"}, {\"boxid\": \"VRY.CHOPS-1\", \"date\": \"2018-12-31T00:00:00\", \"l\": \"sumli\", \"processed_on\": \"2021-10-07T07:03:50.602000+00:00\", \"week\": 1, \"year\": 2019, \"extreme\": \"max\", \"value\": 203.11610412597656, \"period\": \"history\", \"model_var\": \"observed\"}, {\"boxid\": \"VRY.CHOPS-1\", \"date\": \"2019-01-07T00:00:00\", \"l\": \"sumli\", \"processed_on\": \"2021-10-07T07:03:50.602000+00:00\", \"week\": 2, \"year\": 2019, \"extreme\": \"max\", \"value\": 203.0050048828125, \"period\": \"history\", \"model_var\": \"observed\"}, {\"boxid\": \"VRY.CHOPS-1\", \"date\": \"2019-01-14T00:00:00\", \"l\": \"sumli\", \"processed_on\": \"2021-10-07T07:03:50.602000+00:00\", \"week\": 3, \"year\": 2019, \"extreme\": \"max\", \"value\": 213.2436981201172, \"period\": \"history\", \"model_var\": \"observed\"}, {\"boxid\": \"VRY.CHOPS-1\", \"date\": \"2019-01-21T00:00:00\", \"l\": \"sumli\", \"processed_on\": \"2021-10-07T07:03:50.602000+00:00\", \"week\": 4, \"year\": 2019, \"extreme\": \"max\", \"value\": 261.689697265625, \"period\": \"history\", \"model_var\": \"observed\"}, {\"boxid\": \"VRY.CHOPS-1\", \"date\": \"2019-01-28T00:00:00\", \"l\": \"sumli\", \"processed_on\": \"2021-10-07T07:03:50.602000+00:00\", \"week\": 5, \"year\": 2019, \"extreme\": \"max\", \"value\": 188.87989807128906, \"period\": \"history\", \"model_var\": \"observed\"}, {\"boxid\": \"VRY.CHOPS-1\", \"date\": \"2019-02-04T00:00:00\", \"l\": \"sumli\", \"processed_on\": \"2021-10-07T07:03:50.602000+00:00\", \"week\": 6, \"year\": 2019, \"extreme\": \"max\", \"value\": 193.2906036376953, \"period\": \"history\", \"model_var\": \"observed\"}, {\"boxid\": \"VRY.CHOPS-1\", \"date\": \"2019-02-11T00:00:00\", \"l\": \"sumli\", \"processed_on\": \"2021-10-07T07:03:50.602000+00:00\", \"week\": 7, \"year\": 2019, \"extreme\": \"max\", \"value\": 188.24630737304688, \"period\": \"history\", \"model_var\": \"observed\"}, {\"boxid\": \"VRY.CHOPS-1\", \"date\": \"2019-02-18T00:00:00\", \"l\": \"sumli\", \"processed_on\": \"2021-10-07T07:03:50.602000+00:00\", \"week\": 8, \"year\": 2019, \"extreme\": \"max\", \"value\": 181.11529541015625, \"period\": \"history\", \"model_var\": \"observed\"}, {\"boxid\": \"VRY.CHOPS-1\", \"date\": \"2019-02-25T00:00:00\", \"l\": \"sumli\", \"processed_on\": \"2021-10-07T07:03:50.602000+00:00\", \"week\": 9, \"year\": 2019, \"extreme\": \"max\", \"value\": 159.9134063720703, \"period\": \"history\", \"model_var\": \"observed\"}, {\"boxid\": \"VRY.CHOPS-1\", \"date\": \"2019-03-04T00:00:00\", \"l\": \"sumli\", \"processed_on\": \"2021-10-07T07:03:50.602000+00:00\", \"week\": 10, \"year\": 2019, \"extreme\": \"max\", \"value\": 173.8957977294922, \"period\": \"history\", \"model_var\": \"observed\"}, {\"boxid\": \"VRY.CHOPS-1\", \"date\": \"2019-03-11T00:00:00\", \"l\": \"sumli\", \"processed_on\": \"2021-10-07T07:03:50.602000+00:00\", \"week\": 11, \"year\": 2019, \"extreme\": \"max\", \"value\": 183.7751007080078, \"period\": \"history\", \"model_var\": \"observed\"}, {\"boxid\": \"VRY.CHOPS-1\", \"date\": \"2019-03-18T00:00:00\", \"l\": \"sumli\", \"processed_on\": \"2021-10-07T07:03:50.602000+00:00\", \"week\": 12, \"year\": 2019, \"extreme\": \"max\", \"value\": 168.63009643554688, \"period\": \"history\", \"model_var\": \"observed\"}, {\"boxid\": \"VRY.CHOPS-1\", \"date\": \"2019-03-25T00:00:00\", \"l\": \"sumli\", \"processed_on\": \"2021-10-07T07:03:50.602000+00:00\", \"week\": 13, \"year\": 2019, \"extreme\": \"max\", \"value\": 160.58419799804688, \"period\": \"history\", \"model_var\": \"observed\"}, {\"boxid\": \"VRY.CHOPS-1\", \"date\": \"2019-04-01T00:00:00\", \"l\": \"sumli\", \"processed_on\": \"2021-10-07T07:03:50.602000+00:00\", \"week\": 14, \"year\": 2019, \"extreme\": \"max\", \"value\": 150.59410095214844, \"period\": \"history\", \"model_var\": \"observed\"}, {\"boxid\": \"VRY.CHOPS-1\", \"date\": \"2019-04-08T00:00:00\", \"l\": \"sumli\", \"processed_on\": \"2021-10-07T07:03:50.602000+00:00\", \"week\": 15, \"year\": 2019, \"extreme\": \"max\", \"value\": 151.87840270996094, \"period\": \"history\", \"model_var\": \"observed\"}, {\"boxid\": \"VRY.CHOPS-1\", \"date\": \"2019-04-15T00:00:00\", \"l\": \"sumli\", \"processed_on\": \"2021-10-07T07:03:50.602000+00:00\", \"week\": 16, \"year\": 2019, \"extreme\": \"max\", \"value\": 141.8950958251953, \"period\": \"history\", \"model_var\": \"observed\"}, {\"boxid\": \"VRY.CHOPS-1\", \"date\": \"2019-04-22T00:00:00\", \"l\": \"sumli\", \"processed_on\": \"2021-10-07T07:03:50.602000+00:00\", \"week\": 17, \"year\": 2019, \"extreme\": \"max\", \"value\": 141.54339599609375, \"period\": \"history\", \"model_var\": \"observed\"}, {\"boxid\": \"VRY.CHOPS-1\", \"date\": \"2019-04-29T00:00:00\", \"l\": \"sumli\", \"processed_on\": \"2021-10-07T07:03:50.602000+00:00\", \"week\": 18, \"year\": 2019, \"extreme\": \"max\", \"value\": 143.9665985107422, \"period\": \"history\", \"model_var\": \"observed\"}, {\"boxid\": \"VRY.CHOPS-1\", \"date\": \"2019-05-06T00:00:00\", \"l\": \"sumli\", \"processed_on\": \"2021-10-07T07:03:50.602000+00:00\", \"week\": 19, \"year\": 2019, \"extreme\": \"max\", \"value\": 166.56900024414062, \"period\": \"history\", \"model_var\": \"observed\"}, {\"boxid\": \"VRY.CHOPS-1\", \"date\": \"2019-05-13T00:00:00\", \"l\": \"sumli\", \"processed_on\": \"2021-10-07T07:03:50.602000+00:00\", \"week\": 20, \"year\": 2019, \"extreme\": \"max\", \"value\": 160.0334014892578, \"period\": \"history\", \"model_var\": \"observed\"}, {\"boxid\": \"VRY.CHOPS-1\", \"date\": \"2019-05-20T00:00:00\", \"l\": \"sumli\", \"processed_on\": \"2021-10-07T07:03:50.602000+00:00\", \"week\": 21, \"year\": 2019, \"extreme\": \"max\", \"value\": 155.1934051513672, \"period\": \"history\", \"model_var\": \"observed\"}, {\"boxid\": \"VRY.CHOPS-1\", \"date\": \"2019-05-27T00:00:00\", \"l\": \"sumli\", \"processed_on\": \"2021-10-07T07:03:50.602000+00:00\", \"week\": 22, \"year\": 2019, \"extreme\": \"max\", \"value\": 151.6486053466797, \"period\": \"history\", \"model_var\": \"observed\"}, {\"boxid\": \"VRY.CHOPS-1\", \"date\": \"2019-06-03T00:00:00\", \"l\": \"sumli\", \"processed_on\": \"2021-10-07T07:03:50.602000+00:00\", \"week\": 23, \"year\": 2019, \"extreme\": \"max\", \"value\": 146.07449340820312, \"period\": \"history\", \"model_var\": \"observed\"}, {\"boxid\": \"VRY.CHOPS-1\", \"date\": \"2019-06-10T00:00:00\", \"l\": \"sumli\", \"processed_on\": \"2021-10-07T07:03:50.602000+00:00\", \"week\": 24, \"year\": 2019, \"extreme\": \"max\", \"value\": 130.82220458984375, \"period\": \"history\", \"model_var\": \"observed\"}, {\"boxid\": \"VRY.CHOPS-1\", \"date\": \"2019-06-17T00:00:00\", \"l\": \"sumli\", \"processed_on\": \"2021-10-07T07:03:50.602000+00:00\", \"week\": 25, \"year\": 2019, \"extreme\": \"max\", \"value\": 137.2519989013672, \"period\": \"history\", \"model_var\": \"observed\"}, {\"boxid\": \"VRY.CHOPS-1\", \"date\": \"2019-06-24T00:00:00\", \"l\": \"sumli\", \"processed_on\": \"2021-10-07T07:03:50.602000+00:00\", \"week\": 26, \"year\": 2019, \"extreme\": \"max\", \"value\": 141.77499389648438, \"period\": \"history\", \"model_var\": \"observed\"}, {\"boxid\": \"VRY.CHOPS-1\", \"date\": \"2019-07-01T00:00:00\", \"l\": \"sumli\", \"processed_on\": \"2021-10-07T07:03:50.602000+00:00\", \"week\": 27, \"year\": 2019, \"extreme\": \"max\", \"value\": 125.23670196533203, \"period\": \"history\", \"model_var\": \"observed\"}, {\"boxid\": \"VRY.CHOPS-1\", \"date\": \"2019-07-08T00:00:00\", \"l\": \"sumli\", \"processed_on\": \"2021-10-07T07:03:50.602000+00:00\", \"week\": 28, \"year\": 2019, \"extreme\": \"max\", \"value\": 119.51519775390625, \"period\": \"history\", \"model_var\": \"observed\"}, {\"boxid\": \"VRY.CHOPS-1\", \"date\": \"2019-07-15T00:00:00\", \"l\": \"sumli\", \"processed_on\": \"2021-10-07T07:03:50.602000+00:00\", \"week\": 29, \"year\": 2019, \"extreme\": \"max\", \"value\": 118.34339904785156, \"period\": \"history\", \"model_var\": \"observed\"}, {\"boxid\": \"VRY.CHOPS-1\", \"date\": \"2019-07-22T00:00:00\", \"l\": \"sumli\", \"processed_on\": \"2021-10-07T07:03:50.602000+00:00\", \"week\": 30, \"year\": 2019, \"extreme\": \"max\", \"value\": 143.00230407714844, \"period\": \"history\", \"model_var\": \"observed\"}, {\"boxid\": \"VRY.CHOPS-1\", \"date\": \"2019-07-29T00:00:00\", \"l\": \"sumli\", \"processed_on\": \"2021-10-07T07:03:50.602000+00:00\", \"week\": 31, \"year\": 2019, \"extreme\": \"max\", \"value\": 117.92240142822266, \"period\": \"history\", \"model_var\": \"observed\"}, {\"boxid\": \"VRY.CHOPS-1\", \"date\": \"2019-08-05T00:00:00\", \"l\": \"sumli\", \"processed_on\": \"2021-10-07T07:03:50.602000+00:00\", \"week\": 32, \"year\": 2019, \"extreme\": \"max\", \"value\": 123.11109924316406, \"period\": \"history\", \"model_var\": \"observed\"}, {\"boxid\": \"VRY.CHOPS-1\", \"date\": \"2019-08-12T00:00:00\", \"l\": \"sumli\", \"processed_on\": \"2021-10-07T07:03:50.602000+00:00\", \"week\": 33, \"year\": 2019, \"extreme\": \"max\", \"value\": 130.44180297851562, \"period\": \"history\", \"model_var\": \"observed\"}, {\"boxid\": \"VRY.CHOPS-1\", \"date\": \"2019-08-19T00:00:00\", \"l\": \"sumli\", \"processed_on\": \"2021-10-07T07:03:50.602000+00:00\", \"week\": 34, \"year\": 2019, \"extreme\": \"max\", \"value\": 139.92379760742188, \"period\": \"history\", \"model_var\": \"observed\"}, {\"boxid\": \"VRY.CHOPS-1\", \"date\": \"2019-08-26T00:00:00\", \"l\": \"sumli\", \"processed_on\": \"2021-10-07T07:03:50.602000+00:00\", \"week\": 35, \"year\": 2019, \"extreme\": \"max\", \"value\": 149.17950439453125, \"period\": \"history\", \"model_var\": \"observed\"}, {\"boxid\": \"VRY.CHOPS-1\", \"date\": \"2019-09-02T00:00:00\", \"l\": \"sumli\", \"processed_on\": \"2021-10-07T07:03:50.602000+00:00\", \"week\": 36, \"year\": 2019, \"extreme\": \"max\", \"value\": 138.79110717773438, \"period\": \"history\", \"model_var\": \"observed\"}, {\"boxid\": \"VRY.CHOPS-1\", \"date\": \"2019-09-09T00:00:00\", \"l\": \"sumli\", \"processed_on\": \"2021-10-07T07:03:50.602000+00:00\", \"week\": 37, \"year\": 2019, \"extreme\": \"max\", \"value\": 138.95440673828125, \"period\": \"history\", \"model_var\": \"observed\"}, {\"boxid\": \"VRY.CHOPS-1\", \"date\": \"2019-09-16T00:00:00\", \"l\": \"sumli\", \"processed_on\": \"2021-10-07T07:03:50.602000+00:00\", \"week\": 38, \"year\": 2019, \"extreme\": \"max\", \"value\": 146.82150268554688, \"period\": \"history\", \"model_var\": \"observed\"}, {\"boxid\": \"VRY.CHOPS-1\", \"date\": \"2019-09-23T00:00:00\", \"l\": \"sumli\", \"processed_on\": \"2021-10-07T07:03:50.602000+00:00\", \"week\": 39, \"year\": 2019, \"extreme\": \"max\", \"value\": 151.34530639648438, \"period\": \"history\", \"model_var\": \"observed\"}, {\"boxid\": \"VRY.CHOPS-1\", \"date\": \"2019-09-30T00:00:00\", \"l\": \"sumli\", \"processed_on\": \"2021-10-07T07:03:50.602000+00:00\", \"week\": 40, \"year\": 2019, \"extreme\": \"max\", \"value\": 167.98240661621094, \"period\": \"history\", \"model_var\": \"observed\"}, {\"boxid\": \"VRY.CHOPS-1\", \"date\": \"2019-10-07T00:00:00\", \"l\": \"sumli\", \"processed_on\": \"2021-10-07T07:03:50.602000+00:00\", \"week\": 41, \"year\": 2019, \"extreme\": \"max\", \"value\": 160.03509521484375, \"period\": \"history\", \"model_var\": \"observed\"}, {\"boxid\": \"VRY.CHOPS-1\", \"date\": \"2019-10-14T00:00:00\", \"l\": \"sumli\", \"processed_on\": \"2021-10-07T07:03:50.602000+00:00\", \"week\": 42, \"year\": 2019, \"extreme\": \"max\", \"value\": 178.5657958984375, \"period\": \"history\", \"model_var\": \"observed\"}, {\"boxid\": \"VRY.CHOPS-1\", \"date\": \"2019-10-21T00:00:00\", \"l\": \"sumli\", \"processed_on\": \"2021-10-07T07:03:50.602000+00:00\", \"week\": 43, \"year\": 2019, \"extreme\": \"max\", \"value\": 174.43899536132812, \"period\": \"history\", \"model_var\": \"observed\"}, {\"boxid\": \"VRY.CHOPS-1\", \"date\": \"2019-10-28T00:00:00\", \"l\": \"sumli\", \"processed_on\": \"2021-10-07T07:03:50.602000+00:00\", \"week\": 44, \"year\": 2019, \"extreme\": \"max\", \"value\": 190.4503936767578, \"period\": \"history\", \"model_var\": \"observed\"}, {\"boxid\": \"VRY.CHOPS-1\", \"date\": \"2019-11-04T00:00:00\", \"l\": \"sumli\", \"processed_on\": \"2021-10-07T07:03:50.602000+00:00\", \"week\": 45, \"year\": 2019, \"extreme\": \"max\", \"value\": 191.6094970703125, \"period\": \"history\", \"model_var\": \"observed\"}, {\"boxid\": \"VRY.CHOPS-1\", \"date\": \"2019-11-11T00:00:00\", \"l\": \"sumli\", \"processed_on\": \"2021-10-07T07:03:50.602000+00:00\", \"week\": 46, \"year\": 2019, \"extreme\": \"max\", \"value\": 183.06939697265625, \"period\": \"history\", \"model_var\": \"observed\"}, {\"boxid\": \"VRY.CHOPS-1\", \"date\": \"2019-11-18T00:00:00\", \"l\": \"sumli\", \"processed_on\": \"2021-10-07T07:03:50.602000+00:00\", \"week\": 47, \"year\": 2019, \"extreme\": \"max\", \"value\": 190.23739624023438, \"period\": \"history\", \"model_var\": \"observed\"}, {\"boxid\": \"VRY.CHOPS-1\", \"date\": \"2019-11-25T00:00:00\", \"l\": \"sumli\", \"processed_on\": \"2021-10-07T07:03:50.602000+00:00\", \"week\": 48, \"year\": 2019, \"extreme\": \"max\", \"value\": 190.49319458007812, \"period\": \"history\", \"model_var\": \"observed\"}, {\"boxid\": \"VRY.CHOPS-1\", \"date\": \"2019-12-02T00:00:00\", \"l\": \"sumli\", \"processed_on\": \"2021-10-07T07:03:50.602000+00:00\", \"week\": 49, \"year\": 2019, \"extreme\": \"max\", \"value\": 192.71119689941406, \"period\": \"history\", \"model_var\": \"observed\"}, {\"boxid\": \"VRY.CHOPS-1\", \"date\": \"2019-12-09T00:00:00\", \"l\": \"sumli\", \"processed_on\": \"2021-10-07T07:03:50.602000+00:00\", \"week\": 50, \"year\": 2019, \"extreme\": \"max\", \"value\": 206.48370361328125, \"period\": \"history\", \"model_var\": \"observed\"}, {\"boxid\": \"VRY.CHOPS-1\", \"date\": \"2019-12-16T00:00:00\", \"l\": \"sumli\", \"processed_on\": \"2021-10-07T07:03:50.602000+00:00\", \"week\": 51, \"year\": 2019, \"extreme\": \"max\", \"value\": 182.81239318847656, \"period\": \"history\", \"model_var\": \"observed\"}, {\"boxid\": \"VRY.CHOPS-1\", \"date\": \"2019-12-23T00:00:00\", \"l\": \"sumli\", \"processed_on\": \"2021-10-07T07:03:50.602000+00:00\", \"week\": 52, \"year\": 2019, \"extreme\": \"max\", \"value\": 194.76759338378906, \"period\": \"history\", \"model_var\": \"observed\"}, {\"boxid\": \"VRY.CHOPS-1\", \"date\": \"2019-12-30T00:00:00\", \"l\": \"sumli\", \"processed_on\": \"2021-10-07T07:03:50.602000+00:00\", \"week\": 1, \"year\": 2020, \"extreme\": \"max\", \"value\": 197.93719482421875, \"period\": \"history\", \"model_var\": \"observed\"}, {\"boxid\": \"VRY.CHOPS-1\", \"date\": \"2020-01-06T00:00:00\", \"l\": \"sumli\", \"processed_on\": \"2021-10-07T07:03:50.602000+00:00\", \"week\": 2, \"year\": 2020, \"extreme\": \"max\", \"value\": 191.7042999267578, \"period\": \"history\", \"model_var\": \"observed\"}, {\"boxid\": \"VRY.CHOPS-1\", \"date\": \"2020-01-13T00:00:00\", \"l\": \"sumli\", \"processed_on\": \"2021-10-07T07:03:50.602000+00:00\", \"week\": 3, \"year\": 2020, \"extreme\": \"max\", \"value\": 186.2917022705078, \"period\": \"history\", \"model_var\": \"observed\"}, {\"boxid\": \"VRY.CHOPS-1\", \"date\": \"2020-01-20T00:00:00\", \"l\": \"sumli\", \"processed_on\": \"2021-10-07T07:03:50.602000+00:00\", \"week\": 4, \"year\": 2020, \"extreme\": \"max\", \"value\": 189.4949951171875, \"period\": \"history\", \"model_var\": \"observed\"}, {\"boxid\": \"VRY.CHOPS-1\", \"date\": \"2020-01-27T00:00:00\", \"l\": \"sumli\", \"processed_on\": \"2021-10-07T07:03:50.602000+00:00\", \"week\": 5, \"year\": 2020, \"extreme\": \"max\", \"value\": 190.91270446777344, \"period\": \"history\", \"model_var\": \"observed\"}, {\"boxid\": \"VRY.CHOPS-1\", \"date\": \"2020-02-03T00:00:00\", \"l\": \"sumli\", \"processed_on\": \"2021-10-07T07:03:50.602000+00:00\", \"week\": 6, \"year\": 2020, \"extreme\": \"max\", \"value\": 178.6374053955078, \"period\": \"history\", \"model_var\": \"observed\"}, {\"boxid\": \"VRY.CHOPS-1\", \"date\": \"2020-02-10T00:00:00\", \"l\": \"sumli\", \"processed_on\": \"2021-10-07T07:03:50.602000+00:00\", \"week\": 7, \"year\": 2020, \"extreme\": \"max\", \"value\": 169.09970092773438, \"period\": \"history\", \"model_var\": \"observed\"}, {\"boxid\": \"VRY.CHOPS-1\", \"date\": \"2020-02-17T00:00:00\", \"l\": \"sumli\", \"processed_on\": \"2021-10-07T07:03:50.602000+00:00\", \"week\": 8, \"year\": 2020, \"extreme\": \"max\", \"value\": 165.42889404296875, \"period\": \"history\", \"model_var\": \"observed\"}, {\"boxid\": \"VRY.CHOPS-1\", \"date\": \"2020-02-24T00:00:00\", \"l\": \"sumli\", \"processed_on\": \"2021-10-07T07:03:50.602000+00:00\", \"week\": 9, \"year\": 2020, \"extreme\": \"max\", \"value\": 177.03829956054688, \"period\": \"history\", \"model_var\": \"observed\"}, {\"boxid\": \"VRY.CHOPS-1\", \"date\": \"2020-03-02T00:00:00\", \"l\": \"sumli\", \"processed_on\": \"2021-10-07T07:03:50.602000+00:00\", \"week\": 10, \"year\": 2020, \"extreme\": \"max\", \"value\": 172.5167999267578, \"period\": \"history\", \"model_var\": \"observed\"}, {\"boxid\": \"VRY.CHOPS-1\", \"date\": \"2020-03-09T00:00:00\", \"l\": \"sumli\", \"processed_on\": \"2021-10-07T07:03:50.602000+00:00\", \"week\": 11, \"year\": 2020, \"extreme\": \"max\", \"value\": 175.31199645996094, \"period\": \"history\", \"model_var\": \"observed\"}, {\"boxid\": \"VRY.CHOPS-1\", \"date\": \"2020-03-16T00:00:00\", \"l\": \"sumli\", \"processed_on\": \"2021-10-07T07:03:50.602000+00:00\", \"week\": 12, \"year\": 2020, \"extreme\": \"max\", \"value\": 170.90359497070312, \"period\": \"history\", \"model_var\": \"observed\"}, {\"boxid\": \"VRY.CHOPS-1\", \"date\": \"2020-03-23T00:00:00\", \"l\": \"sumli\", \"processed_on\": \"2021-10-07T07:03:50.602000+00:00\", \"week\": 13, \"year\": 2020, \"extreme\": \"max\", \"value\": 171.61920166015625, \"period\": \"history\", \"model_var\": \"observed\"}, {\"boxid\": \"VRY.CHOPS-1\", \"date\": \"2020-03-30T00:00:00\", \"l\": \"sumli\", \"processed_on\": \"2021-10-07T07:03:50.602000+00:00\", \"week\": 14, \"year\": 2020, \"extreme\": \"max\", \"value\": 171.9069061279297, \"period\": \"history\", \"model_var\": \"observed\"}, {\"boxid\": \"VRY.CHOPS-1\", \"date\": \"2020-04-06T00:00:00\", \"l\": \"sumli\", \"processed_on\": \"2021-10-07T07:03:50.602000+00:00\", \"week\": 15, \"year\": 2020, \"extreme\": \"max\", \"value\": 163.3325958251953, \"period\": \"history\", \"model_var\": \"observed\"}, {\"boxid\": \"VRY.CHOPS-1\", \"date\": \"2020-04-13T00:00:00\", \"l\": \"sumli\", \"processed_on\": \"2021-10-07T07:03:50.602000+00:00\", \"week\": 16, \"year\": 2020, \"extreme\": \"max\", \"value\": 153.8072052001953, \"period\": \"history\", \"model_var\": \"observed\"}, {\"boxid\": \"VRY.CHOPS-1\", \"date\": \"2020-04-20T00:00:00\", \"l\": \"sumli\", \"processed_on\": \"2021-10-07T07:03:50.602000+00:00\", \"week\": 17, \"year\": 2020, \"extreme\": \"max\", \"value\": 162.31039428710938, \"period\": \"history\", \"model_var\": \"observed\"}, {\"boxid\": \"VRY.CHOPS-1\", \"date\": \"2020-04-27T00:00:00\", \"l\": \"sumli\", \"processed_on\": \"2021-10-07T07:03:50.602000+00:00\", \"week\": 18, \"year\": 2020, \"extreme\": \"max\", \"value\": 181.05320739746094, \"period\": \"history\", \"model_var\": \"observed\"}, {\"boxid\": \"VRY.CHOPS-1\", \"date\": \"2020-05-04T00:00:00\", \"l\": \"sumli\", \"processed_on\": \"2021-10-07T07:03:50.602000+00:00\", \"week\": 19, \"year\": 2020, \"extreme\": \"max\", \"value\": 172.78900146484375, \"period\": \"history\", \"model_var\": \"observed\"}, {\"boxid\": \"VRY.CHOPS-1\", \"date\": \"2020-05-11T00:00:00\", \"l\": \"sumli\", \"processed_on\": \"2021-10-07T07:03:50.602000+00:00\", \"week\": 20, \"year\": 2020, \"extreme\": \"max\", \"value\": 172.03640747070312, \"period\": \"history\", \"model_var\": \"observed\"}, {\"boxid\": \"VRY.CHOPS-1\", \"date\": \"2020-05-18T00:00:00\", \"l\": \"sumli\", \"processed_on\": \"2021-10-07T07:03:50.602000+00:00\", \"week\": 21, \"year\": 2020, \"extreme\": \"max\", \"value\": 166.3972930908203, \"period\": \"history\", \"model_var\": \"observed\"}, {\"boxid\": \"VRY.CHOPS-1\", \"date\": \"2020-05-25T00:00:00\", \"l\": \"sumli\", \"processed_on\": \"2021-10-07T07:03:50.602000+00:00\", \"week\": 22, \"year\": 2020, \"extreme\": \"max\", \"value\": 136.79159545898438, \"period\": \"history\", \"model_var\": \"observed\"}, {\"boxid\": \"VRY.CHOPS-1\", \"date\": \"2020-06-01T00:00:00\", \"l\": \"sumli\", \"processed_on\": \"2021-10-07T07:03:50.602000+00:00\", \"week\": 23, \"year\": 2020, \"extreme\": \"max\", \"value\": 135.060302734375, \"period\": \"history\", \"model_var\": \"observed\"}, {\"boxid\": \"VRY.CHOPS-1\", \"date\": \"2020-06-08T00:00:00\", \"l\": \"sumli\", \"processed_on\": \"2021-10-07T07:03:50.602000+00:00\", \"week\": 24, \"year\": 2020, \"extreme\": \"max\", \"value\": 131.16000366210938, \"period\": \"history\", \"model_var\": \"observed\"}, {\"boxid\": \"VRY.CHOPS-1\", \"date\": \"2020-06-15T00:00:00\", \"l\": \"sumli\", \"processed_on\": \"2021-10-07T07:03:50.602000+00:00\", \"week\": 25, \"year\": 2020, \"extreme\": \"max\", \"value\": 140.0644989013672, \"period\": \"history\", \"model_var\": \"observed\"}, {\"boxid\": \"VRY.CHOPS-1\", \"date\": \"2020-06-22T00:00:00\", \"l\": \"sumli\", \"processed_on\": \"2021-10-07T07:03:50.602000+00:00\", \"week\": 26, \"year\": 2020, \"extreme\": \"max\", \"value\": 139.5478057861328, \"period\": \"history\", \"model_var\": \"observed\"}, {\"boxid\": \"VRY.CHOPS-1\", \"date\": \"2020-06-29T00:00:00\", \"l\": \"sumli\", \"processed_on\": \"2021-10-07T07:03:50.602000+00:00\", \"week\": 27, \"year\": 2020, \"extreme\": \"max\", \"value\": 132.48049926757812, \"period\": \"history\", \"model_var\": \"observed\"}, {\"boxid\": \"VRY.CHOPS-1\", \"date\": \"2020-07-06T00:00:00\", \"l\": \"sumli\", \"processed_on\": \"2021-10-07T07:03:50.602000+00:00\", \"week\": 28, \"year\": 2020, \"extreme\": \"max\", \"value\": 129.11090087890625, \"period\": \"history\", \"model_var\": \"observed\"}, {\"boxid\": \"VRY.CHOPS-1\", \"date\": \"2020-07-13T00:00:00\", \"l\": \"sumli\", \"processed_on\": \"2021-10-07T07:03:50.602000+00:00\", \"week\": 29, \"year\": 2020, \"extreme\": \"max\", \"value\": 126.72509765625, \"period\": \"history\", \"model_var\": \"observed\"}, {\"boxid\": \"VRY.CHOPS-1\", \"date\": \"2020-07-20T00:00:00\", \"l\": \"sumli\", \"processed_on\": \"2021-10-07T07:03:50.602000+00:00\", \"week\": 30, \"year\": 2020, \"extreme\": \"max\", \"value\": 128.0236053466797, \"period\": \"history\", \"model_var\": \"observed\"}, {\"boxid\": \"VRY.CHOPS-1\", \"date\": \"2020-07-27T00:00:00\", \"l\": \"sumli\", \"processed_on\": \"2021-10-07T07:03:50.602000+00:00\", \"week\": 31, \"year\": 2020, \"extreme\": \"max\", \"value\": 151.59719848632812, \"period\": \"history\", \"model_var\": \"observed\"}, {\"boxid\": \"VRY.CHOPS-1\", \"date\": \"2020-08-03T00:00:00\", \"l\": \"sumli\", \"processed_on\": \"2021-10-07T07:03:50.602000+00:00\", \"week\": 32, \"year\": 2020, \"extreme\": \"max\", \"value\": 159.63040161132812, \"period\": \"history\", \"model_var\": \"observed\"}, {\"boxid\": \"VRY.CHOPS-1\", \"date\": \"2020-08-10T00:00:00\", \"l\": \"sumli\", \"processed_on\": \"2021-10-07T07:03:50.602000+00:00\", \"week\": 33, \"year\": 2020, \"extreme\": \"max\", \"value\": 164.9261932373047, \"period\": \"history\", \"model_var\": \"observed\"}, {\"boxid\": \"VRY.CHOPS-1\", \"date\": \"2020-08-17T00:00:00\", \"l\": \"sumli\", \"processed_on\": \"2021-10-07T07:03:50.602000+00:00\", \"week\": 34, \"year\": 2020, \"extreme\": \"max\", \"value\": 147.81199645996094, \"period\": \"history\", \"model_var\": \"observed\"}, {\"boxid\": \"VRY.CHOPS-1\", \"date\": \"2020-08-24T00:00:00\", \"l\": \"sumli\", \"processed_on\": \"2021-10-07T07:03:50.602000+00:00\", \"week\": 35, \"year\": 2020, \"extreme\": \"max\", \"value\": 144.57569885253906, \"period\": \"history\", \"model_var\": \"observed\"}, {\"boxid\": \"VRY.CHOPS-1\", \"date\": \"2020-08-31T00:00:00\", \"l\": \"sumli\", \"processed_on\": \"2021-10-07T07:03:50.602000+00:00\", \"week\": 36, \"year\": 2020, \"extreme\": \"max\", \"value\": 145.29989624023438, \"period\": \"history\", \"model_var\": \"observed\"}, {\"boxid\": \"VRY.CHOPS-1\", \"date\": \"2020-09-07T00:00:00\", \"l\": \"sumli\", \"processed_on\": \"2021-10-07T07:03:50.602000+00:00\", \"week\": 37, \"year\": 2020, \"extreme\": \"max\", \"value\": 137.89109802246094, \"period\": \"history\", \"model_var\": \"observed\"}, {\"boxid\": \"VRY.CHOPS-1\", \"date\": \"2020-09-14T00:00:00\", \"l\": \"sumli\", \"processed_on\": \"2021-10-07T07:03:50.602000+00:00\", \"week\": 38, \"year\": 2020, \"extreme\": \"max\", \"value\": 151.33360290527344, \"period\": \"history\", \"model_var\": \"observed\"}, {\"boxid\": \"VRY.CHOPS-1\", \"date\": \"2020-09-21T00:00:00\", \"l\": \"sumli\", \"processed_on\": \"2021-10-07T07:03:50.602000+00:00\", \"week\": 39, \"year\": 2020, \"extreme\": \"max\", \"value\": 156.60220336914062, \"period\": \"history\", \"model_var\": \"observed\"}, {\"boxid\": \"VRY.CHOPS-1\", \"date\": \"2020-09-28T00:00:00\", \"l\": \"sumli\", \"processed_on\": \"2021-10-07T07:03:50.602000+00:00\", \"week\": 40, \"year\": 2020, \"extreme\": \"max\", \"value\": 166.31640625, \"period\": \"history\", \"model_var\": \"observed\"}, {\"boxid\": \"VRY.CHOPS-1\", \"date\": \"2020-10-05T00:00:00\", \"l\": \"sumli\", \"processed_on\": \"2021-10-07T07:03:50.602000+00:00\", \"week\": 41, \"year\": 2020, \"extreme\": \"max\", \"value\": 172.81260681152344, \"period\": \"history\", \"model_var\": \"observed\"}, {\"boxid\": \"VRY.CHOPS-1\", \"date\": \"2020-10-12T00:00:00\", \"l\": \"sumli\", \"processed_on\": \"2021-10-07T07:03:50.602000+00:00\", \"week\": 42, \"year\": 2020, \"extreme\": \"max\", \"value\": 166.21279907226562, \"period\": \"history\", \"model_var\": \"observed\"}, {\"boxid\": \"VRY.CHOPS-1\", \"date\": \"2020-10-19T00:00:00\", \"l\": \"sumli\", \"processed_on\": \"2021-10-07T07:03:50.602000+00:00\", \"week\": 43, \"year\": 2020, \"extreme\": \"max\", \"value\": 189.45689392089844, \"period\": \"history\", \"model_var\": \"observed\"}, {\"boxid\": \"VRY.CHOPS-1\", \"date\": \"2020-10-26T00:00:00\", \"l\": \"sumli\", \"processed_on\": \"2021-10-07T07:03:50.602000+00:00\", \"week\": 44, \"year\": 2020, \"extreme\": \"max\", \"value\": 185.18170166015625, \"period\": \"history\", \"model_var\": \"observed\"}, {\"boxid\": \"VRY.CHOPS-1\", \"date\": \"2020-11-02T00:00:00\", \"l\": \"sumli\", \"processed_on\": \"2021-10-07T07:03:50.602000+00:00\", \"week\": 45, \"year\": 2020, \"extreme\": \"max\", \"value\": 209.97659301757812, \"period\": \"history\", \"model_var\": \"observed\"}, {\"boxid\": \"VRY.CHOPS-1\", \"date\": \"2020-11-09T00:00:00\", \"l\": \"sumli\", \"processed_on\": \"2021-10-07T07:03:50.602000+00:00\", \"week\": 46, \"year\": 2020, \"extreme\": \"max\", \"value\": 195.39390563964844, \"period\": \"history\", \"model_var\": \"observed\"}, {\"boxid\": \"VRY.CHOPS-1\", \"date\": \"2020-11-16T00:00:00\", \"l\": \"sumli\", \"processed_on\": \"2021-10-07T07:03:50.602000+00:00\", \"week\": 47, \"year\": 2020, \"extreme\": \"max\", \"value\": 189.7884979248047, \"period\": \"history\", \"model_var\": \"observed\"}, {\"boxid\": \"VRY.CHOPS-1\", \"date\": \"2020-11-23T00:00:00\", \"l\": \"sumli\", \"processed_on\": \"2021-10-07T07:03:50.602000+00:00\", \"week\": 48, \"year\": 2020, \"extreme\": \"max\", \"value\": 197.5791015625, \"period\": \"history\", \"model_var\": \"observed\"}, {\"boxid\": \"VRY.CHOPS-1\", \"date\": \"2020-11-30T00:00:00\", \"l\": \"sumli\", \"processed_on\": \"2021-10-07T07:03:50.602000+00:00\", \"week\": 49, \"year\": 2020, \"extreme\": \"max\", \"value\": 217.8491973876953, \"period\": \"history\", \"model_var\": \"observed\"}, {\"boxid\": \"VRY.CHOPS-1\", \"date\": \"2020-12-07T00:00:00\", \"l\": \"sumli\", \"processed_on\": \"2021-10-07T07:03:50.602000+00:00\", \"week\": 50, \"year\": 2020, \"extreme\": \"max\", \"value\": 202.82359313964844, \"period\": \"history\", \"model_var\": \"observed\"}, {\"boxid\": \"VRY.CHOPS-1\", \"date\": \"2020-12-14T00:00:00\", \"l\": \"sumli\", \"processed_on\": \"2021-10-07T07:03:50.602000+00:00\", \"week\": 51, \"year\": 2020, \"extreme\": \"max\", \"value\": 210.5554962158203, \"period\": \"history\", \"model_var\": \"observed\"}, {\"boxid\": \"VRY.CHOPS-1\", \"date\": \"2020-12-21T00:00:00\", \"l\": \"sumli\", \"processed_on\": \"2021-10-07T07:03:50.602000+00:00\", \"week\": 52, \"year\": 2020, \"extreme\": \"max\", \"value\": 215.4416046142578, \"period\": \"history\", \"model_var\": \"observed\"}, {\"boxid\": \"VRY.CHOPS-1\", \"date\": \"2020-12-28T00:00:00\", \"l\": \"sumli\", \"processed_on\": \"2021-10-07T07:03:50.602000+00:00\", \"week\": 53, \"year\": 2020, \"extreme\": \"max\", \"value\": 207.5970001220703, \"period\": \"history\", \"model_var\": \"observed\"}, {\"boxid\": \"VRY.CHOPS-1\", \"date\": \"2021-01-04T00:00:00\", \"l\": \"sumli\", \"processed_on\": \"2021-10-07T07:03:50.602000+00:00\", \"week\": 1, \"year\": 2021, \"extreme\": \"max\", \"value\": 211.67979431152344, \"period\": \"history\", \"model_var\": \"observed\"}, {\"boxid\": \"VRY.CHOPS-1\", \"date\": \"2021-01-11T00:00:00\", \"l\": \"sumli\", \"processed_on\": \"2021-10-07T07:03:50.602000+00:00\", \"week\": 2, \"year\": 2021, \"extreme\": \"max\", \"value\": 216.85330200195312, \"period\": \"history\", \"model_var\": \"observed\"}, {\"boxid\": \"VRY.CHOPS-1\", \"date\": \"2021-01-18T00:00:00\", \"l\": \"sumli\", \"processed_on\": \"2021-10-07T07:03:50.602000+00:00\", \"week\": 3, \"year\": 2021, \"extreme\": \"max\", \"value\": 212.19540405273438, \"period\": \"history\", \"model_var\": \"observed\"}, {\"boxid\": \"VRY.CHOPS-1\", \"date\": \"2021-01-25T00:00:00\", \"l\": \"sumli\", \"processed_on\": \"2021-10-07T07:03:50.602000+00:00\", \"week\": 4, \"year\": 2021, \"extreme\": \"max\", \"value\": 211.64010620117188, \"period\": \"history\", \"model_var\": \"observed\"}, {\"boxid\": \"VRY.CHOPS-1\", \"date\": \"2021-02-01T00:00:00\", \"l\": \"sumli\", \"processed_on\": \"2021-10-07T07:03:50.602000+00:00\", \"week\": 5, \"year\": 2021, \"extreme\": \"max\", \"value\": 203.52200317382812, \"period\": \"history\", \"model_var\": \"observed\"}, {\"boxid\": \"VRY.CHOPS-1\", \"date\": \"2021-02-08T00:00:00\", \"l\": \"sumli\", \"processed_on\": \"2021-10-07T07:03:50.602000+00:00\", \"week\": 6, \"year\": 2021, \"extreme\": \"max\", \"value\": 192.9940948486328, \"period\": \"history\", \"model_var\": \"observed\"}, {\"boxid\": \"VRY.CHOPS-1\", \"date\": \"2021-02-15T00:00:00\", \"l\": \"sumli\", \"processed_on\": \"2021-10-07T07:03:50.602000+00:00\", \"week\": 7, \"year\": 2021, \"extreme\": \"max\", \"value\": 193.20880126953125, \"period\": \"history\", \"model_var\": \"observed\"}, {\"boxid\": \"VRY.CHOPS-1\", \"date\": \"2021-02-22T00:00:00\", \"l\": \"sumli\", \"processed_on\": \"2021-10-07T07:03:50.602000+00:00\", \"week\": 8, \"year\": 2021, \"extreme\": \"max\", \"value\": 177.26719665527344, \"period\": \"history\", \"model_var\": \"observed\"}, {\"boxid\": \"VRY.CHOPS-1\", \"date\": \"2021-03-01T00:00:00\", \"l\": \"sumli\", \"processed_on\": \"2021-10-07T07:03:50.602000+00:00\", \"week\": 9, \"year\": 2021, \"extreme\": \"max\", \"value\": 198.76390075683594, \"period\": \"history\", \"model_var\": \"observed\"}, {\"boxid\": \"VRY.CHOPS-1\", \"date\": \"2021-03-08T00:00:00\", \"l\": \"sumli\", \"processed_on\": \"2021-10-07T07:03:50.602000+00:00\", \"week\": 10, \"year\": 2021, \"extreme\": \"max\", \"value\": 179.54820251464844, \"period\": \"history\", \"model_var\": \"observed\"}, {\"boxid\": \"VRY.CHOPS-1\", \"date\": \"2021-03-15T00:00:00\", \"l\": \"sumli\", \"processed_on\": \"2021-10-07T07:03:50.602000+00:00\", \"week\": 11, \"year\": 2021, \"extreme\": \"max\", \"value\": 181.14190673828125, \"period\": \"history\", \"model_var\": \"observed\"}, {\"boxid\": \"VRY.CHOPS-1\", \"date\": \"2021-03-22T00:00:00\", \"l\": \"sumli\", \"processed_on\": \"2021-10-07T07:03:50.602000+00:00\", \"week\": 12, \"year\": 2021, \"extreme\": \"max\", \"value\": 172.77740478515625, \"period\": \"history\", \"model_var\": \"observed\"}, {\"boxid\": \"VRY.CHOPS-1\", \"date\": \"2021-03-29T00:00:00\", \"l\": \"sumli\", \"processed_on\": \"2021-10-07T07:03:50.602000+00:00\", \"week\": 13, \"year\": 2021, \"extreme\": \"max\", \"value\": 157.3625030517578, \"period\": \"history\", \"model_var\": \"observed\"}, {\"boxid\": \"VRY.CHOPS-1\", \"date\": \"2021-04-05T00:00:00\", \"l\": \"sumli\", \"processed_on\": \"2021-10-07T07:03:50.602000+00:00\", \"week\": 14, \"year\": 2021, \"extreme\": \"max\", \"value\": 165.2736053466797, \"period\": \"history\", \"model_var\": \"observed\"}, {\"boxid\": \"VRY.CHOPS-1\", \"date\": \"2021-04-26T00:00:00\", \"l\": \"sumli\", \"processed_on\": \"2021-10-07T07:03:50.602000+00:00\", \"week\": 17, \"year\": 2021, \"extreme\": \"max\", \"value\": 173.70579528808594, \"period\": \"history\", \"model_var\": \"observed\"}, {\"boxid\": \"VRY.CHOPS-1\", \"date\": \"2021-05-03T00:00:00\", \"l\": \"sumli\", \"processed_on\": \"2021-10-07T07:03:50.602000+00:00\", \"week\": 18, \"year\": 2021, \"extreme\": \"max\", \"value\": 191.2404022216797, \"period\": \"history\", \"model_var\": \"observed\"}, {\"boxid\": \"VRY.CHOPS-1\", \"date\": \"2021-05-10T00:00:00\", \"l\": \"sumli\", \"processed_on\": \"2021-10-07T07:03:50.602000+00:00\", \"week\": 19, \"year\": 2021, \"extreme\": \"max\", \"value\": 177.57069396972656, \"period\": \"history\", \"model_var\": \"observed\"}, {\"boxid\": \"VRY.CHOPS-1\", \"date\": \"2021-05-17T00:00:00\", \"l\": \"sumli\", \"processed_on\": \"2021-10-07T07:03:50.602000+00:00\", \"week\": 20, \"year\": 2021, \"extreme\": \"max\", \"value\": 144.6573944091797, \"period\": \"history\", \"model_var\": \"observed\"}, {\"boxid\": \"VRY.CHOPS-1\", \"date\": \"2021-05-24T00:00:00\", \"l\": \"sumli\", \"processed_on\": \"2021-10-07T07:03:50.602000+00:00\", \"week\": 21, \"year\": 2021, \"extreme\": \"max\", \"value\": 144.59230041503906, \"period\": \"history\", \"model_var\": \"observed\"}, {\"boxid\": \"VRY.CHOPS-1\", \"date\": \"2021-05-31T00:00:00\", \"l\": \"sumli\", \"processed_on\": \"2021-10-07T07:03:50.602000+00:00\", \"week\": 22, \"year\": 2021, \"extreme\": \"max\", \"value\": 138.33250427246094, \"period\": \"history\", \"model_var\": \"observed\"}, {\"boxid\": \"VRY.CHOPS-1\", \"date\": \"2021-06-07T00:00:00\", \"l\": \"sumli\", \"processed_on\": \"2021-10-07T07:03:50.602000+00:00\", \"week\": 23, \"year\": 2021, \"extreme\": \"max\", \"value\": 134.05299377441406, \"period\": \"history\", \"model_var\": \"observed\"}, {\"boxid\": \"VRY.CHOPS-1\", \"date\": \"2021-06-14T00:00:00\", \"l\": \"sumli\", \"processed_on\": \"2021-10-07T07:03:50.602000+00:00\", \"week\": 24, \"year\": 2021, \"extreme\": \"max\", \"value\": 151.3572998046875, \"period\": \"history\", \"model_var\": \"observed\"}, {\"boxid\": \"VRY.CHOPS-1\", \"date\": \"2021-06-21T00:00:00\", \"l\": \"sumli\", \"processed_on\": \"2021-10-07T07:03:50.602000+00:00\", \"week\": 25, \"year\": 2021, \"extreme\": \"max\", \"value\": 139.3990936279297, \"period\": \"history\", \"model_var\": \"observed\"}, {\"boxid\": \"VRY.CHOPS-1\", \"date\": \"2021-06-28T00:00:00\", \"l\": \"sumli\", \"processed_on\": \"2021-10-07T07:03:50.602000+00:00\", \"week\": 26, \"year\": 2021, \"extreme\": \"max\", \"value\": 130.74249267578125, \"period\": \"history\", \"model_var\": \"observed\"}, {\"boxid\": \"VRY.CHOPS-1\", \"date\": \"2021-07-05T00:00:00\", \"l\": \"sumli\", \"processed_on\": \"2021-10-07T07:03:50.602000+00:00\", \"week\": 27, \"year\": 2021, \"extreme\": \"max\", \"value\": 124.46089935302734, \"period\": \"history\", \"model_var\": \"observed\"}, {\"boxid\": \"VRY.CHOPS-1\", \"date\": \"2021-07-12T00:00:00\", \"l\": \"sumli\", \"processed_on\": \"2021-10-07T07:03:50.602000+00:00\", \"week\": 28, \"year\": 2021, \"extreme\": \"max\", \"value\": 131.42359924316406, \"period\": \"history\", \"model_var\": \"observed\"}, {\"boxid\": \"VRY.CHOPS-1\", \"date\": \"2021-07-19T00:00:00\", \"l\": \"sumli\", \"processed_on\": \"2021-10-07T07:03:50.602000+00:00\", \"week\": 29, \"year\": 2021, \"extreme\": \"max\", \"value\": 139.82470703125, \"period\": \"history\", \"model_var\": \"observed\"}, {\"boxid\": \"VRY.CHOPS-1\", \"date\": \"2021-07-26T00:00:00\", \"l\": \"sumli\", \"processed_on\": \"2021-10-07T07:03:50.602000+00:00\", \"week\": 30, \"year\": 2021, \"extreme\": \"max\", \"value\": 129.48109436035156, \"period\": \"history\", \"model_var\": \"observed\"}, {\"boxid\": \"VRY.CHOPS-1\", \"date\": \"2021-08-02T00:00:00\", \"l\": \"sumli\", \"processed_on\": \"2021-10-07T07:03:50.602000+00:00\", \"week\": 31, \"year\": 2021, \"extreme\": \"max\", \"value\": 131.04269409179688, \"period\": \"history\", \"model_var\": \"observed\"}, {\"boxid\": \"VRY.CHOPS-1\", \"date\": \"2021-08-09T00:00:00\", \"l\": \"sumli\", \"processed_on\": \"2021-10-07T07:03:50.602000+00:00\", \"week\": 32, \"year\": 2021, \"extreme\": \"max\", \"value\": 129.58059692382812, \"period\": \"history\", \"model_var\": \"observed\"}, {\"boxid\": \"VRY.CHOPS-1\", \"date\": \"2021-08-16T00:00:00\", \"l\": \"sumli\", \"processed_on\": \"2021-10-07T07:03:50.602000+00:00\", \"week\": 33, \"year\": 2021, \"extreme\": \"max\", \"value\": 133.2364044189453, \"period\": \"history\", \"model_var\": \"observed\"}, {\"boxid\": \"VRY.CHOPS-1\", \"date\": \"2021-08-23T00:00:00\", \"l\": \"sumli\", \"processed_on\": \"2021-10-07T07:03:50.602000+00:00\", \"week\": 34, \"year\": 2021, \"extreme\": \"max\", \"value\": 131.86070251464844, \"period\": \"history\", \"model_var\": \"observed\"}, {\"boxid\": \"VRY.CHOPS-1\", \"date\": \"2021-08-30T00:00:00\", \"l\": \"sumli\", \"processed_on\": \"2021-10-07T07:03:50.602000+00:00\", \"week\": 35, \"year\": 2021, \"extreme\": \"max\", \"value\": 141.00990295410156, \"period\": \"history\", \"model_var\": \"observed\"}, {\"boxid\": \"VRY.CHOPS-1\", \"date\": \"2021-09-06T00:00:00\", \"l\": \"sumli\", \"processed_on\": \"2021-10-07T07:03:50.602000+00:00\", \"week\": 36, \"year\": 2021, \"extreme\": \"max\", \"value\": 143.15310668945312, \"period\": \"history\", \"model_var\": \"observed\"}, {\"boxid\": \"VRY.CHOPS-1\", \"date\": \"2021-09-13T00:00:00\", \"l\": \"sumli\", \"processed_on\": \"2021-10-07T07:03:50.602000+00:00\", \"week\": 37, \"year\": 2021, \"extreme\": \"max\", \"value\": 135.79859924316406, \"period\": \"history\", \"model_var\": \"observed\"}, {\"boxid\": \"VRY.CHOPS-1\", \"date\": \"2021-09-20T00:00:00\", \"l\": \"sumli\", \"processed_on\": \"2021-10-07T07:03:50.602000+00:00\", \"week\": 38, \"year\": 2021, \"extreme\": \"max\", \"value\": 140.65029907226562, \"period\": \"history\", \"model_var\": \"observed\"}, {\"boxid\": \"VRY.CHOPS-1\", \"date\": \"2021-09-27T00:00:00\", \"l\": \"sumli\", \"processed_on\": \"2021-10-07T07:03:50.602000+00:00\", \"week\": 39, \"year\": 2021, \"extreme\": \"max\", \"value\": 151.85549926757812, \"period\": \"history\", \"model_var\": \"observed\"}, {\"boxid\": \"VRY.CHOPS-1\", \"date\": \"2018-09-03T00:00:00\", \"l\": \"sumli\", \"processed_on\": \"2021-10-07T07:03:50.602000+00:00\", \"week\": 36, \"year\": 2018, \"extreme\": \"min\", \"value\": -95.6187973022461, \"period\": \"history\", \"model_var\": \"observed\"}, {\"boxid\": \"VRY.CHOPS-1\", \"date\": \"2018-09-10T00:00:00\", \"l\": \"sumli\", \"processed_on\": \"2021-10-07T07:03:50.602000+00:00\", \"week\": 37, \"year\": 2018, \"extreme\": \"min\", \"value\": -89.7354736328125, \"period\": \"history\", \"model_var\": \"observed\"}, {\"boxid\": \"VRY.CHOPS-1\", \"date\": \"2018-09-17T00:00:00\", \"l\": \"sumli\", \"processed_on\": \"2021-10-07T07:03:50.602000+00:00\", \"week\": 38, \"year\": 2018, \"extreme\": \"min\", \"value\": -86.72164916992188, \"period\": \"history\", \"model_var\": \"observed\"}, {\"boxid\": \"VRY.CHOPS-1\", \"date\": \"2018-09-24T00:00:00\", \"l\": \"sumli\", \"processed_on\": \"2021-10-07T07:03:50.602000+00:00\", \"week\": 39, \"year\": 2018, \"extreme\": \"min\", \"value\": -123.39029693603516, \"period\": \"history\", \"model_var\": \"observed\"}, {\"boxid\": \"VRY.CHOPS-1\", \"date\": \"2018-10-01T00:00:00\", \"l\": \"sumli\", \"processed_on\": \"2021-10-07T07:03:50.602000+00:00\", \"week\": 40, \"year\": 2018, \"extreme\": \"min\", \"value\": -99.84300231933594, \"period\": \"history\", \"model_var\": \"observed\"}, {\"boxid\": \"VRY.CHOPS-1\", \"date\": \"2018-10-08T00:00:00\", \"l\": \"sumli\", \"processed_on\": \"2021-10-07T07:03:50.602000+00:00\", \"week\": 41, \"year\": 2018, \"extreme\": \"min\", \"value\": -86.68343353271484, \"period\": \"history\", \"model_var\": \"observed\"}, {\"boxid\": \"VRY.CHOPS-1\", \"date\": \"2018-10-15T00:00:00\", \"l\": \"sumli\", \"processed_on\": \"2021-10-07T07:03:50.602000+00:00\", \"week\": 42, \"year\": 2018, \"extreme\": \"min\", \"value\": -65.58483123779297, \"period\": \"history\", \"model_var\": \"observed\"}, {\"boxid\": \"VRY.CHOPS-1\", \"date\": \"2018-10-22T00:00:00\", \"l\": \"sumli\", \"processed_on\": \"2021-10-07T07:03:50.602000+00:00\", \"week\": 43, \"year\": 2018, \"extreme\": \"min\", \"value\": -83.57376098632812, \"period\": \"history\", \"model_var\": \"observed\"}, {\"boxid\": \"VRY.CHOPS-1\", \"date\": \"2018-10-29T00:00:00\", \"l\": \"sumli\", \"processed_on\": \"2021-10-07T07:03:50.602000+00:00\", \"week\": 44, \"year\": 2018, \"extreme\": \"min\", \"value\": -96.34081268310547, \"period\": \"history\", \"model_var\": \"observed\"}, {\"boxid\": \"VRY.CHOPS-1\", \"date\": \"2018-11-05T00:00:00\", \"l\": \"sumli\", \"processed_on\": \"2021-10-07T07:03:50.602000+00:00\", \"week\": 45, \"year\": 2018, \"extreme\": \"min\", \"value\": -82.46375274658203, \"period\": \"history\", \"model_var\": \"observed\"}, {\"boxid\": \"VRY.CHOPS-1\", \"date\": \"2018-11-12T00:00:00\", \"l\": \"sumli\", \"processed_on\": \"2021-10-07T07:03:50.602000+00:00\", \"week\": 46, \"year\": 2018, \"extreme\": \"min\", \"value\": -65.52259063720703, \"period\": \"history\", \"model_var\": \"observed\"}, {\"boxid\": \"VRY.CHOPS-1\", \"date\": \"2018-11-19T00:00:00\", \"l\": \"sumli\", \"processed_on\": \"2021-10-07T07:03:50.602000+00:00\", \"week\": 47, \"year\": 2018, \"extreme\": \"min\", \"value\": -44.45967102050781, \"period\": \"history\", \"model_var\": \"observed\"}, {\"boxid\": \"VRY.CHOPS-1\", \"date\": \"2018-11-26T00:00:00\", \"l\": \"sumli\", \"processed_on\": \"2021-10-07T07:03:50.602000+00:00\", \"week\": 48, \"year\": 2018, \"extreme\": \"min\", \"value\": -24.0137996673584, \"period\": \"history\", \"model_var\": \"observed\"}, {\"boxid\": \"VRY.CHOPS-1\", \"date\": \"2018-12-03T00:00:00\", \"l\": \"sumli\", \"processed_on\": \"2021-10-07T07:03:50.602000+00:00\", \"week\": 49, \"year\": 2018, \"extreme\": \"min\", \"value\": -38.64179992675781, \"period\": \"history\", \"model_var\": \"observed\"}, {\"boxid\": \"VRY.CHOPS-1\", \"date\": \"2018-12-10T00:00:00\", \"l\": \"sumli\", \"processed_on\": \"2021-10-07T07:03:50.602000+00:00\", \"week\": 50, \"year\": 2018, \"extreme\": \"min\", \"value\": -40.1043815612793, \"period\": \"history\", \"model_var\": \"observed\"}, {\"boxid\": \"VRY.CHOPS-1\", \"date\": \"2018-12-17T00:00:00\", \"l\": \"sumli\", \"processed_on\": \"2021-10-07T07:03:50.602000+00:00\", \"week\": 51, \"year\": 2018, \"extreme\": \"min\", \"value\": -27.809629440307617, \"period\": \"history\", \"model_var\": \"observed\"}, {\"boxid\": \"VRY.CHOPS-1\", \"date\": \"2018-12-24T00:00:00\", \"l\": \"sumli\", \"processed_on\": \"2021-10-07T07:03:50.602000+00:00\", \"week\": 52, \"year\": 2018, \"extreme\": \"min\", \"value\": -23.238340377807617, \"period\": \"history\", \"model_var\": \"observed\"}, {\"boxid\": \"VRY.CHOPS-1\", \"date\": \"2018-12-31T00:00:00\", \"l\": \"sumli\", \"processed_on\": \"2021-10-07T07:03:50.602000+00:00\", \"week\": 1, \"year\": 2019, \"extreme\": \"min\", \"value\": -4.617991924285889, \"period\": \"history\", \"model_var\": \"observed\"}, {\"boxid\": \"VRY.CHOPS-1\", \"date\": \"2019-01-07T00:00:00\", \"l\": \"sumli\", \"processed_on\": \"2021-10-07T07:03:50.602000+00:00\", \"week\": 2, \"year\": 2019, \"extreme\": \"min\", \"value\": -38.59136962890625, \"period\": \"history\", \"model_var\": \"observed\"}, {\"boxid\": \"VRY.CHOPS-1\", \"date\": \"2019-01-14T00:00:00\", \"l\": \"sumli\", \"processed_on\": \"2021-10-07T07:03:50.602000+00:00\", \"week\": 3, \"year\": 2019, \"extreme\": \"min\", \"value\": -66.24540710449219, \"period\": \"history\", \"model_var\": \"observed\"}, {\"boxid\": \"VRY.CHOPS-1\", \"date\": \"2019-01-21T00:00:00\", \"l\": \"sumli\", \"processed_on\": \"2021-10-07T07:03:50.602000+00:00\", \"week\": 4, \"year\": 2019, \"extreme\": \"min\", \"value\": -69.1795425415039, \"period\": \"history\", \"model_var\": \"observed\"}, {\"boxid\": \"VRY.CHOPS-1\", \"date\": \"2019-01-28T00:00:00\", \"l\": \"sumli\", \"processed_on\": \"2021-10-07T07:03:50.602000+00:00\", \"week\": 5, \"year\": 2019, \"extreme\": \"min\", \"value\": -80.21205139160156, \"period\": \"history\", \"model_var\": \"observed\"}, {\"boxid\": \"VRY.CHOPS-1\", \"date\": \"2019-02-04T00:00:00\", \"l\": \"sumli\", \"processed_on\": \"2021-10-07T07:03:50.602000+00:00\", \"week\": 6, \"year\": 2019, \"extreme\": \"min\", \"value\": -92.18177795410156, \"period\": \"history\", \"model_var\": \"observed\"}, {\"boxid\": \"VRY.CHOPS-1\", \"date\": \"2019-02-11T00:00:00\", \"l\": \"sumli\", \"processed_on\": \"2021-10-07T07:03:50.602000+00:00\", \"week\": 7, \"year\": 2019, \"extreme\": \"min\", \"value\": -144.87339782714844, \"period\": \"history\", \"model_var\": \"observed\"}, {\"boxid\": \"VRY.CHOPS-1\", \"date\": \"2019-02-18T00:00:00\", \"l\": \"sumli\", \"processed_on\": \"2021-10-07T07:03:50.602000+00:00\", \"week\": 8, \"year\": 2019, \"extreme\": \"min\", \"value\": -155.14039611816406, \"period\": \"history\", \"model_var\": \"observed\"}, {\"boxid\": \"VRY.CHOPS-1\", \"date\": \"2019-02-25T00:00:00\", \"l\": \"sumli\", \"processed_on\": \"2021-10-07T07:03:50.602000+00:00\", \"week\": 9, \"year\": 2019, \"extreme\": \"min\", \"value\": -179.12950134277344, \"period\": \"history\", \"model_var\": \"observed\"}, {\"boxid\": \"VRY.CHOPS-1\", \"date\": \"2019-03-04T00:00:00\", \"l\": \"sumli\", \"processed_on\": \"2021-10-07T07:03:50.602000+00:00\", \"week\": 10, \"year\": 2019, \"extreme\": \"min\", \"value\": -207.28109741210938, \"period\": \"history\", \"model_var\": \"observed\"}, {\"boxid\": \"VRY.CHOPS-1\", \"date\": \"2019-03-11T00:00:00\", \"l\": \"sumli\", \"processed_on\": \"2021-10-07T07:03:50.602000+00:00\", \"week\": 11, \"year\": 2019, \"extreme\": \"min\", \"value\": -193.0413055419922, \"period\": \"history\", \"model_var\": \"observed\"}, {\"boxid\": \"VRY.CHOPS-1\", \"date\": \"2019-03-18T00:00:00\", \"l\": \"sumli\", \"processed_on\": \"2021-10-07T07:03:50.602000+00:00\", \"week\": 12, \"year\": 2019, \"extreme\": \"min\", \"value\": -218.97000122070312, \"period\": \"history\", \"model_var\": \"observed\"}, {\"boxid\": \"VRY.CHOPS-1\", \"date\": \"2019-03-25T00:00:00\", \"l\": \"sumli\", \"processed_on\": \"2021-10-07T07:03:50.602000+00:00\", \"week\": 13, \"year\": 2019, \"extreme\": \"min\", \"value\": -233.82850646972656, \"period\": \"history\", \"model_var\": \"observed\"}, {\"boxid\": \"VRY.CHOPS-1\", \"date\": \"2019-04-01T00:00:00\", \"l\": \"sumli\", \"processed_on\": \"2021-10-07T07:03:50.602000+00:00\", \"week\": 14, \"year\": 2019, \"extreme\": \"min\", \"value\": -232.8538055419922, \"period\": \"history\", \"model_var\": \"observed\"}, {\"boxid\": \"VRY.CHOPS-1\", \"date\": \"2019-04-08T00:00:00\", \"l\": \"sumli\", \"processed_on\": \"2021-10-07T07:03:50.602000+00:00\", \"week\": 15, \"year\": 2019, \"extreme\": \"min\", \"value\": -250.05580139160156, \"period\": \"history\", \"model_var\": \"observed\"}, {\"boxid\": \"VRY.CHOPS-1\", \"date\": \"2019-04-15T00:00:00\", \"l\": \"sumli\", \"processed_on\": \"2021-10-07T07:03:50.602000+00:00\", \"week\": 16, \"year\": 2019, \"extreme\": \"min\", \"value\": -235.5312957763672, \"period\": \"history\", \"model_var\": \"observed\"}, {\"boxid\": \"VRY.CHOPS-1\", \"date\": \"2019-04-22T00:00:00\", \"l\": \"sumli\", \"processed_on\": \"2021-10-07T07:03:50.602000+00:00\", \"week\": 17, \"year\": 2019, \"extreme\": \"min\", \"value\": -230.4364013671875, \"period\": \"history\", \"model_var\": \"observed\"}, {\"boxid\": \"VRY.CHOPS-1\", \"date\": \"2019-04-29T00:00:00\", \"l\": \"sumli\", \"processed_on\": \"2021-10-07T07:03:50.602000+00:00\", \"week\": 18, \"year\": 2019, \"extreme\": \"min\", \"value\": -244.9683074951172, \"period\": \"history\", \"model_var\": \"observed\"}, {\"boxid\": \"VRY.CHOPS-1\", \"date\": \"2019-05-06T00:00:00\", \"l\": \"sumli\", \"processed_on\": \"2021-10-07T07:03:50.602000+00:00\", \"week\": 19, \"year\": 2019, \"extreme\": \"min\", \"value\": -242.42970275878906, \"period\": \"history\", \"model_var\": \"observed\"}, {\"boxid\": \"VRY.CHOPS-1\", \"date\": \"2019-05-13T00:00:00\", \"l\": \"sumli\", \"processed_on\": \"2021-10-07T07:03:50.602000+00:00\", \"week\": 20, \"year\": 2019, \"extreme\": \"min\", \"value\": -272.05450439453125, \"period\": \"history\", \"model_var\": \"observed\"}, {\"boxid\": \"VRY.CHOPS-1\", \"date\": \"2019-05-20T00:00:00\", \"l\": \"sumli\", \"processed_on\": \"2021-10-07T07:03:50.602000+00:00\", \"week\": 21, \"year\": 2019, \"extreme\": \"min\", \"value\": -247.7382049560547, \"period\": \"history\", \"model_var\": \"observed\"}, {\"boxid\": \"VRY.CHOPS-1\", \"date\": \"2019-05-27T00:00:00\", \"l\": \"sumli\", \"processed_on\": \"2021-10-07T07:03:50.602000+00:00\", \"week\": 22, \"year\": 2019, \"extreme\": \"min\", \"value\": -270.680908203125, \"period\": \"history\", \"model_var\": \"observed\"}, {\"boxid\": \"VRY.CHOPS-1\", \"date\": \"2019-06-03T00:00:00\", \"l\": \"sumli\", \"processed_on\": \"2021-10-07T07:03:50.602000+00:00\", \"week\": 23, \"year\": 2019, \"extreme\": \"min\", \"value\": -249.75180053710938, \"period\": \"history\", \"model_var\": \"observed\"}, {\"boxid\": \"VRY.CHOPS-1\", \"date\": \"2019-06-10T00:00:00\", \"l\": \"sumli\", \"processed_on\": \"2021-10-07T07:03:50.602000+00:00\", \"week\": 24, \"year\": 2019, \"extreme\": \"min\", \"value\": -253.5059051513672, \"period\": \"history\", \"model_var\": \"observed\"}, {\"boxid\": \"VRY.CHOPS-1\", \"date\": \"2019-06-17T00:00:00\", \"l\": \"sumli\", \"processed_on\": \"2021-10-07T07:03:50.602000+00:00\", \"week\": 25, \"year\": 2019, \"extreme\": \"min\", \"value\": -271.41229248046875, \"period\": \"history\", \"model_var\": \"observed\"}, {\"boxid\": \"VRY.CHOPS-1\", \"date\": \"2019-06-24T00:00:00\", \"l\": \"sumli\", \"processed_on\": \"2021-10-07T07:03:50.602000+00:00\", \"week\": 26, \"year\": 2019, \"extreme\": \"min\", \"value\": -238.99180603027344, \"period\": \"history\", \"model_var\": \"observed\"}, {\"boxid\": \"VRY.CHOPS-1\", \"date\": \"2019-07-01T00:00:00\", \"l\": \"sumli\", \"processed_on\": \"2021-10-07T07:03:50.602000+00:00\", \"week\": 27, \"year\": 2019, \"extreme\": \"min\", \"value\": -260.8042907714844, \"period\": \"history\", \"model_var\": \"observed\"}, {\"boxid\": \"VRY.CHOPS-1\", \"date\": \"2019-07-08T00:00:00\", \"l\": \"sumli\", \"processed_on\": \"2021-10-07T07:03:50.602000+00:00\", \"week\": 28, \"year\": 2019, \"extreme\": \"min\", \"value\": -261.4479064941406, \"period\": \"history\", \"model_var\": \"observed\"}, {\"boxid\": \"VRY.CHOPS-1\", \"date\": \"2019-07-15T00:00:00\", \"l\": \"sumli\", \"processed_on\": \"2021-10-07T07:03:50.602000+00:00\", \"week\": 29, \"year\": 2019, \"extreme\": \"min\", \"value\": -248.14599609375, \"period\": \"history\", \"model_var\": \"observed\"}, {\"boxid\": \"VRY.CHOPS-1\", \"date\": \"2019-07-22T00:00:00\", \"l\": \"sumli\", \"processed_on\": \"2021-10-07T07:03:50.602000+00:00\", \"week\": 30, \"year\": 2019, \"extreme\": \"min\", \"value\": -238.8000030517578, \"period\": \"history\", \"model_var\": \"observed\"}, {\"boxid\": \"VRY.CHOPS-1\", \"date\": \"2019-07-29T00:00:00\", \"l\": \"sumli\", \"processed_on\": \"2021-10-07T07:03:50.602000+00:00\", \"week\": 31, \"year\": 2019, \"extreme\": \"min\", \"value\": -255.64230346679688, \"period\": \"history\", \"model_var\": \"observed\"}, {\"boxid\": \"VRY.CHOPS-1\", \"date\": \"2019-08-05T00:00:00\", \"l\": \"sumli\", \"processed_on\": \"2021-10-07T07:03:50.602000+00:00\", \"week\": 32, \"year\": 2019, \"extreme\": \"min\", \"value\": -241.77310180664062, \"period\": \"history\", \"model_var\": \"observed\"}, {\"boxid\": \"VRY.CHOPS-1\", \"date\": \"2019-08-12T00:00:00\", \"l\": \"sumli\", \"processed_on\": \"2021-10-07T07:03:50.602000+00:00\", \"week\": 33, \"year\": 2019, \"extreme\": \"min\", \"value\": -258.751708984375, \"period\": \"history\", \"model_var\": \"observed\"}, {\"boxid\": \"VRY.CHOPS-1\", \"date\": \"2019-08-19T00:00:00\", \"l\": \"sumli\", \"processed_on\": \"2021-10-07T07:03:50.602000+00:00\", \"week\": 34, \"year\": 2019, \"extreme\": \"min\", \"value\": -251.28500366210938, \"period\": \"history\", \"model_var\": \"observed\"}, {\"boxid\": \"VRY.CHOPS-1\", \"date\": \"2019-08-26T00:00:00\", \"l\": \"sumli\", \"processed_on\": \"2021-10-07T07:03:50.602000+00:00\", \"week\": 35, \"year\": 2019, \"extreme\": \"min\", \"value\": -220.0518035888672, \"period\": \"history\", \"model_var\": \"observed\"}, {\"boxid\": \"VRY.CHOPS-1\", \"date\": \"2019-09-02T00:00:00\", \"l\": \"sumli\", \"processed_on\": \"2021-10-07T07:03:50.602000+00:00\", \"week\": 36, \"year\": 2019, \"extreme\": \"min\", \"value\": -250.53880310058594, \"period\": \"history\", \"model_var\": \"observed\"}, {\"boxid\": \"VRY.CHOPS-1\", \"date\": \"2019-09-09T00:00:00\", \"l\": \"sumli\", \"processed_on\": \"2021-10-07T07:03:50.602000+00:00\", \"week\": 37, \"year\": 2019, \"extreme\": \"min\", \"value\": -224.0081024169922, \"period\": \"history\", \"model_var\": \"observed\"}, {\"boxid\": \"VRY.CHOPS-1\", \"date\": \"2019-09-16T00:00:00\", \"l\": \"sumli\", \"processed_on\": \"2021-10-07T07:03:50.602000+00:00\", \"week\": 38, \"year\": 2019, \"extreme\": \"min\", \"value\": -233.1053924560547, \"period\": \"history\", \"model_var\": \"observed\"}, {\"boxid\": \"VRY.CHOPS-1\", \"date\": \"2019-09-23T00:00:00\", \"l\": \"sumli\", \"processed_on\": \"2021-10-07T07:03:50.602000+00:00\", \"week\": 39, \"year\": 2019, \"extreme\": \"min\", \"value\": -193.66729736328125, \"period\": \"history\", \"model_var\": \"observed\"}, {\"boxid\": \"VRY.CHOPS-1\", \"date\": \"2019-09-30T00:00:00\", \"l\": \"sumli\", \"processed_on\": \"2021-10-07T07:03:50.602000+00:00\", \"week\": 40, \"year\": 2019, \"extreme\": \"min\", \"value\": -222.54620361328125, \"period\": \"history\", \"model_var\": \"observed\"}, {\"boxid\": \"VRY.CHOPS-1\", \"date\": \"2019-10-07T00:00:00\", \"l\": \"sumli\", \"processed_on\": \"2021-10-07T07:03:50.602000+00:00\", \"week\": 41, \"year\": 2019, \"extreme\": \"min\", \"value\": -178.02870178222656, \"period\": \"history\", \"model_var\": \"observed\"}, {\"boxid\": \"VRY.CHOPS-1\", \"date\": \"2019-10-14T00:00:00\", \"l\": \"sumli\", \"processed_on\": \"2021-10-07T07:03:50.602000+00:00\", \"week\": 42, \"year\": 2019, \"extreme\": \"min\", \"value\": -155.56109619140625, \"period\": \"history\", \"model_var\": \"observed\"}, {\"boxid\": \"VRY.CHOPS-1\", \"date\": \"2019-10-21T00:00:00\", \"l\": \"sumli\", \"processed_on\": \"2021-10-07T07:03:50.602000+00:00\", \"week\": 43, \"year\": 2019, \"extreme\": \"min\", \"value\": -149.57440185546875, \"period\": \"history\", \"model_var\": \"observed\"}, {\"boxid\": \"VRY.CHOPS-1\", \"date\": \"2019-10-28T00:00:00\", \"l\": \"sumli\", \"processed_on\": \"2021-10-07T07:03:50.602000+00:00\", \"week\": 44, \"year\": 2019, \"extreme\": \"min\", \"value\": -169.24569702148438, \"period\": \"history\", \"model_var\": \"observed\"}, {\"boxid\": \"VRY.CHOPS-1\", \"date\": \"2019-11-04T00:00:00\", \"l\": \"sumli\", \"processed_on\": \"2021-10-07T07:03:50.602000+00:00\", \"week\": 45, \"year\": 2019, \"extreme\": \"min\", \"value\": -106.58190155029297, \"period\": \"history\", \"model_var\": \"observed\"}, {\"boxid\": \"VRY.CHOPS-1\", \"date\": \"2019-11-11T00:00:00\", \"l\": \"sumli\", \"processed_on\": \"2021-10-07T07:03:50.602000+00:00\", \"week\": 46, \"year\": 2019, \"extreme\": \"min\", \"value\": -79.8034896850586, \"period\": \"history\", \"model_var\": \"observed\"}, {\"boxid\": \"VRY.CHOPS-1\", \"date\": \"2019-11-18T00:00:00\", \"l\": \"sumli\", \"processed_on\": \"2021-10-07T07:03:50.602000+00:00\", \"week\": 47, \"year\": 2019, \"extreme\": \"min\", \"value\": -78.43234252929688, \"period\": \"history\", \"model_var\": \"observed\"}, {\"boxid\": \"VRY.CHOPS-1\", \"date\": \"2019-11-25T00:00:00\", \"l\": \"sumli\", \"processed_on\": \"2021-10-07T07:03:50.602000+00:00\", \"week\": 48, \"year\": 2019, \"extreme\": \"min\", \"value\": -67.8597412109375, \"period\": \"history\", \"model_var\": \"observed\"}, {\"boxid\": \"VRY.CHOPS-1\", \"date\": \"2019-12-02T00:00:00\", \"l\": \"sumli\", \"processed_on\": \"2021-10-07T07:03:50.602000+00:00\", \"week\": 49, \"year\": 2019, \"extreme\": \"min\", \"value\": -27.994300842285156, \"period\": \"history\", \"model_var\": \"observed\"}, {\"boxid\": \"VRY.CHOPS-1\", \"date\": \"2019-12-09T00:00:00\", \"l\": \"sumli\", \"processed_on\": \"2021-10-07T07:03:50.602000+00:00\", \"week\": 50, \"year\": 2019, \"extreme\": \"min\", \"value\": -42.72188949584961, \"period\": \"history\", \"model_var\": \"observed\"}, {\"boxid\": \"VRY.CHOPS-1\", \"date\": \"2019-12-16T00:00:00\", \"l\": \"sumli\", \"processed_on\": \"2021-10-07T07:03:50.602000+00:00\", \"week\": 51, \"year\": 2019, \"extreme\": \"min\", \"value\": -47.0396614074707, \"period\": \"history\", \"model_var\": \"observed\"}, {\"boxid\": \"VRY.CHOPS-1\", \"date\": \"2019-12-23T00:00:00\", \"l\": \"sumli\", \"processed_on\": \"2021-10-07T07:03:50.602000+00:00\", \"week\": 52, \"year\": 2019, \"extreme\": \"min\", \"value\": -5.902843952178955, \"period\": \"history\", \"model_var\": \"observed\"}, {\"boxid\": \"VRY.CHOPS-1\", \"date\": \"2019-12-30T00:00:00\", \"l\": \"sumli\", \"processed_on\": \"2021-10-07T07:03:50.602000+00:00\", \"week\": 1, \"year\": 2020, \"extreme\": \"min\", \"value\": -39.430030822753906, \"period\": \"history\", \"model_var\": \"observed\"}, {\"boxid\": \"VRY.CHOPS-1\", \"date\": \"2020-01-06T00:00:00\", \"l\": \"sumli\", \"processed_on\": \"2021-10-07T07:03:50.602000+00:00\", \"week\": 2, \"year\": 2020, \"extreme\": \"min\", \"value\": -57.79433059692383, \"period\": \"history\", \"model_var\": \"observed\"}, {\"boxid\": \"VRY.CHOPS-1\", \"date\": \"2020-01-13T00:00:00\", \"l\": \"sumli\", \"processed_on\": \"2021-10-07T07:03:50.602000+00:00\", \"week\": 3, \"year\": 2020, \"extreme\": \"min\", \"value\": -80.08448791503906, \"period\": \"history\", \"model_var\": \"observed\"}, {\"boxid\": \"VRY.CHOPS-1\", \"date\": \"2020-01-20T00:00:00\", \"l\": \"sumli\", \"processed_on\": \"2021-10-07T07:03:50.602000+00:00\", \"week\": 4, \"year\": 2020, \"extreme\": \"min\", \"value\": -44.601200103759766, \"period\": \"history\", \"model_var\": \"observed\"}, {\"boxid\": \"VRY.CHOPS-1\", \"date\": \"2020-01-27T00:00:00\", \"l\": \"sumli\", \"processed_on\": \"2021-10-07T07:03:50.602000+00:00\", \"week\": 5, \"year\": 2020, \"extreme\": \"min\", \"value\": -98.24642181396484, \"period\": \"history\", \"model_var\": \"observed\"}, {\"boxid\": \"VRY.CHOPS-1\", \"date\": \"2020-02-03T00:00:00\", \"l\": \"sumli\", \"processed_on\": \"2021-10-07T07:03:50.602000+00:00\", \"week\": 6, \"year\": 2020, \"extreme\": \"min\", \"value\": -120.72969818115234, \"period\": \"history\", \"model_var\": \"observed\"}, {\"boxid\": \"VRY.CHOPS-1\", \"date\": \"2020-02-10T00:00:00\", \"l\": \"sumli\", \"processed_on\": \"2021-10-07T07:03:50.602000+00:00\", \"week\": 7, \"year\": 2020, \"extreme\": \"min\", \"value\": -136.9864044189453, \"period\": \"history\", \"model_var\": \"observed\"}, {\"boxid\": \"VRY.CHOPS-1\", \"date\": \"2020-02-17T00:00:00\", \"l\": \"sumli\", \"processed_on\": \"2021-10-07T07:03:50.602000+00:00\", \"week\": 8, \"year\": 2020, \"extreme\": \"min\", \"value\": -156.53160095214844, \"period\": \"history\", \"model_var\": \"observed\"}, {\"boxid\": \"VRY.CHOPS-1\", \"date\": \"2020-02-24T00:00:00\", \"l\": \"sumli\", \"processed_on\": \"2021-10-07T07:03:50.602000+00:00\", \"week\": 9, \"year\": 2020, \"extreme\": \"min\", \"value\": -136.7530059814453, \"period\": \"history\", \"model_var\": \"observed\"}, {\"boxid\": \"VRY.CHOPS-1\", \"date\": \"2020-03-02T00:00:00\", \"l\": \"sumli\", \"processed_on\": \"2021-10-07T07:03:50.602000+00:00\", \"week\": 10, \"year\": 2020, \"extreme\": \"min\", \"value\": -204.06239318847656, \"period\": \"history\", \"model_var\": \"observed\"}, {\"boxid\": \"VRY.CHOPS-1\", \"date\": \"2020-03-09T00:00:00\", \"l\": \"sumli\", \"processed_on\": \"2021-10-07T07:03:50.602000+00:00\", \"week\": 11, \"year\": 2020, \"extreme\": \"min\", \"value\": -218.6544952392578, \"period\": \"history\", \"model_var\": \"observed\"}, {\"boxid\": \"VRY.CHOPS-1\", \"date\": \"2020-03-16T00:00:00\", \"l\": \"sumli\", \"processed_on\": \"2021-10-07T07:03:50.602000+00:00\", \"week\": 12, \"year\": 2020, \"extreme\": \"min\", \"value\": -222.33740234375, \"period\": \"history\", \"model_var\": \"observed\"}, {\"boxid\": \"VRY.CHOPS-1\", \"date\": \"2020-03-23T00:00:00\", \"l\": \"sumli\", \"processed_on\": \"2021-10-07T07:03:50.602000+00:00\", \"week\": 13, \"year\": 2020, \"extreme\": \"min\", \"value\": -226.1573944091797, \"period\": \"history\", \"model_var\": \"observed\"}, {\"boxid\": \"VRY.CHOPS-1\", \"date\": \"2020-03-30T00:00:00\", \"l\": \"sumli\", \"processed_on\": \"2021-10-07T07:03:50.602000+00:00\", \"week\": 14, \"year\": 2020, \"extreme\": \"min\", \"value\": -223.71249389648438, \"period\": \"history\", \"model_var\": \"observed\"}, {\"boxid\": \"VRY.CHOPS-1\", \"date\": \"2020-04-06T00:00:00\", \"l\": \"sumli\", \"processed_on\": \"2021-10-07T07:03:50.602000+00:00\", \"week\": 15, \"year\": 2020, \"extreme\": \"min\", \"value\": -240.51400756835938, \"period\": \"history\", \"model_var\": \"observed\"}, {\"boxid\": \"VRY.CHOPS-1\", \"date\": \"2020-04-13T00:00:00\", \"l\": \"sumli\", \"processed_on\": \"2021-10-07T07:03:50.602000+00:00\", \"week\": 16, \"year\": 2020, \"extreme\": \"min\", \"value\": -219.41360473632812, \"period\": \"history\", \"model_var\": \"observed\"}, {\"boxid\": \"VRY.CHOPS-1\", \"date\": \"2020-04-20T00:00:00\", \"l\": \"sumli\", \"processed_on\": \"2021-10-07T07:03:50.602000+00:00\", \"week\": 17, \"year\": 2020, \"extreme\": \"min\", \"value\": -236.50250244140625, \"period\": \"history\", \"model_var\": \"observed\"}, {\"boxid\": \"VRY.CHOPS-1\", \"date\": \"2020-04-27T00:00:00\", \"l\": \"sumli\", \"processed_on\": \"2021-10-07T07:03:50.602000+00:00\", \"week\": 18, \"year\": 2020, \"extreme\": \"min\", \"value\": -235.08680725097656, \"period\": \"history\", \"model_var\": \"observed\"}, {\"boxid\": \"VRY.CHOPS-1\", \"date\": \"2020-05-04T00:00:00\", \"l\": \"sumli\", \"processed_on\": \"2021-10-07T07:03:50.602000+00:00\", \"week\": 19, \"year\": 2020, \"extreme\": \"min\", \"value\": -246.8780059814453, \"period\": \"history\", \"model_var\": \"observed\"}, {\"boxid\": \"VRY.CHOPS-1\", \"date\": \"2020-05-11T00:00:00\", \"l\": \"sumli\", \"processed_on\": \"2021-10-07T07:03:50.602000+00:00\", \"week\": 20, \"year\": 2020, \"extreme\": \"min\", \"value\": -258.97119140625, \"period\": \"history\", \"model_var\": \"observed\"}, {\"boxid\": \"VRY.CHOPS-1\", \"date\": \"2020-05-18T00:00:00\", \"l\": \"sumli\", \"processed_on\": \"2021-10-07T07:03:50.602000+00:00\", \"week\": 21, \"year\": 2020, \"extreme\": \"min\", \"value\": -240.93299865722656, \"period\": \"history\", \"model_var\": \"observed\"}, {\"boxid\": \"VRY.CHOPS-1\", \"date\": \"2020-05-25T00:00:00\", \"l\": \"sumli\", \"processed_on\": \"2021-10-07T07:03:50.602000+00:00\", \"week\": 22, \"year\": 2020, \"extreme\": \"min\", \"value\": -253.40350341796875, \"period\": \"history\", \"model_var\": \"observed\"}, {\"boxid\": \"VRY.CHOPS-1\", \"date\": \"2020-06-01T00:00:00\", \"l\": \"sumli\", \"processed_on\": \"2021-10-07T07:03:50.602000+00:00\", \"week\": 23, \"year\": 2020, \"extreme\": \"min\", \"value\": -237.13369750976562, \"period\": \"history\", \"model_var\": \"observed\"}, {\"boxid\": \"VRY.CHOPS-1\", \"date\": \"2020-06-08T00:00:00\", \"l\": \"sumli\", \"processed_on\": \"2021-10-07T07:03:50.602000+00:00\", \"week\": 24, \"year\": 2020, \"extreme\": \"min\", \"value\": -241.43099975585938, \"period\": \"history\", \"model_var\": \"observed\"}, {\"boxid\": \"VRY.CHOPS-1\", \"date\": \"2020-06-15T00:00:00\", \"l\": \"sumli\", \"processed_on\": \"2021-10-07T07:03:50.602000+00:00\", \"week\": 25, \"year\": 2020, \"extreme\": \"min\", \"value\": -252.98049926757812, \"period\": \"history\", \"model_var\": \"observed\"}, {\"boxid\": \"VRY.CHOPS-1\", \"date\": \"2020-06-22T00:00:00\", \"l\": \"sumli\", \"processed_on\": \"2021-10-07T07:03:50.602000+00:00\", \"week\": 26, \"year\": 2020, \"extreme\": \"min\", \"value\": -269.0498962402344, \"period\": \"history\", \"model_var\": \"observed\"}, {\"boxid\": \"VRY.CHOPS-1\", \"date\": \"2020-06-29T00:00:00\", \"l\": \"sumli\", \"processed_on\": \"2021-10-07T07:03:50.602000+00:00\", \"week\": 27, \"year\": 2020, \"extreme\": \"min\", \"value\": -247.13519287109375, \"period\": \"history\", \"model_var\": \"observed\"}, {\"boxid\": \"VRY.CHOPS-1\", \"date\": \"2020-07-06T00:00:00\", \"l\": \"sumli\", \"processed_on\": \"2021-10-07T07:03:50.602000+00:00\", \"week\": 28, \"year\": 2020, \"extreme\": \"min\", \"value\": -248.3123016357422, \"period\": \"history\", \"model_var\": \"observed\"}, {\"boxid\": \"VRY.CHOPS-1\", \"date\": \"2020-07-13T00:00:00\", \"l\": \"sumli\", \"processed_on\": \"2021-10-07T07:03:50.602000+00:00\", \"week\": 29, \"year\": 2020, \"extreme\": \"min\", \"value\": -244.91900634765625, \"period\": \"history\", \"model_var\": \"observed\"}, {\"boxid\": \"VRY.CHOPS-1\", \"date\": \"2020-07-20T00:00:00\", \"l\": \"sumli\", \"processed_on\": \"2021-10-07T07:03:50.602000+00:00\", \"week\": 30, \"year\": 2020, \"extreme\": \"min\", \"value\": -273.6192932128906, \"period\": \"history\", \"model_var\": \"observed\"}, {\"boxid\": \"VRY.CHOPS-1\", \"date\": \"2020-07-27T00:00:00\", \"l\": \"sumli\", \"processed_on\": \"2021-10-07T07:03:50.602000+00:00\", \"week\": 31, \"year\": 2020, \"extreme\": \"min\", \"value\": -259.58050537109375, \"period\": \"history\", \"model_var\": \"observed\"}, {\"boxid\": \"VRY.CHOPS-1\", \"date\": \"2020-08-03T00:00:00\", \"l\": \"sumli\", \"processed_on\": \"2021-10-07T07:03:50.602000+00:00\", \"week\": 32, \"year\": 2020, \"extreme\": \"min\", \"value\": -241.152099609375, \"period\": \"history\", \"model_var\": \"observed\"}, {\"boxid\": \"VRY.CHOPS-1\", \"date\": \"2020-08-10T00:00:00\", \"l\": \"sumli\", \"processed_on\": \"2021-10-07T07:03:50.602000+00:00\", \"week\": 33, \"year\": 2020, \"extreme\": \"min\", \"value\": -188.4113006591797, \"period\": \"history\", \"model_var\": \"observed\"}, {\"boxid\": \"VRY.CHOPS-1\", \"date\": \"2020-08-17T00:00:00\", \"l\": \"sumli\", \"processed_on\": \"2021-10-07T07:03:50.602000+00:00\", \"week\": 34, \"year\": 2020, \"extreme\": \"min\", \"value\": -224.78329467773438, \"period\": \"history\", \"model_var\": \"observed\"}, {\"boxid\": \"VRY.CHOPS-1\", \"date\": \"2020-08-24T00:00:00\", \"l\": \"sumli\", \"processed_on\": \"2021-10-07T07:03:50.602000+00:00\", \"week\": 35, \"year\": 2020, \"extreme\": \"min\", \"value\": -218.0731964111328, \"period\": \"history\", \"model_var\": \"observed\"}, {\"boxid\": \"VRY.CHOPS-1\", \"date\": \"2020-08-31T00:00:00\", \"l\": \"sumli\", \"processed_on\": \"2021-10-07T07:03:50.602000+00:00\", \"week\": 36, \"year\": 2020, \"extreme\": \"min\", \"value\": -266.02740478515625, \"period\": \"history\", \"model_var\": \"observed\"}, {\"boxid\": \"VRY.CHOPS-1\", \"date\": \"2020-09-07T00:00:00\", \"l\": \"sumli\", \"processed_on\": \"2021-10-07T07:03:50.602000+00:00\", \"week\": 37, \"year\": 2020, \"extreme\": \"min\", \"value\": -236.53509521484375, \"period\": \"history\", \"model_var\": \"observed\"}, {\"boxid\": \"VRY.CHOPS-1\", \"date\": \"2020-09-14T00:00:00\", \"l\": \"sumli\", \"processed_on\": \"2021-10-07T07:03:50.602000+00:00\", \"week\": 38, \"year\": 2020, \"extreme\": \"min\", \"value\": -206.07969665527344, \"period\": \"history\", \"model_var\": \"observed\"}, {\"boxid\": \"VRY.CHOPS-1\", \"date\": \"2020-09-21T00:00:00\", \"l\": \"sumli\", \"processed_on\": \"2021-10-07T07:03:50.602000+00:00\", \"week\": 39, \"year\": 2020, \"extreme\": \"min\", \"value\": -207.91029357910156, \"period\": \"history\", \"model_var\": \"observed\"}, {\"boxid\": \"VRY.CHOPS-1\", \"date\": \"2020-09-28T00:00:00\", \"l\": \"sumli\", \"processed_on\": \"2021-10-07T07:03:50.602000+00:00\", \"week\": 40, \"year\": 2020, \"extreme\": \"min\", \"value\": -149.67990112304688, \"period\": \"history\", \"model_var\": \"observed\"}, {\"boxid\": \"VRY.CHOPS-1\", \"date\": \"2020-10-05T00:00:00\", \"l\": \"sumli\", \"processed_on\": \"2021-10-07T07:03:50.602000+00:00\", \"week\": 41, \"year\": 2020, \"extreme\": \"min\", \"value\": -152.12060546875, \"period\": \"history\", \"model_var\": \"observed\"}, {\"boxid\": \"VRY.CHOPS-1\", \"date\": \"2020-10-12T00:00:00\", \"l\": \"sumli\", \"processed_on\": \"2021-10-07T07:03:50.602000+00:00\", \"week\": 42, \"year\": 2020, \"extreme\": \"min\", \"value\": -117.84449768066406, \"period\": \"history\", \"model_var\": \"observed\"}, {\"boxid\": \"VRY.CHOPS-1\", \"date\": \"2020-10-19T00:00:00\", \"l\": \"sumli\", \"processed_on\": \"2021-10-07T07:03:50.602000+00:00\", \"week\": 43, \"year\": 2020, \"extreme\": \"min\", \"value\": -146.9123992919922, \"period\": \"history\", \"model_var\": \"observed\"}, {\"boxid\": \"VRY.CHOPS-1\", \"date\": \"2020-10-26T00:00:00\", \"l\": \"sumli\", \"processed_on\": \"2021-10-07T07:03:50.602000+00:00\", \"week\": 44, \"year\": 2020, \"extreme\": \"min\", \"value\": -128.55880737304688, \"period\": \"history\", \"model_var\": \"observed\"}, {\"boxid\": \"VRY.CHOPS-1\", \"date\": \"2020-11-02T00:00:00\", \"l\": \"sumli\", \"processed_on\": \"2021-10-07T07:03:50.602000+00:00\", \"week\": 45, \"year\": 2020, \"extreme\": \"min\", \"value\": -140.41189575195312, \"period\": \"history\", \"model_var\": \"observed\"}, {\"boxid\": \"VRY.CHOPS-1\", \"date\": \"2020-11-09T00:00:00\", \"l\": \"sumli\", \"processed_on\": \"2021-10-07T07:03:50.602000+00:00\", \"week\": 46, \"year\": 2020, \"extreme\": \"min\", \"value\": -92.36466217041016, \"period\": \"history\", \"model_var\": \"observed\"}, {\"boxid\": \"VRY.CHOPS-1\", \"date\": \"2020-11-16T00:00:00\", \"l\": \"sumli\", \"processed_on\": \"2021-10-07T07:03:50.602000+00:00\", \"week\": 47, \"year\": 2020, \"extreme\": \"min\", \"value\": -87.368408203125, \"period\": \"history\", \"model_var\": \"observed\"}, {\"boxid\": \"VRY.CHOPS-1\", \"date\": \"2020-11-23T00:00:00\", \"l\": \"sumli\", \"processed_on\": \"2021-10-07T07:03:50.602000+00:00\", \"week\": 48, \"year\": 2020, \"extreme\": \"min\", \"value\": -67.35222625732422, \"period\": \"history\", \"model_var\": \"observed\"}, {\"boxid\": \"VRY.CHOPS-1\", \"date\": \"2020-11-30T00:00:00\", \"l\": \"sumli\", \"processed_on\": \"2021-10-07T07:03:50.602000+00:00\", \"week\": 49, \"year\": 2020, \"extreme\": \"min\", \"value\": -27.446420669555664, \"period\": \"history\", \"model_var\": \"observed\"}, {\"boxid\": \"VRY.CHOPS-1\", \"date\": \"2020-12-07T00:00:00\", \"l\": \"sumli\", \"processed_on\": \"2021-10-07T07:03:50.602000+00:00\", \"week\": 50, \"year\": 2020, \"extreme\": \"min\", \"value\": -38.35089111328125, \"period\": \"history\", \"model_var\": \"observed\"}, {\"boxid\": \"VRY.CHOPS-1\", \"date\": \"2020-12-14T00:00:00\", \"l\": \"sumli\", \"processed_on\": \"2021-10-07T07:03:50.602000+00:00\", \"week\": 51, \"year\": 2020, \"extreme\": \"min\", \"value\": -24.114330291748047, \"period\": \"history\", \"model_var\": \"observed\"}, {\"boxid\": \"VRY.CHOPS-1\", \"date\": \"2020-12-21T00:00:00\", \"l\": \"sumli\", \"processed_on\": \"2021-10-07T07:03:50.602000+00:00\", \"week\": 52, \"year\": 2020, \"extreme\": \"min\", \"value\": -13.007490158081055, \"period\": \"history\", \"model_var\": \"observed\"}, {\"boxid\": \"VRY.CHOPS-1\", \"date\": \"2020-12-28T00:00:00\", \"l\": \"sumli\", \"processed_on\": \"2021-10-07T07:03:50.602000+00:00\", \"week\": 53, \"year\": 2020, \"extreme\": \"min\", \"value\": -71.67899322509766, \"period\": \"history\", \"model_var\": \"observed\"}, {\"boxid\": \"VRY.CHOPS-1\", \"date\": \"2021-01-04T00:00:00\", \"l\": \"sumli\", \"processed_on\": \"2021-10-07T07:03:50.602000+00:00\", \"week\": 1, \"year\": 2021, \"extreme\": \"min\", \"value\": -7.148512840270996, \"period\": \"history\", \"model_var\": \"observed\"}, {\"boxid\": \"VRY.CHOPS-1\", \"date\": \"2021-01-11T00:00:00\", \"l\": \"sumli\", \"processed_on\": \"2021-10-07T07:03:50.602000+00:00\", \"week\": 2, \"year\": 2021, \"extreme\": \"min\", \"value\": -32.18048095703125, \"period\": \"history\", \"model_var\": \"observed\"}, {\"boxid\": \"VRY.CHOPS-1\", \"date\": \"2021-01-18T00:00:00\", \"l\": \"sumli\", \"processed_on\": \"2021-10-07T07:03:50.602000+00:00\", \"week\": 3, \"year\": 2021, \"extreme\": \"min\", \"value\": -50.25920104980469, \"period\": \"history\", \"model_var\": \"observed\"}, {\"boxid\": \"VRY.CHOPS-1\", \"date\": \"2021-01-25T00:00:00\", \"l\": \"sumli\", \"processed_on\": \"2021-10-07T07:03:50.602000+00:00\", \"week\": 4, \"year\": 2021, \"extreme\": \"min\", \"value\": -86.7398681640625, \"period\": \"history\", \"model_var\": \"observed\"}, {\"boxid\": \"VRY.CHOPS-1\", \"date\": \"2021-02-01T00:00:00\", \"l\": \"sumli\", \"processed_on\": \"2021-10-07T07:03:50.602000+00:00\", \"week\": 5, \"year\": 2021, \"extreme\": \"min\", \"value\": -95.75816345214844, \"period\": \"history\", \"model_var\": \"observed\"}, {\"boxid\": \"VRY.CHOPS-1\", \"date\": \"2021-02-08T00:00:00\", \"l\": \"sumli\", \"processed_on\": \"2021-10-07T07:03:50.602000+00:00\", \"week\": 6, \"year\": 2021, \"extreme\": \"min\", \"value\": 7.026471138000488, \"period\": \"history\", \"model_var\": \"observed\"}, {\"boxid\": \"VRY.CHOPS-1\", \"date\": \"2021-02-15T00:00:00\", \"l\": \"sumli\", \"processed_on\": \"2021-10-07T07:03:50.602000+00:00\", \"week\": 7, \"year\": 2021, \"extreme\": \"min\", \"value\": -143.82679748535156, \"period\": \"history\", \"model_var\": \"observed\"}, {\"boxid\": \"VRY.CHOPS-1\", \"date\": \"2021-02-22T00:00:00\", \"l\": \"sumli\", \"processed_on\": \"2021-10-07T07:03:50.602000+00:00\", \"week\": 8, \"year\": 2021, \"extreme\": \"min\", \"value\": -181.45779418945312, \"period\": \"history\", \"model_var\": \"observed\"}, {\"boxid\": \"VRY.CHOPS-1\", \"date\": \"2021-03-01T00:00:00\", \"l\": \"sumli\", \"processed_on\": \"2021-10-07T07:03:50.602000+00:00\", \"week\": 9, \"year\": 2021, \"extreme\": \"min\", \"value\": -193.45249938964844, \"period\": \"history\", \"model_var\": \"observed\"}, {\"boxid\": \"VRY.CHOPS-1\", \"date\": \"2021-03-08T00:00:00\", \"l\": \"sumli\", \"processed_on\": \"2021-10-07T07:03:50.602000+00:00\", \"week\": 10, \"year\": 2021, \"extreme\": \"min\", \"value\": -205.89549255371094, \"period\": \"history\", \"model_var\": \"observed\"}, {\"boxid\": \"VRY.CHOPS-1\", \"date\": \"2021-03-15T00:00:00\", \"l\": \"sumli\", \"processed_on\": \"2021-10-07T07:03:50.602000+00:00\", \"week\": 11, \"year\": 2021, \"extreme\": \"min\", \"value\": -212.14039611816406, \"period\": \"history\", \"model_var\": \"observed\"}, {\"boxid\": \"VRY.CHOPS-1\", \"date\": \"2021-03-22T00:00:00\", \"l\": \"sumli\", \"processed_on\": \"2021-10-07T07:03:50.602000+00:00\", \"week\": 12, \"year\": 2021, \"extreme\": \"min\", \"value\": -237.89669799804688, \"period\": \"history\", \"model_var\": \"observed\"}, {\"boxid\": \"VRY.CHOPS-1\", \"date\": \"2021-03-29T00:00:00\", \"l\": \"sumli\", \"processed_on\": \"2021-10-07T07:03:50.602000+00:00\", \"week\": 13, \"year\": 2021, \"extreme\": \"min\", \"value\": -225.93240356445312, \"period\": \"history\", \"model_var\": \"observed\"}, {\"boxid\": \"VRY.CHOPS-1\", \"date\": \"2021-04-05T00:00:00\", \"l\": \"sumli\", \"processed_on\": \"2021-10-07T07:03:50.602000+00:00\", \"week\": 14, \"year\": 2021, \"extreme\": \"min\", \"value\": -239.647705078125, \"period\": \"history\", \"model_var\": \"observed\"}, {\"boxid\": \"VRY.CHOPS-1\", \"date\": \"2021-04-26T00:00:00\", \"l\": \"sumli\", \"processed_on\": \"2021-10-07T07:03:50.602000+00:00\", \"week\": 17, \"year\": 2021, \"extreme\": \"min\", \"value\": -257.06768798828125, \"period\": \"history\", \"model_var\": \"observed\"}, {\"boxid\": \"VRY.CHOPS-1\", \"date\": \"2021-05-03T00:00:00\", \"l\": \"sumli\", \"processed_on\": \"2021-10-07T07:03:50.602000+00:00\", \"week\": 18, \"year\": 2021, \"extreme\": \"min\", \"value\": -263.0368957519531, \"period\": \"history\", \"model_var\": \"observed\"}, {\"boxid\": \"VRY.CHOPS-1\", \"date\": \"2021-05-10T00:00:00\", \"l\": \"sumli\", \"processed_on\": \"2021-10-07T07:03:50.602000+00:00\", \"week\": 19, \"year\": 2021, \"extreme\": \"min\", \"value\": -275.6112060546875, \"period\": \"history\", \"model_var\": \"observed\"}, {\"boxid\": \"VRY.CHOPS-1\", \"date\": \"2021-05-17T00:00:00\", \"l\": \"sumli\", \"processed_on\": \"2021-10-07T07:03:50.602000+00:00\", \"week\": 20, \"year\": 2021, \"extreme\": \"min\", \"value\": -240.0010986328125, \"period\": \"history\", \"model_var\": \"observed\"}, {\"boxid\": \"VRY.CHOPS-1\", \"date\": \"2021-05-24T00:00:00\", \"l\": \"sumli\", \"processed_on\": \"2021-10-07T07:03:50.602000+00:00\", \"week\": 21, \"year\": 2021, \"extreme\": \"min\", \"value\": -269.4924011230469, \"period\": \"history\", \"model_var\": \"observed\"}, {\"boxid\": \"VRY.CHOPS-1\", \"date\": \"2021-05-31T00:00:00\", \"l\": \"sumli\", \"processed_on\": \"2021-10-07T07:03:50.602000+00:00\", \"week\": 22, \"year\": 2021, \"extreme\": \"min\", \"value\": -265.5639953613281, \"period\": \"history\", \"model_var\": \"observed\"}, {\"boxid\": \"VRY.CHOPS-1\", \"date\": \"2021-06-07T00:00:00\", \"l\": \"sumli\", \"processed_on\": \"2021-10-07T07:03:50.602000+00:00\", \"week\": 23, \"year\": 2021, \"extreme\": \"min\", \"value\": -275.9429016113281, \"period\": \"history\", \"model_var\": \"observed\"}, {\"boxid\": \"VRY.CHOPS-1\", \"date\": \"2021-06-14T00:00:00\", \"l\": \"sumli\", \"processed_on\": \"2021-10-07T07:03:50.602000+00:00\", \"week\": 24, \"year\": 2021, \"extreme\": \"min\", \"value\": -248.19790649414062, \"period\": \"history\", \"model_var\": \"observed\"}, {\"boxid\": \"VRY.CHOPS-1\", \"date\": \"2021-06-21T00:00:00\", \"l\": \"sumli\", \"processed_on\": \"2021-10-07T07:03:50.602000+00:00\", \"week\": 25, \"year\": 2021, \"extreme\": \"min\", \"value\": -237.73699951171875, \"period\": \"history\", \"model_var\": \"observed\"}, {\"boxid\": \"VRY.CHOPS-1\", \"date\": \"2021-06-28T00:00:00\", \"l\": \"sumli\", \"processed_on\": \"2021-10-07T07:03:50.602000+00:00\", \"week\": 26, \"year\": 2021, \"extreme\": \"min\", \"value\": -249.968994140625, \"period\": \"history\", \"model_var\": \"observed\"}, {\"boxid\": \"VRY.CHOPS-1\", \"date\": \"2021-07-05T00:00:00\", \"l\": \"sumli\", \"processed_on\": \"2021-10-07T07:03:50.602000+00:00\", \"week\": 27, \"year\": 2021, \"extreme\": \"min\", \"value\": -260.35589599609375, \"period\": \"history\", \"model_var\": \"observed\"}, {\"boxid\": \"VRY.CHOPS-1\", \"date\": \"2021-07-12T00:00:00\", \"l\": \"sumli\", \"processed_on\": \"2021-10-07T07:03:50.602000+00:00\", \"week\": 28, \"year\": 2021, \"extreme\": \"min\", \"value\": -219.7075958251953, \"period\": \"history\", \"model_var\": \"observed\"}, {\"boxid\": \"VRY.CHOPS-1\", \"date\": \"2021-07-19T00:00:00\", \"l\": \"sumli\", \"processed_on\": \"2021-10-07T07:03:50.602000+00:00\", \"week\": 29, \"year\": 2021, \"extreme\": \"min\", \"value\": -254.65049743652344, \"period\": \"history\", \"model_var\": \"observed\"}, {\"boxid\": \"VRY.CHOPS-1\", \"date\": \"2021-07-26T00:00:00\", \"l\": \"sumli\", \"processed_on\": \"2021-10-07T07:03:50.602000+00:00\", \"week\": 30, \"year\": 2021, \"extreme\": \"min\", \"value\": -264.2327880859375, \"period\": \"history\", \"model_var\": \"observed\"}, {\"boxid\": \"VRY.CHOPS-1\", \"date\": \"2021-08-02T00:00:00\", \"l\": \"sumli\", \"processed_on\": \"2021-10-07T07:03:50.602000+00:00\", \"week\": 31, \"year\": 2021, \"extreme\": \"min\", \"value\": -240.57090759277344, \"period\": \"history\", \"model_var\": \"observed\"}, {\"boxid\": \"VRY.CHOPS-1\", \"date\": \"2021-08-09T00:00:00\", \"l\": \"sumli\", \"processed_on\": \"2021-10-07T07:03:50.602000+00:00\", \"week\": 32, \"year\": 2021, \"extreme\": \"min\", \"value\": -245.71499633789062, \"period\": \"history\", \"model_var\": \"observed\"}, {\"boxid\": \"VRY.CHOPS-1\", \"date\": \"2021-08-16T00:00:00\", \"l\": \"sumli\", \"processed_on\": \"2021-10-07T07:03:50.602000+00:00\", \"week\": 33, \"year\": 2021, \"extreme\": \"min\", \"value\": -219.06640625, \"period\": \"history\", \"model_var\": \"observed\"}, {\"boxid\": \"VRY.CHOPS-1\", \"date\": \"2021-08-23T00:00:00\", \"l\": \"sumli\", \"processed_on\": \"2021-10-07T07:03:50.602000+00:00\", \"week\": 34, \"year\": 2021, \"extreme\": \"min\", \"value\": -256.0473937988281, \"period\": \"history\", \"model_var\": \"observed\"}, {\"boxid\": \"VRY.CHOPS-1\", \"date\": \"2021-08-30T00:00:00\", \"l\": \"sumli\", \"processed_on\": \"2021-10-07T07:03:50.602000+00:00\", \"week\": 35, \"year\": 2021, \"extreme\": \"min\", \"value\": -223.3459930419922, \"period\": \"history\", \"model_var\": \"observed\"}, {\"boxid\": \"VRY.CHOPS-1\", \"date\": \"2021-09-06T00:00:00\", \"l\": \"sumli\", \"processed_on\": \"2021-10-07T07:03:50.602000+00:00\", \"week\": 36, \"year\": 2021, \"extreme\": \"min\", \"value\": -211.977294921875, \"period\": \"history\", \"model_var\": \"observed\"}, {\"boxid\": \"VRY.CHOPS-1\", \"date\": \"2021-09-13T00:00:00\", \"l\": \"sumli\", \"processed_on\": \"2021-10-07T07:03:50.602000+00:00\", \"week\": 37, \"year\": 2021, \"extreme\": \"min\", \"value\": -209.03759765625, \"period\": \"history\", \"model_var\": \"observed\"}, {\"boxid\": \"VRY.CHOPS-1\", \"date\": \"2021-09-20T00:00:00\", \"l\": \"sumli\", \"processed_on\": \"2021-10-07T07:03:50.602000+00:00\", \"week\": 38, \"year\": 2021, \"extreme\": \"min\", \"value\": -223.4949951171875, \"period\": \"history\", \"model_var\": \"observed\"}, {\"boxid\": \"VRY.CHOPS-1\", \"date\": \"2021-09-27T00:00:00\", \"l\": \"sumli\", \"processed_on\": \"2021-10-07T07:03:50.602000+00:00\", \"week\": 39, \"year\": 2021, \"extreme\": \"min\", \"value\": -173.239501953125, \"period\": \"history\", \"model_var\": \"observed\"}]}}, {\"mode\": \"vega-lite\"});\n",
       "</script>"
      ],
      "text/plain": [
       "alt.LayerChart(...)"
      ]
     },
     "execution_count": 22,
     "metadata": {},
     "output_type": "execute_result"
    }
   ],
   "source": [
    "%%time\n",
    "df_data, df_meta = load_data(boxid=boxid)\n",
    "plot_all(df_data=df_data)"
   ]
  },
  {
   "cell_type": "markdown",
   "id": "ffa99fde",
   "metadata": {},
   "source": [
    "## split in train + test"
   ]
  },
  {
   "cell_type": "code",
   "execution_count": null,
   "id": "271a4af7",
   "metadata": {},
   "outputs": [],
   "source": [
    "df_train, df_test = split_last(df_data.copy())"
   ]
  },
  {
   "cell_type": "markdown",
   "id": "f9613f17",
   "metadata": {},
   "source": [
    "## estimate parameters + forecast"
   ]
  },
  {
   "cell_type": "code",
   "execution_count": null,
   "id": "c6cf1b4d",
   "metadata": {
    "scrolled": true
   },
   "outputs": [],
   "source": [
    "%%time\n",
    "df_estimates = determine_estimates_minmax(df_train)\n",
    "df_total=pd.concat([df_data, df_estimates], axis=0)"
   ]
  },
  {
   "cell_type": "markdown",
   "id": "a6eacde5",
   "metadata": {},
   "source": [
    "## plot results"
   ]
  },
  {
   "cell_type": "code",
   "execution_count": null,
   "id": "ed7430ed",
   "metadata": {},
   "outputs": [],
   "source": [
    "plot_all(df_data=df_total, df_meta=df_meta)"
   ]
  },
  {
   "cell_type": "code",
   "execution_count": null,
   "id": "cc158850",
   "metadata": {},
   "outputs": [],
   "source": [
    "plot_decompose(df=df_total.query(\"extreme == 'max'\"))"
   ]
  },
  {
   "cell_type": "code",
   "execution_count": null,
   "id": "e1a9a0e6",
   "metadata": {},
   "outputs": [],
   "source": []
  },
  {
   "cell_type": "code",
   "execution_count": null,
   "id": "681b331b",
   "metadata": {},
   "outputs": [],
   "source": []
  },
  {
   "cell_type": "code",
   "execution_count": null,
   "id": "7096bb01",
   "metadata": {},
   "outputs": [],
   "source": []
  },
  {
   "cell_type": "code",
   "execution_count": null,
   "id": "3836cd87",
   "metadata": {},
   "outputs": [],
   "source": []
  },
  {
   "cell_type": "code",
   "execution_count": null,
   "id": "6b7eaba8",
   "metadata": {},
   "outputs": [],
   "source": []
  }
 ],
 "metadata": {
  "hide_input": false,
  "kernelspec": {
   "display_name": "Python [conda env:spark] *",
   "language": "python",
   "name": "conda-env-spark-py"
  },
  "language_info": {
   "codemirror_mode": {
    "name": "ipython",
    "version": 3
   },
   "file_extension": ".py",
   "mimetype": "text/x-python",
   "name": "python",
   "nbconvert_exporter": "python",
   "pygments_lexer": "ipython3",
   "version": "3.8.10"
  }
 },
 "nbformat": 4,
 "nbformat_minor": 5
}
