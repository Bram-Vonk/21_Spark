{
 "cells": [
  {
   "cell_type": "markdown",
   "id": "76759dfa",
   "metadata": {},
   "source": [
    "## imports"
   ]
  },
  {
   "cell_type": "code",
   "execution_count": null,
   "id": "a56aac50",
   "metadata": {},
   "outputs": [],
   "source": [
    "import os\n",
    "import sys\n",
    "sys.path.append(\"../\")\n",
    "\n",
    "import math\n",
    "\n",
    "import pandas as pd\n",
    "import numpy as np\n",
    "import datetime as dt\n",
    "import re\n",
    "\n",
    "import pymc3 as pm\n",
    "\n",
    "import altair as alt\n",
    "alt.data_transformers.disable_max_rows()\n",
    "\n",
    "from src.preprocess.preprocess import load_data, split_last\n",
    "from src.plot.altair import plot_decompose, plot_all\n",
    "from src.forecast.forecast import determine_estimates_minmax, forecast"
   ]
  },
  {
   "cell_type": "code",
   "execution_count": null,
   "id": "59b4fbae",
   "metadata": {},
   "outputs": [],
   "source": [
    "boxid = [\n",
    "    \"ESD.000088-1\",\n",
    "    \"063.623-1\",\n",
    "    \"VRY.CHOPS-1\",\n",
    "    \"HVT.111153-1\",\n",
    "    \"TTR.251049-1\",\n",
    "    \"BGL.CROLA-1\",\n",
    "][3]"
   ]
  },
  {
   "cell_type": "markdown",
   "id": "6de5761e",
   "metadata": {},
   "source": [
    "## load data"
   ]
  },
  {
   "cell_type": "code",
   "execution_count": null,
   "id": "b9b22fa7",
   "metadata": {},
   "outputs": [],
   "source": [
    "%%time\n",
    "df_data, df_meta = load_data(boxid=boxid)\n",
    "plot_all(df_data=df_data)"
   ]
  },
  {
   "cell_type": "markdown",
   "id": "ffa99fde",
   "metadata": {},
   "source": [
    "## split in train + test"
   ]
  },
  {
   "cell_type": "code",
   "execution_count": null,
   "id": "271a4af7",
   "metadata": {},
   "outputs": [],
   "source": [
    "df_train, df_test = split_last(df_data.copy())"
   ]
  },
  {
   "cell_type": "markdown",
   "id": "f9613f17",
   "metadata": {},
   "source": [
    "## estimate parameters + forecast"
   ]
  },
  {
   "cell_type": "code",
   "execution_count": null,
   "id": "c6cf1b4d",
   "metadata": {
    "scrolled": false
   },
   "outputs": [],
   "source": [
    "%%time\n",
    "df_estimates = determine_estimates_minmax(df_train)\n",
    "df_total=pd.concat([df_data, df_estimates], axis=0)"
   ]
  },
  {
   "cell_type": "markdown",
   "id": "a6eacde5",
   "metadata": {},
   "source": [
    "## plot results"
   ]
  },
  {
   "cell_type": "code",
   "execution_count": null,
   "id": "ed7430ed",
   "metadata": {},
   "outputs": [],
   "source": [
    "plot_all(df_data=df_total, df_meta=df_meta)"
   ]
  },
  {
   "cell_type": "code",
   "execution_count": null,
   "id": "cc158850",
   "metadata": {},
   "outputs": [],
   "source": [
    "plot_decompose(df=df_total.query(\"extreme == 'min'\"))"
   ]
  },
  {
   "cell_type": "code",
   "execution_count": null,
   "id": "e1a9a0e6",
   "metadata": {},
   "outputs": [],
   "source": [
    "df_total"
   ]
  },
  {
   "cell_type": "code",
   "execution_count": null,
   "id": "681b331b",
   "metadata": {},
   "outputs": [],
   "source": []
  },
  {
   "cell_type": "code",
   "execution_count": null,
   "id": "7096bb01",
   "metadata": {},
   "outputs": [],
   "source": []
  },
  {
   "cell_type": "code",
   "execution_count": null,
   "id": "3836cd87",
   "metadata": {},
   "outputs": [],
   "source": []
  },
  {
   "cell_type": "code",
   "execution_count": null,
   "id": "6b7eaba8",
   "metadata": {},
   "outputs": [],
   "source": []
  }
 ],
 "metadata": {
  "hide_input": false,
  "kernelspec": {
   "display_name": "Python [conda env:spark] *",
   "language": "python",
   "name": "conda-env-spark-py"
  },
  "language_info": {
   "codemirror_mode": {
    "name": "ipython",
    "version": 3
   },
   "file_extension": ".py",
   "mimetype": "text/x-python",
   "name": "python",
   "nbconvert_exporter": "python",
   "pygments_lexer": "ipython3",
   "version": "3.8.10"
  }
 },
 "nbformat": 4,
 "nbformat_minor": 5
}
