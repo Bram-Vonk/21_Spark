{
 "cells": [
  {
   "cell_type": "code",
   "execution_count": null,
   "id": "9a9e506c",
   "metadata": {},
   "outputs": [],
   "source": [
    "import os\n",
    "import sys\n",
    "sys.path.append(\"../\")\n",
    "\n",
    "import panel as pn\n",
    "import altair as alt\n",
    "from altair import datum\n",
    "import pandas as pd\n",
    "# from vega_datasets import data\n",
    "import datetime as dt\n",
    "\n",
    "from src.utils.snowflake import read_forecast_meta, read_forecasts\n",
    "from src.plot.altair import plot_all, plot_decompose"
   ]
  },
  {
   "cell_type": "code",
   "execution_count": null,
   "id": "efa12a26",
   "metadata": {},
   "outputs": [],
   "source": [
    "alt.renderers.enable(\"default\")\n",
    "pn.extension(\"vega\")\n",
    "pn.extension('tabulator')\n",
    "# pn.extension(sizing_mode=\"stretch_width\")"
   ]
  },
  {
   "cell_type": "code",
   "execution_count": null,
   "id": "452293a4",
   "metadata": {},
   "outputs": [],
   "source": [
    "df_forecast_meta = read_forecast_meta()\n",
    "df_table = (\n",
    "    df_forecast_meta.rename(\n",
    "        columns={\n",
    "            \"vermogen_nominaal\": \"P_nom\",\n",
    "            \"relative_abs_max\": \"P_max\",\n",
    "            \"date_abs_max\": \"t_max\",\n",
    "        }\n",
    "    )\n",
    "    [[\"boxid\", \"P_max\", \"t_max\", \"vestiging\"]]\n",
    "    .sort_values(by=[\"P_max\", \"t_max\"], ascending=[False, True])\n",
    ")\n",
    "df_table[\"t_max\"] = pd.to_datetime(df_table[\"t_max\"]).dt.date\n",
    "df_table"
   ]
  },
  {
   "cell_type": "code",
   "execution_count": null,
   "id": "f7a16d61",
   "metadata": {},
   "outputs": [],
   "source": [
    "tabulator_formatters = {\n",
    "    \"float\": {\"type\": \"progress\", \"max\": 1},\n",
    "    \"bool\": {\"type\": \"tickCross\"},\n",
    "}\n",
    "\n",
    "table = pn.widgets.Tabulator(\n",
    "    df_table.copy(),\n",
    "#     formatters=tabulator_formatters,\n",
    "    show_index=False,\n",
    "    disabled=True,\n",
    "    selectable=1,\n",
    "    height=500,\n",
    "    width=400,\n",
    "    selection=[0],\n",
    "    width_policy=\"min\",\n",
    ")\n",
    "\n",
    "vestigingen = list(df_table[\"vestiging\"].unique())\n",
    "choice_vestiging = pn.widgets.CheckButtonGroup(\n",
    "    name='regio', \n",
    "    value=vestigingen, \n",
    "    options=vestigingen,\n",
    "    width=1100,\n",
    ")\n",
    "\n",
    "table.add_filter(choice_vestiging, \"vestiging\")\n",
    "\n",
    "def update_tabs(selection):\n",
    "    # extract boxid\n",
    "    boxid = table.value[\"boxid\"].iloc[selection].squeeze()\n",
    "    \n",
    "    df_total = read_forecasts(boxid=boxid)\n",
    "    \n",
    "    plot_total = plot_all(\n",
    "        df_data=df_total, df_meta=df_forecast_meta[df_forecast_meta[\"boxid\"]==boxid]\n",
    "    ).properties(width=600, height=400)\n",
    "    \n",
    "    plot_min = plot_decompose(df_total[df_total[\"extreme\"]==\"min\"])\n",
    "    \n",
    "    plot_max = plot_decompose(df_total[df_total[\"extreme\"]==\"max\"])\n",
    "    \n",
    "    return pn.Tabs((\"general\", plot_total), (\"breakdown min\", plot_min), (\"breakdown max\", plot_max), width_policy=\"max\")\n",
    "\n",
    "tabs = pn.bind(update_tabs, selection=table.param.selection)\n",
    "    \n",
    "panel = pn.Column(choice_vestiging, pn.Row(table, tabs, min_height=500))\n",
    "    \n",
    "pn.serve(panel)"
   ]
  },
  {
   "cell_type": "code",
   "execution_count": null,
   "id": "b0da6b04",
   "metadata": {},
   "outputs": [],
   "source": []
  }
 ],
 "metadata": {
  "hide_input": false,
  "kernelspec": {
   "display_name": "Python [conda env:spark] *",
   "language": "python",
   "name": "conda-env-spark-py"
  },
  "language_info": {
   "codemirror_mode": {
    "name": "ipython",
    "version": 3
   },
   "file_extension": ".py",
   "mimetype": "text/x-python",
   "name": "python",
   "nbconvert_exporter": "python",
   "pygments_lexer": "ipython3",
   "version": "3.8.10"
  }
 },
 "nbformat": 4,
 "nbformat_minor": 5
}
