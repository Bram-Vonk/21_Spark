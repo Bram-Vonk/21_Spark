{
 "cells": [
  {
   "cell_type": "code",
   "execution_count": null,
   "id": "9a9e506c",
   "metadata": {},
   "outputs": [],
   "source": [
    "import os\n",
    "import sys\n",
    "sys.path.append(\"../\")\n",
    "\n",
    "import panel as pn\n",
    "import altair as alt\n",
    "from altair import datum\n",
    "import pandas as pd\n",
    "# from vega_datasets import data\n",
    "import datetime as dt\n",
    "\n",
    "from src.utils.snowflake import read_forecast_meta, read_forecasts\n",
    "from src.plot.altair import plot_all, plot_decompose"
   ]
  },
  {
   "cell_type": "code",
   "execution_count": null,
   "id": "efa12a26",
   "metadata": {},
   "outputs": [],
   "source": [
    "alt.renderers.enable(\"default\")\n",
    "pn.extension('tabulator')\n",
    "# pn.extension(\"vega\")"
   ]
  },
  {
   "cell_type": "code",
   "execution_count": null,
   "id": "452293a4",
   "metadata": {},
   "outputs": [],
   "source": [
    "df_forecast_meta = read_forecast_meta()\n",
    "df_table = (\n",
    "    df_forecast_meta.rename(\n",
    "        columns={\n",
    "            \"vermogen_nominaal\": \"P_nom\",\n",
    "            \"relative_abs_max\": \"P_max\",\n",
    "            \"date_abs_max\": \"t_max\",\n",
    "        }\n",
    "    )\n",
    "    .drop(columns=[\"processed_on\", \"l\", \"stationsnummer\", \"P_nom\"])\n",
    "    .sort_values(by=[\"P_max\", \"t_max\"], ascending=[False, True])\n",
    ")"
   ]
  },
  {
   "cell_type": "code",
   "execution_count": null,
   "id": "1884e13b",
   "metadata": {},
   "outputs": [],
   "source": [
    "tabulator_formatters = {\n",
    "    \"float\": {\"type\": \"progress\", \"max\": 1},\n",
    "    \"bool\": {\"type\": \"tickCross\"},\n",
    "}\n",
    "\n",
    "table = pn.widgets.Tabulator(\n",
    "    df_table,\n",
    "    formatters=tabulator_formatters,\n",
    "    show_index=False,\n",
    "    disabled=True,\n",
    "    selectable=True,\n",
    "    height=500,\n",
    "    width=280,\n",
    ")"
   ]
  },
  {
   "cell_type": "code",
   "execution_count": null,
   "id": "f9ca333b",
   "metadata": {},
   "outputs": [],
   "source": [
    "boxid = \"VRY.HOESW-1\""
   ]
  },
  {
   "cell_type": "code",
   "execution_count": null,
   "id": "a423a612",
   "metadata": {
    "scrolled": true
   },
   "outputs": [],
   "source": [
    "df_total = read_forecasts(boxid=boxid)"
   ]
  },
  {
   "cell_type": "code",
   "execution_count": null,
   "id": "6b9511c3",
   "metadata": {},
   "outputs": [],
   "source": [
    "plot_total = plot_all(\n",
    "    df_data=df_total, df_meta=df_forecast_meta.query(f\"boxid == '{boxid}'\")\n",
    ").properties(width=550, height=400)\n",
    "\n",
    "plot_min = plot_decompose(df_total.query(\"extreme == 'min'\"))\n",
    "\n",
    "plot_max = plot_decompose(df_total.query(\"extreme == 'max'\"))"
   ]
  },
  {
   "cell_type": "code",
   "execution_count": null,
   "id": "5a9fbdf1",
   "metadata": {},
   "outputs": [],
   "source": [
    "tabs = pn.Tabs()\n",
    "tabs.append((\"Total\", plot_total))\n",
    "tabs.append((\"Min\", plot_min))\n",
    "tabs.append((\"Max\", plot_max))"
   ]
  },
  {
   "cell_type": "code",
   "execution_count": null,
   "id": "02622757",
   "metadata": {
    "scrolled": false
   },
   "outputs": [],
   "source": [
    "pn.Row(table, tabs, min_height=500)"
   ]
  },
  {
   "cell_type": "code",
   "execution_count": null,
   "id": "b74967c5",
   "metadata": {},
   "outputs": [],
   "source": []
  },
  {
   "cell_type": "code",
   "execution_count": null,
   "id": "300cce63",
   "metadata": {},
   "outputs": [],
   "source": []
  },
  {
   "cell_type": "code",
   "execution_count": null,
   "id": "858319f5",
   "metadata": {},
   "outputs": [],
   "source": []
  },
  {
   "cell_type": "code",
   "execution_count": null,
   "id": "8862cf85",
   "metadata": {},
   "outputs": [],
   "source": [
    "alt.renderers.enable(\"default\")\n",
    "pn.extension(\"vega\")"
   ]
  },
  {
   "cell_type": "code",
   "execution_count": null,
   "id": "3022953b",
   "metadata": {},
   "outputs": [],
   "source": []
  },
  {
   "cell_type": "code",
   "execution_count": null,
   "id": "32965525",
   "metadata": {},
   "outputs": [],
   "source": [
    "df_meta = read_meta()"
   ]
  },
  {
   "cell_type": "code",
   "execution_count": null,
   "id": "2908f342",
   "metadata": {},
   "outputs": [],
   "source": [
    "df_meta"
   ]
  },
  {
   "cell_type": "code",
   "execution_count": null,
   "id": "14e6b3a8",
   "metadata": {},
   "outputs": [],
   "source": [
    "select_set = [\"regio_netautomatisering\", \"vestiging\"]\n",
    "df_select = df_meta.copy()[select_set].drop_duplicates(subset=select_set).sort_values(select_set)"
   ]
  },
  {
   "cell_type": "code",
   "execution_count": null,
   "id": "56a84b03",
   "metadata": {},
   "outputs": [],
   "source": [
    "\n",
    "regio_checkbuttons = pn.widgets.CheckButtonGroup(\n",
    "    name='regio', \n",
    "    value=list(df_select[\"regio_netautomatisering\"].unique()), \n",
    "    options=list(df_select[\"regio_netautomatisering\"].unique())\n",
    ")\n",
    "\n",
    "vestiging_checkbuttons = pn.widgets.CheckButtonGroup(\n",
    "    name='vestiging', \n",
    "    value=vestigingen, options=vestigingen\n",
    ")\n",
    "\n",
    "pn.Column(regio_checkbuttons, vestiging_checkbuttons)"
   ]
  },
  {
   "cell_type": "code",
   "execution_count": null,
   "id": "af08a72e",
   "metadata": {},
   "outputs": [],
   "source": [
    "df_select[\"regio_netautomatisering\"].unique()"
   ]
  },
  {
   "cell_type": "code",
   "execution_count": null,
   "id": "feb14a8f",
   "metadata": {},
   "outputs": [],
   "source": [
    "df_meta"
   ]
  },
  {
   "cell_type": "code",
   "execution_count": null,
   "id": "b0da6b04",
   "metadata": {},
   "outputs": [],
   "source": []
  }
 ],
 "metadata": {
  "hide_input": false,
  "kernelspec": {
   "display_name": "Python [conda env:spark] *",
   "language": "python",
   "name": "conda-env-spark-py"
  },
  "language_info": {
   "codemirror_mode": {
    "name": "ipython",
    "version": 3
   },
   "file_extension": ".py",
   "mimetype": "text/x-python",
   "name": "python",
   "nbconvert_exporter": "python",
   "pygments_lexer": "ipython3",
   "version": "3.8.10"
  }
 },
 "nbformat": 4,
 "nbformat_minor": 5
}
