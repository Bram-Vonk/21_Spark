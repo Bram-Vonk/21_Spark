{
 "cells": [
  {
   "cell_type": "markdown",
   "id": "c6c6a181",
   "metadata": {},
   "source": [
    "from https://pystan.readthedocs.io/en/latest/getting_started.html"
   ]
  },
  {
   "cell_type": "code",
   "execution_count": null,
   "id": "e1f3582f",
   "metadata": {},
   "outputs": [],
   "source": [
    "import stan\n",
    "import asyncio\n",
    "import nest_asyncio\n",
    "nest_asyncio.apply()\n",
    "\n",
    "schools_code = \"\"\"\n",
    "data {\n",
    "  int<lower=0> J;         // number of schools\n",
    "  real y[J];              // estimated treatment effects\n",
    "  real<lower=0> sigma[J]; // standard error of effect estimates\n",
    "}\n",
    "parameters {\n",
    "  real mu;                // population treatment effect\n",
    "  real<lower=0> tau;      // standard deviation in treatment effects\n",
    "  vector[J] eta;          // unscaled deviation from mu by school\n",
    "}\n",
    "transformed parameters {\n",
    "  vector[J] theta = mu + tau * eta;        // school treatment effects\n",
    "}\n",
    "model {\n",
    "  target += normal_lpdf(eta | 0, 1);       // prior log-density\n",
    "  target += normal_lpdf(y | theta, sigma); // log-likelihood\n",
    "}\n",
    "\"\"\""
   ]
  },
  {
   "cell_type": "code",
   "execution_count": null,
   "id": "44c8e138",
   "metadata": {},
   "outputs": [],
   "source": [
    "schools_data = {\"J\": 8,\n",
    "                \"y\": [28,  8, -3,  7, -1,  1, 18, 12],\n",
    "                \"sigma\": [15, 10, 16, 11,  9, 11, 10, 18]}"
   ]
  },
  {
   "cell_type": "code",
   "execution_count": null,
   "id": "7065e282",
   "metadata": {},
   "outputs": [],
   "source": [
    "posterior = stan.build(schools_code, data=schools_data, random_seed=1)"
   ]
  },
  {
   "cell_type": "code",
   "execution_count": null,
   "id": "a095e647",
   "metadata": {},
   "outputs": [],
   "source": [
    "fit = posterior.sample(num_chains=4, num_samples=1000)"
   ]
  },
  {
   "cell_type": "code",
   "execution_count": null,
   "id": "ad3a44a8",
   "metadata": {},
   "outputs": [],
   "source": [
    "eta = fit[\"eta\"]  # array with shape (8, 4000)"
   ]
  },
  {
   "cell_type": "code",
   "execution_count": null,
   "id": "4930db20",
   "metadata": {},
   "outputs": [],
   "source": [
    "import pandas as pd\n",
    "\n",
    "df = fit.to_frame()"
   ]
  },
  {
   "cell_type": "code",
   "execution_count": null,
   "id": "95906ee4",
   "metadata": {},
   "outputs": [],
   "source": [
    "df"
   ]
  },
  {
   "cell_type": "code",
   "execution_count": null,
   "id": "fcebe9c6",
   "metadata": {},
   "outputs": [],
   "source": []
  }
 ],
 "metadata": {
  "hide_input": false,
  "kernelspec": {
   "display_name": "Python [conda env:spark] *",
   "language": "python",
   "name": "conda-env-spark-py"
  },
  "language_info": {
   "codemirror_mode": {
    "name": "ipython",
    "version": 3
   },
   "file_extension": ".py",
   "mimetype": "text/x-python",
   "name": "python",
   "nbconvert_exporter": "python",
   "pygments_lexer": "ipython3",
   "version": "3.8.10"
  }
 },
 "nbformat": 4,
 "nbformat_minor": 5
}
