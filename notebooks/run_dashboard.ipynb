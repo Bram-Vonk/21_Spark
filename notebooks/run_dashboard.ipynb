{
 "cells": [
  {
   "cell_type": "code",
   "execution_count": null,
   "id": "c0d09f3a",
   "metadata": {},
   "outputs": [],
   "source": [
    "import sys\n",
    "sys.path.append(\"../\")\n",
    "\n",
    "from src.plot.dashboard import build_dashboard"
   ]
  },
  {
   "cell_type": "code",
   "execution_count": null,
   "id": "0be55bf4",
   "metadata": {},
   "outputs": [],
   "source": [
    "build_dashboard();"
   ]
  },
  {
   "cell_type": "markdown",
   "id": "5dbc2ba8",
   "metadata": {},
   "source": [
    "## debug / speed up"
   ]
  },
  {
   "cell_type": "code",
   "execution_count": null,
   "id": "4475254d",
   "metadata": {},
   "outputs": [],
   "source": [
    "# import sys\n",
    "# sys.path.append(\"../\")\n",
    "\n",
    "# from src.utils.snowflake import read_forecast_meta, read_forecasts"
   ]
  },
  {
   "cell_type": "code",
   "execution_count": null,
   "id": "37df23d5",
   "metadata": {},
   "outputs": [],
   "source": [
    "# boxid = [\"063.669-1\", \"063.555-1\"]"
   ]
  },
  {
   "cell_type": "code",
   "execution_count": null,
   "id": "4b7eb820",
   "metadata": {},
   "outputs": [],
   "source": [
    "# read_forecasts(boxid[0])"
   ]
  },
  {
   "cell_type": "code",
   "execution_count": null,
   "id": "2d9a49c0",
   "metadata": {},
   "outputs": [],
   "source": [
    "# read_forecast_meta()"
   ]
  }
 ],
 "metadata": {
  "hide_input": false,
  "kernelspec": {
   "display_name": "Python [conda env:spark] *",
   "language": "python",
   "name": "conda-env-spark-py"
  },
  "language_info": {
   "codemirror_mode": {
    "name": "ipython",
    "version": 3
   },
   "file_extension": ".py",
   "mimetype": "text/x-python",
   "name": "python",
   "nbconvert_exporter": "python",
   "pygments_lexer": "ipython3",
   "version": "3.8.10"
  }
 },
 "nbformat": 4,
 "nbformat_minor": 5
}
