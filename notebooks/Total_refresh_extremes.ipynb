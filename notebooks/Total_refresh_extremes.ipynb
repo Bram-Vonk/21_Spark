{
 "cells": [
  {
   "cell_type": "markdown",
   "id": "ec1c9ab9",
   "metadata": {},
   "source": [
    "This notebook contains the code to refresh the total extremes table on snowflake."
   ]
  },
  {
   "cell_type": "code",
   "execution_count": null,
   "id": "aaf920d9",
   "metadata": {},
   "outputs": [],
   "source": [
    "import sys\n",
    "sys.path.append(\"../\")\n",
    "\n",
    "from src.utils.snowflake import create_week_extremes"
   ]
  },
  {
   "cell_type": "code",
   "execution_count": null,
   "id": "8d663a8b",
   "metadata": {},
   "outputs": [],
   "source": [
    "create_week_extremes()"
   ]
  },
  {
   "cell_type": "code",
   "execution_count": null,
   "id": "1d778293",
   "metadata": {},
   "outputs": [],
   "source": []
  }
 ],
 "metadata": {
  "hide_input": false,
  "kernelspec": {
   "display_name": "Python [conda env:spark] *",
   "language": "python",
   "name": "conda-env-spark-py"
  },
  "language_info": {
   "codemirror_mode": {
    "name": "ipython",
    "version": 3
   },
   "file_extension": ".py",
   "mimetype": "text/x-python",
   "name": "python",
   "nbconvert_exporter": "python",
   "pygments_lexer": "ipython3",
   "version": "3.8.10"
  }
 },
 "nbformat": 4,
 "nbformat_minor": 5
}
