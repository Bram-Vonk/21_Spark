{
 "cells": [
  {
   "cell_type": "code",
   "execution_count": null,
   "id": "ac2cd915",
   "metadata": {},
   "outputs": [],
   "source": [
    "import os\n",
    "import sys\n",
    "sys.path.append(\"../\")\n",
    "\n",
    "# from src.utils.snowflake import read_meta, clear_forecasts, write_forecasts\n",
    "from src.forecast.make_forecasts import make_forecasts"
   ]
  },
  {
   "cell_type": "code",
   "execution_count": null,
   "id": "4b5d6f68",
   "metadata": {
    "scrolled": true
   },
   "outputs": [],
   "source": [
    "make_forecasts()"
   ]
  },
  {
   "cell_type": "code",
   "execution_count": null,
   "id": "a25d49f4",
   "metadata": {},
   "outputs": [],
   "source": [
    "# from src.utils.snowflake import clear_forecasts\n",
    "# clear_forecasts()"
   ]
  }
 ],
 "metadata": {
  "hide_input": false,
  "kernelspec": {
   "display_name": "Python [conda env:spark] *",
   "language": "python",
   "name": "conda-env-spark-py"
  },
  "language_info": {
   "codemirror_mode": {
    "name": "ipython",
    "version": 3
   },
   "file_extension": ".py",
   "mimetype": "text/x-python",
   "name": "python",
   "nbconvert_exporter": "python",
   "pygments_lexer": "ipython3",
   "version": "3.8.10"
  }
 },
 "nbformat": 4,
 "nbformat_minor": 5
}
