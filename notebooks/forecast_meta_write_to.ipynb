{
 "cells": [
  {
   "cell_type": "markdown",
   "id": "140e7fe2",
   "metadata": {},
   "source": [
    "## imports"
   ]
  },
  {
   "cell_type": "code",
   "execution_count": null,
   "id": "a56aac50",
   "metadata": {},
   "outputs": [],
   "source": [
    "import os\n",
    "import sys\n",
    "sys.path.append(\"../\")\n",
    "\n",
    "import math\n",
    "\n",
    "import pandas as pd\n",
    "import numpy as np\n",
    "import datetime as dt\n",
    "import re\n",
    "\n",
    "import pymc3 as pm\n",
    "\n",
    "import altair as alt\n",
    "alt.data_transformers.disable_max_rows()\n",
    "\n",
    "from src.forecast.forecast import forecast\n",
    "from src.utils.snowflake import clear_forecast_meta, read_forecasts, read_meta, write_forecast_meta\n",
    "from src.utils.snowflake import get_forecasted_boxids\n",
    "from src.forecast.assess import asses_forecasts"
   ]
  },
  {
   "cell_type": "code",
   "execution_count": null,
   "id": "a290b51e",
   "metadata": {},
   "outputs": [],
   "source": [
    "df_forecasted = get_forecasted_boxids()\n",
    "df_forecasted"
   ]
  },
  {
   "cell_type": "code",
   "execution_count": null,
   "id": "716b6e53",
   "metadata": {
    "scrolled": true
   },
   "outputs": [],
   "source": [
    "for boxid in list(df_forecasted[\"boxid\"]):\n",
    "    df_total = read_forecasts(boxid=boxid)\n",
    "    df_meta = read_meta(boxid=boxid)\n",
    "    \n",
    "    df_forecast_meta = asses_forecasts(df_total=df_total, df_meta=df_meta)\n",
    "    write_forecast_meta(df_forecast_meta)"
   ]
  },
  {
   "cell_type": "code",
   "execution_count": null,
   "id": "e68a975e",
   "metadata": {},
   "outputs": [],
   "source": []
  },
  {
   "cell_type": "code",
   "execution_count": null,
   "id": "c7132a3c",
   "metadata": {},
   "outputs": [],
   "source": []
  },
  {
   "cell_type": "code",
   "execution_count": null,
   "id": "2ced6a18",
   "metadata": {},
   "outputs": [],
   "source": []
  },
  {
   "cell_type": "code",
   "execution_count": null,
   "id": "4320ed3e",
   "metadata": {},
   "outputs": [],
   "source": [
    "# clear_forecast_meta()"
   ]
  },
  {
   "cell_type": "code",
   "execution_count": null,
   "id": "e92197cc",
   "metadata": {},
   "outputs": [],
   "source": []
  }
 ],
 "metadata": {
  "hide_input": false,
  "kernelspec": {
   "display_name": "Python [conda env:spark] *",
   "language": "python",
   "name": "conda-env-spark-py"
  },
  "language_info": {
   "codemirror_mode": {
    "name": "ipython",
    "version": 3
   },
   "file_extension": ".py",
   "mimetype": "text/x-python",
   "name": "python",
   "nbconvert_exporter": "python",
   "pygments_lexer": "ipython3",
   "version": "3.8.10"
  }
 },
 "nbformat": 4,
 "nbformat_minor": 5
}
