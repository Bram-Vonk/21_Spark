{
 "cells": [
  {
   "cell_type": "code",
   "execution_count": null,
   "id": "675f5607",
   "metadata": {},
   "outputs": [],
   "source": [
    "import os\n",
    "import sys\n",
    "sys.path.append(\"../\")\n",
    "\n",
    "import pandas as pd\n",
    "import numpy as np\n",
    "import datetime as dt\n",
    "import re\n",
    "\n",
    "# import logging\n",
    "# logger = logging.getLogger('SPARK')\n",
    "# logger.setLevel(level=logging.WARNING)\n",
    "\n",
    "import altair as alt\n",
    "alt.data_transformers.disable_max_rows()\n",
    "\n",
    "from src.data.preprocess import load_data\n",
    "from src.plot.altair import plot_total\n",
    "from src.plot.formatting import split_last, dummy_forecast"
   ]
  },
  {
   "cell_type": "code",
   "execution_count": null,
   "id": "bea354e9",
   "metadata": {},
   "outputs": [],
   "source": [
    "boxids = [\n",
    "    \"ESD.000088-1\",\n",
    "    \"063.623-1\",\n",
    "    \"VRY.CHOPS-1\",\n",
    "    \"HVT.111153-1\",\n",
    "    \"TTR.251049-1\",\n",
    "    \"BGL.CROLA-1\",\n",
    "#     \"ESD.000028-1\",\n",
    "#     \"HVT.371157-1\",\n",
    "#     \"GNG.ts0521-1\",\n",
    "#     \"166.631-1\",\n",
    "]"
   ]
  },
  {
   "cell_type": "code",
   "execution_count": null,
   "id": "2885b697",
   "metadata": {},
   "outputs": [],
   "source": [
    "boxid = boxids[-3]"
   ]
  },
  {
   "cell_type": "code",
   "execution_count": null,
   "id": "77455a55",
   "metadata": {},
   "outputs": [],
   "source": [
    "df_data, df_meta = load_data(boxid=boxid)"
   ]
  },
  {
   "cell_type": "code",
   "execution_count": null,
   "id": "089621aa",
   "metadata": {},
   "outputs": [],
   "source": [
    "df_train, df_test = split_last(df_data)\n",
    "df_focast = dummy_forecast(df_test)\n",
    "plot_total(df_data=df_train, df_meta=df_meta, df_forecast=df_focast)"
   ]
  },
  {
   "cell_type": "code",
   "execution_count": null,
   "id": "2f86a8d1",
   "metadata": {},
   "outputs": [],
   "source": []
  },
  {
   "cell_type": "code",
   "execution_count": null,
   "id": "fcfd9cc9",
   "metadata": {},
   "outputs": [],
   "source": []
  }
 ],
 "metadata": {
  "hide_input": false,
  "kernelspec": {
   "display_name": "Python [conda env:spark] *",
   "language": "python",
   "name": "conda-env-spark-py"
  },
  "language_info": {
   "codemirror_mode": {
    "name": "ipython",
    "version": 3
   },
   "file_extension": ".py",
   "mimetype": "text/x-python",
   "name": "python",
   "nbconvert_exporter": "python",
   "pygments_lexer": "ipython3",
   "version": "3.8.10"
  }
 },
 "nbformat": 4,
 "nbformat_minor": 5
}
